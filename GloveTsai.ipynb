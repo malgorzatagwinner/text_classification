{
  "nbformat": 4,
  "nbformat_minor": 0,
  "metadata": {
    "colab": {
      "provenance": [],
      "collapsed_sections": [],
      "include_colab_link": true
    },
    "kernelspec": {
      "name": "python3",
      "display_name": "Python 3"
    },
    "language_info": {
      "name": "python"
    },
    "accelerator": "GPU",
    "gpuClass": "standard",
    "widgets": {
      "application/vnd.jupyter.widget-state+json": {
        "05d9fcedd64647299c23ed85408b419e": {
          "model_module": "@jupyter-widgets/controls",
          "model_name": "HBoxModel",
          "model_module_version": "1.5.0",
          "state": {
            "_dom_classes": [],
            "_model_module": "@jupyter-widgets/controls",
            "_model_module_version": "1.5.0",
            "_model_name": "HBoxModel",
            "_view_count": null,
            "_view_module": "@jupyter-widgets/controls",
            "_view_module_version": "1.5.0",
            "_view_name": "HBoxView",
            "box_style": "",
            "children": [
              "IPY_MODEL_2cb3072b8f2e42b49aef994be1062991",
              "IPY_MODEL_4465d1d17e414e8ca257e6ce4734edd3",
              "IPY_MODEL_eb25fd0b7fbb44dcac11a86271af4cda"
            ],
            "layout": "IPY_MODEL_514ec82ea867478dbd654251203b11c0"
          }
        },
        "2cb3072b8f2e42b49aef994be1062991": {
          "model_module": "@jupyter-widgets/controls",
          "model_name": "HTMLModel",
          "model_module_version": "1.5.0",
          "state": {
            "_dom_classes": [],
            "_model_module": "@jupyter-widgets/controls",
            "_model_module_version": "1.5.0",
            "_model_name": "HTMLModel",
            "_view_count": null,
            "_view_module": "@jupyter-widgets/controls",
            "_view_module_version": "1.5.0",
            "_view_name": "HTMLView",
            "description": "",
            "description_tooltip": null,
            "layout": "IPY_MODEL_a6bab1627f3c417a987549a22242528e",
            "placeholder": "​",
            "style": "IPY_MODEL_ff76590d232f4dce864b5c3f0fae8082",
            "value": "  0%"
          }
        },
        "4465d1d17e414e8ca257e6ce4734edd3": {
          "model_module": "@jupyter-widgets/controls",
          "model_name": "FloatProgressModel",
          "model_module_version": "1.5.0",
          "state": {
            "_dom_classes": [],
            "_model_module": "@jupyter-widgets/controls",
            "_model_module_version": "1.5.0",
            "_model_name": "FloatProgressModel",
            "_view_count": null,
            "_view_module": "@jupyter-widgets/controls",
            "_view_module_version": "1.5.0",
            "_view_name": "ProgressView",
            "bar_style": "",
            "description": "",
            "description_tooltip": null,
            "layout": "IPY_MODEL_02ddf8d4524d4aa4817d06843ad147c9",
            "max": 100,
            "min": 0,
            "orientation": "horizontal",
            "style": "IPY_MODEL_5b19316116094ad0a74fee27bf8081c9",
            "value": 0
          }
        },
        "eb25fd0b7fbb44dcac11a86271af4cda": {
          "model_module": "@jupyter-widgets/controls",
          "model_name": "HTMLModel",
          "model_module_version": "1.5.0",
          "state": {
            "_dom_classes": [],
            "_model_module": "@jupyter-widgets/controls",
            "_model_module_version": "1.5.0",
            "_model_name": "HTMLModel",
            "_view_count": null,
            "_view_module": "@jupyter-widgets/controls",
            "_view_module_version": "1.5.0",
            "_view_name": "HTMLView",
            "description": "",
            "description_tooltip": null,
            "layout": "IPY_MODEL_b31e97b992584ffdac0e6b9f8dc2a13c",
            "placeholder": "​",
            "style": "IPY_MODEL_6de830120b2048a49e097a46725221a1",
            "value": " 0/100 [00:00&lt;?, ?it/s]"
          }
        },
        "514ec82ea867478dbd654251203b11c0": {
          "model_module": "@jupyter-widgets/base",
          "model_name": "LayoutModel",
          "model_module_version": "1.2.0",
          "state": {
            "_model_module": "@jupyter-widgets/base",
            "_model_module_version": "1.2.0",
            "_model_name": "LayoutModel",
            "_view_count": null,
            "_view_module": "@jupyter-widgets/base",
            "_view_module_version": "1.2.0",
            "_view_name": "LayoutView",
            "align_content": null,
            "align_items": null,
            "align_self": null,
            "border": null,
            "bottom": null,
            "display": null,
            "flex": null,
            "flex_flow": null,
            "grid_area": null,
            "grid_auto_columns": null,
            "grid_auto_flow": null,
            "grid_auto_rows": null,
            "grid_column": null,
            "grid_gap": null,
            "grid_row": null,
            "grid_template_areas": null,
            "grid_template_columns": null,
            "grid_template_rows": null,
            "height": null,
            "justify_content": null,
            "justify_items": null,
            "left": null,
            "margin": null,
            "max_height": null,
            "max_width": null,
            "min_height": null,
            "min_width": null,
            "object_fit": null,
            "object_position": null,
            "order": null,
            "overflow": null,
            "overflow_x": null,
            "overflow_y": null,
            "padding": null,
            "right": null,
            "top": null,
            "visibility": null,
            "width": null
          }
        },
        "a6bab1627f3c417a987549a22242528e": {
          "model_module": "@jupyter-widgets/base",
          "model_name": "LayoutModel",
          "model_module_version": "1.2.0",
          "state": {
            "_model_module": "@jupyter-widgets/base",
            "_model_module_version": "1.2.0",
            "_model_name": "LayoutModel",
            "_view_count": null,
            "_view_module": "@jupyter-widgets/base",
            "_view_module_version": "1.2.0",
            "_view_name": "LayoutView",
            "align_content": null,
            "align_items": null,
            "align_self": null,
            "border": null,
            "bottom": null,
            "display": null,
            "flex": null,
            "flex_flow": null,
            "grid_area": null,
            "grid_auto_columns": null,
            "grid_auto_flow": null,
            "grid_auto_rows": null,
            "grid_column": null,
            "grid_gap": null,
            "grid_row": null,
            "grid_template_areas": null,
            "grid_template_columns": null,
            "grid_template_rows": null,
            "height": null,
            "justify_content": null,
            "justify_items": null,
            "left": null,
            "margin": null,
            "max_height": null,
            "max_width": null,
            "min_height": null,
            "min_width": null,
            "object_fit": null,
            "object_position": null,
            "order": null,
            "overflow": null,
            "overflow_x": null,
            "overflow_y": null,
            "padding": null,
            "right": null,
            "top": null,
            "visibility": null,
            "width": null
          }
        },
        "ff76590d232f4dce864b5c3f0fae8082": {
          "model_module": "@jupyter-widgets/controls",
          "model_name": "DescriptionStyleModel",
          "model_module_version": "1.5.0",
          "state": {
            "_model_module": "@jupyter-widgets/controls",
            "_model_module_version": "1.5.0",
            "_model_name": "DescriptionStyleModel",
            "_view_count": null,
            "_view_module": "@jupyter-widgets/base",
            "_view_module_version": "1.2.0",
            "_view_name": "StyleView",
            "description_width": ""
          }
        },
        "02ddf8d4524d4aa4817d06843ad147c9": {
          "model_module": "@jupyter-widgets/base",
          "model_name": "LayoutModel",
          "model_module_version": "1.2.0",
          "state": {
            "_model_module": "@jupyter-widgets/base",
            "_model_module_version": "1.2.0",
            "_model_name": "LayoutModel",
            "_view_count": null,
            "_view_module": "@jupyter-widgets/base",
            "_view_module_version": "1.2.0",
            "_view_name": "LayoutView",
            "align_content": null,
            "align_items": null,
            "align_self": null,
            "border": null,
            "bottom": null,
            "display": null,
            "flex": null,
            "flex_flow": null,
            "grid_area": null,
            "grid_auto_columns": null,
            "grid_auto_flow": null,
            "grid_auto_rows": null,
            "grid_column": null,
            "grid_gap": null,
            "grid_row": null,
            "grid_template_areas": null,
            "grid_template_columns": null,
            "grid_template_rows": null,
            "height": null,
            "justify_content": null,
            "justify_items": null,
            "left": null,
            "margin": null,
            "max_height": null,
            "max_width": null,
            "min_height": null,
            "min_width": null,
            "object_fit": null,
            "object_position": null,
            "order": null,
            "overflow": null,
            "overflow_x": null,
            "overflow_y": null,
            "padding": null,
            "right": null,
            "top": null,
            "visibility": null,
            "width": null
          }
        },
        "5b19316116094ad0a74fee27bf8081c9": {
          "model_module": "@jupyter-widgets/controls",
          "model_name": "ProgressStyleModel",
          "model_module_version": "1.5.0",
          "state": {
            "_model_module": "@jupyter-widgets/controls",
            "_model_module_version": "1.5.0",
            "_model_name": "ProgressStyleModel",
            "_view_count": null,
            "_view_module": "@jupyter-widgets/base",
            "_view_module_version": "1.2.0",
            "_view_name": "StyleView",
            "bar_color": null,
            "description_width": ""
          }
        },
        "b31e97b992584ffdac0e6b9f8dc2a13c": {
          "model_module": "@jupyter-widgets/base",
          "model_name": "LayoutModel",
          "model_module_version": "1.2.0",
          "state": {
            "_model_module": "@jupyter-widgets/base",
            "_model_module_version": "1.2.0",
            "_model_name": "LayoutModel",
            "_view_count": null,
            "_view_module": "@jupyter-widgets/base",
            "_view_module_version": "1.2.0",
            "_view_name": "LayoutView",
            "align_content": null,
            "align_items": null,
            "align_self": null,
            "border": null,
            "bottom": null,
            "display": null,
            "flex": null,
            "flex_flow": null,
            "grid_area": null,
            "grid_auto_columns": null,
            "grid_auto_flow": null,
            "grid_auto_rows": null,
            "grid_column": null,
            "grid_gap": null,
            "grid_row": null,
            "grid_template_areas": null,
            "grid_template_columns": null,
            "grid_template_rows": null,
            "height": null,
            "justify_content": null,
            "justify_items": null,
            "left": null,
            "margin": null,
            "max_height": null,
            "max_width": null,
            "min_height": null,
            "min_width": null,
            "object_fit": null,
            "object_position": null,
            "order": null,
            "overflow": null,
            "overflow_x": null,
            "overflow_y": null,
            "padding": null,
            "right": null,
            "top": null,
            "visibility": null,
            "width": null
          }
        },
        "6de830120b2048a49e097a46725221a1": {
          "model_module": "@jupyter-widgets/controls",
          "model_name": "DescriptionStyleModel",
          "model_module_version": "1.5.0",
          "state": {
            "_model_module": "@jupyter-widgets/controls",
            "_model_module_version": "1.5.0",
            "_model_name": "DescriptionStyleModel",
            "_view_count": null,
            "_view_module": "@jupyter-widgets/base",
            "_view_module_version": "1.2.0",
            "_view_name": "StyleView",
            "description_width": ""
          }
        }
      }
    }
  },
  "cells": [
    {
      "cell_type": "markdown",
      "metadata": {
        "id": "view-in-github",
        "colab_type": "text"
      },
      "source": [
        "<a href=\"https://colab.research.google.com/github/malgorzatagwinner/text_classification/blob/main/GloveTsai.ipynb\" target=\"_parent\"><img src=\"https://colab.research.google.com/assets/colab-badge.svg\" alt=\"Open In Colab\"/></a>"
      ]
    },
    {
      "cell_type": "code",
      "execution_count": null,
      "metadata": {
        "id": "0ca4de64",
        "colab": {
          "base_uri": "https://localhost:8080/",
          "height": 539
        },
        "outputId": "96161fc9-8177-47fd-8dbf-c0a5ec869e0b"
      },
      "outputs": [
        {
          "output_type": "stream",
          "name": "stdout",
          "text": [
            "Looking in indexes: https://pypi.org/simple, https://us-python.pkg.dev/colab-wheels/public/simple/\n",
            "Collecting umap-learn\n",
            "  Downloading umap-learn-0.5.3.tar.gz (88 kB)\n",
            "\u001b[K     |████████████████████████████████| 88 kB 6.6 MB/s \n",
            "\u001b[?25hRequirement already satisfied: numpy>=1.17 in /usr/local/lib/python3.7/dist-packages (from umap-learn) (1.21.6)\n",
            "Requirement already satisfied: scikit-learn>=0.22 in /usr/local/lib/python3.7/dist-packages (from umap-learn) (1.0.2)\n",
            "Requirement already satisfied: scipy>=1.0 in /usr/local/lib/python3.7/dist-packages (from umap-learn) (1.7.3)\n",
            "Requirement already satisfied: numba>=0.49 in /usr/local/lib/python3.7/dist-packages (from umap-learn) (0.56.0)\n",
            "Collecting pynndescent>=0.5\n",
            "  Downloading pynndescent-0.5.7.tar.gz (1.1 MB)\n",
            "\u001b[K     |████████████████████████████████| 1.1 MB 46.8 MB/s \n",
            "\u001b[?25hRequirement already satisfied: tqdm in /usr/local/lib/python3.7/dist-packages (from umap-learn) (4.64.0)\n",
            "Requirement already satisfied: setuptools in /usr/local/lib/python3.7/dist-packages (from numba>=0.49->umap-learn) (57.4.0)\n",
            "Requirement already satisfied: importlib-metadata in /usr/local/lib/python3.7/dist-packages (from numba>=0.49->umap-learn) (4.12.0)\n",
            "Requirement already satisfied: llvmlite<0.40,>=0.39.0dev0 in /usr/local/lib/python3.7/dist-packages (from numba>=0.49->umap-learn) (0.39.0)\n",
            "Requirement already satisfied: joblib>=0.11 in /usr/local/lib/python3.7/dist-packages (from pynndescent>=0.5->umap-learn) (1.1.0)\n",
            "Requirement already satisfied: threadpoolctl>=2.0.0 in /usr/local/lib/python3.7/dist-packages (from scikit-learn>=0.22->umap-learn) (3.1.0)\n",
            "Requirement already satisfied: zipp>=0.5 in /usr/local/lib/python3.7/dist-packages (from importlib-metadata->numba>=0.49->umap-learn) (3.8.1)\n",
            "Requirement already satisfied: typing-extensions>=3.6.4 in /usr/local/lib/python3.7/dist-packages (from importlib-metadata->numba>=0.49->umap-learn) (4.1.1)\n",
            "Building wheels for collected packages: umap-learn, pynndescent\n",
            "  Building wheel for umap-learn (setup.py) ... \u001b[?25l\u001b[?25hdone\n",
            "  Created wheel for umap-learn: filename=umap_learn-0.5.3-py3-none-any.whl size=82829 sha256=36583846720e0b95d786819b937aea971f7fb5e9710bfc073381dea25589b6d8\n",
            "  Stored in directory: /root/.cache/pip/wheels/b3/52/a5/1fd9e3e76a7ab34f134c07469cd6f16e27ef3a37aeff1fe821\n",
            "  Building wheel for pynndescent (setup.py) ... \u001b[?25l\u001b[?25hdone\n",
            "  Created wheel for pynndescent: filename=pynndescent-0.5.7-py3-none-any.whl size=54286 sha256=f37ede068ead64a897f139e69824e1e97e2a2c302e737e01744f788f76575abe\n",
            "  Stored in directory: /root/.cache/pip/wheels/7f/2a/f8/7bd5dcec71bd5c669f6f574db3113513696b98f3f9b51f496c\n",
            "Successfully built umap-learn pynndescent\n",
            "Installing collected packages: pynndescent, umap-learn\n",
            "Successfully installed pynndescent-0.5.7 umap-learn-0.5.3\n"
          ]
        },
        {
          "output_type": "execute_result",
          "data": {
            "text/plain": [
              "'1.21.6'"
            ],
            "application/vnd.google.colaboratory.intrinsic+json": {
              "type": "string"
            }
          },
          "metadata": {},
          "execution_count": 1
        }
      ],
      "source": [
        "import numpy\n",
        "\n",
        "!pip install umap-learn\n",
        "numpy.version.version"
      ]
    },
    {
      "cell_type": "code",
      "execution_count": null,
      "metadata": {
        "id": "9bb7d134",
        "colab": {
          "base_uri": "https://localhost:8080/"
        },
        "outputId": "c1a0fb96-61e5-45f6-f0b9-2d46c1e9c1a3"
      },
      "outputs": [
        {
          "output_type": "stream",
          "name": "stdout",
          "text": [
            "Mounted at /content/drive\n"
          ]
        }
      ],
      "source": [
        "from sklearn.preprocessing import StandardScaler\n",
        "import numpy\n",
        "import umap\n",
        "import matplotlib.pyplot as plt\n",
        "from scipy.spatial import KDTree\n",
        "import pandas as pd\n",
        "from sklearn.datasets import load_digits\n",
        "from google.colab import drive\n",
        "drive.mount('/content/drive')"
      ]
    },
    {
      "cell_type": "code",
      "execution_count": null,
      "metadata": {
        "id": "9e5f1896",
        "colab": {
          "base_uri": "https://localhost:8080/"
        },
        "outputId": "67b64448-897a-41f4-b8c4-59eaebf7fc6f"
      },
      "outputs": [
        {
          "output_type": "stream",
          "name": "stdout",
          "text": [
            "45408\n",
            "                 0             1             2             3             4   \\\n",
            "count  14022.000000  14022.000000  14022.000000  14022.000000  14022.000000   \n",
            "mean      -0.019757     -0.002807     -0.019000      0.020436      0.166648   \n",
            "std        0.456095      0.466246      0.476108      0.450243      0.404736   \n",
            "min       -1.851942     -2.412055     -2.074380     -1.471966     -1.556067   \n",
            "25%       -0.323677     -0.322051     -0.324895     -0.291098     -0.096718   \n",
            "50%       -0.009887     -0.013641     -0.013508     -0.013055      0.172664   \n",
            "75%        0.288384      0.308448      0.300339      0.299339      0.431783   \n",
            "max        1.604943      2.251804      1.754476      2.005872      2.426469   \n",
            "\n",
            "                 5             6             7             8             9   \\\n",
            "count  14022.000000  14022.000000  14022.000000  14022.000000  14022.000000   \n",
            "mean      -0.189493     -0.010187     -0.016445      0.066486      0.033756   \n",
            "std        0.425350      0.459400      0.479608      0.445006      0.475536   \n",
            "min       -2.401130     -1.948685     -2.454537     -1.664944     -2.018726   \n",
            "25%       -0.470589     -0.307637     -0.325252     -0.228630     -0.283374   \n",
            "50%       -0.198263     -0.002928     -0.009039      0.051670      0.020590   \n",
            "75%        0.087300      0.295269      0.299167      0.344102      0.343600   \n",
            "max        1.537673      1.930003      1.991831      2.713285      1.760236   \n",
            "\n",
            "       ...            40            41            42            43  \\\n",
            "count  ...  14022.000000  14022.000000  14022.000000  14022.000000   \n",
            "mean   ...     -0.062534      0.036472     -0.029659      0.019910   \n",
            "std    ...      0.421972      0.434337      0.425566      0.475500   \n",
            "min    ...     -2.080555     -1.910254     -2.473144     -2.061091   \n",
            "25%    ...     -0.342831     -0.245705     -0.311250     -0.303864   \n",
            "50%    ...     -0.061670      0.033170     -0.025209      0.006084   \n",
            "75%    ...      0.224433      0.318597      0.253038      0.333555   \n",
            "max    ...      1.515903      2.302547      1.595103      2.207871   \n",
            "\n",
            "                 44            45            46            47            48  \\\n",
            "count  14022.000000  14022.000000  14022.000000  14022.000000  14022.000000   \n",
            "mean      -0.042385     -0.037781     -0.071838      0.045557      0.105425   \n",
            "std        0.436253      0.497113      0.507901      0.417138      0.490800   \n",
            "min       -1.956328     -2.182201     -2.652795     -1.886771     -1.985833   \n",
            "25%       -0.330701     -0.371247     -0.384663     -0.212081     -0.201309   \n",
            "50%       -0.034132     -0.026283     -0.044373      0.057390      0.118683   \n",
            "75%        0.251947      0.304769      0.279630      0.324901      0.434739   \n",
            "max        1.356848      1.736223      1.717470      1.680380      1.940599   \n",
            "\n",
            "                 49  \n",
            "count  14022.000000  \n",
            "mean      -0.103728  \n",
            "std        0.432411  \n",
            "min       -2.270740  \n",
            "25%       -0.390625  \n",
            "50%       -0.098813  \n",
            "75%        0.185759  \n",
            "max        1.577179  \n",
            "\n",
            "[8 rows x 50 columns]\n"
          ]
        }
      ],
      "source": [
        "file = open(\"/content/drive/My Drive//vectors.txt\", \"r\")\n",
        "\n",
        "words = []\n",
        "numbers = []\n",
        "for line in file:\n",
        "    tmp = line.split()\n",
        "    if len(tmp) != 51:\n",
        "        tmp.insert(0, ' ')\n",
        "    words.append(tmp.pop(0))\n",
        "    for i in range(len(tmp)):\n",
        "        if tmp[i] == '.':\n",
        "            tmp[i] = 0\n",
        "        else:\n",
        "            tmp[i] = float(tmp[i])\n",
        "    numbers.append(tmp)\n",
        "#    print(len(numbers), \" \", len(tmp), \" \", words[-1])\n",
        "file.close()\n",
        "print(len(words))\n",
        "# numbers = numpy.array(numbers)\n",
        "\n",
        "words_df = pd.DataFrame(numbers, index=words)\n",
        "words_df = words_df[~words_df.index.duplicated(keep='first')]\n",
        "words_df\n",
        "# word_index = {w: i for (i, w) in enumerate(words)}\n",
        "print(words_df.describe())\n",
        "# numbers_f = []\n",
        "# for i in numbers:\n",
        "#     for j in range(len(word_index)):\n",
        "#         if word_index[j] == i:\n",
        "#             numbers_f = i\n",
        "\n",
        "#numbers = numpy.array(numbers_f)"
      ]
    },
    {
      "cell_type": "code",
      "execution_count": null,
      "metadata": {
        "id": "rfU3OFynRWxC"
      },
      "outputs": [],
      "source": [
        "from tqdm.notebook import tqdm_notebook\n",
        "import string\n",
        "import glob\n",
        "import pickle"
      ]
    },
    {
      "cell_type": "code",
      "source": [
        "import numpy as np\n",
        "from math import log\n",
        "from sklearn.linear_model import LinearRegression\n",
        "import os\n",
        "from nltk.tokenize import word_tokenize"
      ],
      "metadata": {
        "id": "UXv6g3RG83cF"
      },
      "execution_count": null,
      "outputs": []
    },
    {
      "cell_type": "code",
      "source": [
        "import nltk\n",
        "nltk.download('punkt')"
      ],
      "metadata": {
        "id": "dHKS0TTk3XXd",
        "colab": {
          "base_uri": "https://localhost:8080/"
        },
        "outputId": "523c6101-e158-4429-c322-7d195c582aaf"
      },
      "execution_count": null,
      "outputs": [
        {
          "output_type": "stream",
          "name": "stderr",
          "text": [
            "[nltk_data] Downloading package punkt to /root/nltk_data...\n",
            "[nltk_data]   Unzipping tokenizers/punkt.zip.\n"
          ]
        },
        {
          "output_type": "execute_result",
          "data": {
            "text/plain": [
              "True"
            ]
          },
          "metadata": {},
          "execution_count": 9
        }
      ]
    },
    {
      "cell_type": "code",
      "execution_count": null,
      "metadata": {
        "id": "9669b719",
        "colab": {
          "base_uri": "https://localhost:8080/",
          "height": 49,
          "referenced_widgets": [
            "05d9fcedd64647299c23ed85408b419e",
            "2cb3072b8f2e42b49aef994be1062991",
            "4465d1d17e414e8ca257e6ce4734edd3",
            "eb25fd0b7fbb44dcac11a86271af4cda",
            "514ec82ea867478dbd654251203b11c0",
            "a6bab1627f3c417a987549a22242528e",
            "ff76590d232f4dce864b5c3f0fae8082",
            "02ddf8d4524d4aa4817d06843ad147c9",
            "5b19316116094ad0a74fee27bf8081c9",
            "b31e97b992584ffdac0e6b9f8dc2a13c",
            "6de830120b2048a49e097a46725221a1"
          ]
        },
        "outputId": "294f292c-ee48-4489-abc4-3e152000e762"
      },
      "outputs": [
        {
          "output_type": "display_data",
          "data": {
            "text/plain": [
              "  0%|          | 0/100 [00:00<?, ?it/s]"
            ],
            "application/vnd.jupyter.widget-view+json": {
              "version_major": 2,
              "version_minor": 0,
              "model_id": "05d9fcedd64647299c23ed85408b419e"
            }
          },
          "metadata": {}
        }
      ],
      "source": [
        "glove_sum = []\n",
        "PATH = '/content/drive/My Drive/Colab Notebooks/glove/'\n",
        "from os.path import exists\n",
        "authors_sl = []\n",
        "authors_wl = []\n",
        "words_l = []\n",
        "\n",
        "authors_d = {}\n",
        "embeddings_l = []\n",
        "for filename in (tqdm_notebook(sorted(glob.glob(f'/content/drive/My Drive/corpus/*.txt')))):\n",
        "    filen = PATH + filename.rpartition('/')[2] + '.pickle'\n",
        "    if exists(filen): # load\n",
        "        with open(filen, 'rb') as f:\n",
        "            zdania = pickle.load(f)\n",
        "            print(zdania)\n",
        "    else: # calculate and save\n",
        "        sents = []\n",
        "        with open(filename, 'r', encoding=\"utf8\", errors='ignore') as in_file: \n",
        "             text = in_file.read().replace('\\n', ' ')\n",
        "        sents = nltk.word_tokenize(text)\n",
        "        text = None\n",
        "        _, tail = os.path.split(filename)\n",
        "        auth = tail.split(\"_\")[0]\n",
        "        if not auth in authors_d:\n",
        "            authors_d[auth] = len(authors_d)\n",
        "\n",
        "        for i in sents:\n",
        "            try:\n",
        "                words_l.append(words_df.loc[i])\n",
        "                authors_wl.append(authors_d[auth])\n",
        "            except:\n",
        "                continue\n",
        "        authors_sl.append(authors_d[auth])\n",
        "        sents = None\n",
        "        "
      ]
    },
    {
      "cell_type": "code",
      "execution_count": null,
      "metadata": {
        "id": "N4zi9Yc5D2tG"
      },
      "outputs": [],
      "source": [
        "##### przerabiana wersja\n",
        "\n",
        "from nltk.tokenize import word_tokenize\n",
        "glove_sum = []\n",
        "glove_docs = []\n",
        "PATH = '/content/drive/My Drive/Colab Notebooks/glove_tsai/'\n",
        "from os.path import exists\n",
        "authors_sl = []\n",
        "words_l = []\n",
        "\n",
        "authors_d = {}\n",
        "embeddings_l = []\n",
        "for filename in (tqdm_notebook(sorted(glob.glob(f'/content/drive/My Drive/corpus/*.txt')))):\n",
        "    filen = PATH + filename.rpartition('/')[2] + '.pickle'\n",
        "    if exists(filen): # load\n",
        "        with open(filen, 'rb') as f:\n",
        "            zdania = pickle.load(f)\n",
        "            print(zdania)\n",
        "    else: # calculate and save\n",
        "        sents = []\n",
        "        with open(filename, 'r', encoding=\"utf8\", errors='ignore') as in_file: \n",
        "             text = in_file.read().replace('\\n', ' ')\n",
        "        sents = nltk.sent_tokenize(text)\n",
        "        text = None\n",
        "        _, tail = os.path.split(filename)\n",
        "        auth = tail.split(\"_\")[0]\n",
        "        if not auth in authors_d:\n",
        "            authors_d[auth] = len(authors_d)\n",
        "\n",
        "        for sent in sents:\n",
        "            for w in sent:\n",
        "                try:\n",
        "                    words_l.append(words_df.loc[w])\n",
        "                except:\n",
        "                    continue\n",
        "            glove_docs.append(words_l)\n",
        "        authors_sl.append(authors_d[auth])\n",
        "        with open(filen, 'wb') as f:\n",
        "            pickle.dump(glove_docs, f, pickle.HIGHEST_PROTOCOL)\n",
        "        glove_sum.append(glove_docs)\n",
        "        sents = None\n",
        "        "
      ]
    },
    {
      "cell_type": "markdown",
      "source": [
        "Wszystkie słowa ze wszystkich dokumentów, nie dzieląc ich na dokumenty (bo za mało ramu i słowa się powtarzają)"
      ],
      "metadata": {
        "id": "RfsUxoy7cb4N"
      }
    },
    {
      "cell_type": "code",
      "source": [
        "len(words_l)"
      ],
      "metadata": {
        "id": "38Lbl7q3ZKJe"
      },
      "execution_count": null,
      "outputs": []
    },
    {
      "cell_type": "code",
      "source": [
        "BATCH_LEN = 200"
      ],
      "metadata": {
        "id": "hMTInSXlCOOK"
      },
      "execution_count": null,
      "outputs": []
    },
    {
      "cell_type": "code",
      "source": [
        "batches = []\n",
        "authors_b = []\n",
        "\n",
        "for j in range(0, len(glove_sum[i])-BATCH_LEN, BATCH_LEN):\n",
        "    batches.append(glove_sum[i][j:j+BATCH_LEN])\n",
        "    authors_b.append(authors_sl[i])\n",
        "    batches.append(s)\n",
        "\n",
        "batches = np.asarray(batches)#.astype('float32')\n",
        "authors_b = np.asarray(authors_b)"
      ],
      "metadata": {
        "id": "YYVTYx-dk_7u"
      },
      "execution_count": null,
      "outputs": []
    },
    {
      "cell_type": "code",
      "source": [
        "len(authors_b)"
      ],
      "metadata": {
        "id": "bZSDdR8-oXb8"
      },
      "execution_count": null,
      "outputs": []
    },
    {
      "cell_type": "code",
      "execution_count": null,
      "metadata": {
        "id": "51iPWvxLEV8-"
      },
      "outputs": [],
      "source": [
        "pip install tsai"
      ]
    },
    {
      "cell_type": "code",
      "source": [
        "from tsai.all import *"
      ],
      "metadata": {
        "id": "hY5mg2G2IPi4"
      },
      "execution_count": null,
      "outputs": []
    },
    {
      "cell_type": "code",
      "execution_count": null,
      "metadata": {
        "id": "c4U-EA2qF8QU"
      },
      "outputs": [],
      "source": [
        "X, y, splits = get_classification_data('ECG200', split_data=False)\n",
        "batch_tfms = TSStandardize()\n",
        "\n",
        "splits = get_splits(authors_b, valid_size=.2, stratify=True, random_state=23, shuffle=True)\n",
        "clf = TSClassifier(batches authors_b, splits=splits, path='models', arch=XceptionTime, batch_tfms=batch_tfms, metrics=accuracy, cbs=ShowGraph())\n",
        "clf.fit_one_cycle(100, 3e-4)\n",
        "clf.export(\"clf.pkl\")"
      ]
    },
    {
      "cell_type": "code",
      "source": [],
      "metadata": {
        "id": "HIoZUsDbpxtF"
      },
      "execution_count": null,
      "outputs": []
    }
  ]
}