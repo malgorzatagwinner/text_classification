{
  "cells": [
    {
      "cell_type": "markdown",
      "metadata": {
        "id": "view-in-github",
        "colab_type": "text"
      },
      "source": [
        "<a href=\"https://colab.research.google.com/github/malgorzatagwinner/text_classification/blob/main/sbert.ipynb\" target=\"_parent\"><img src=\"https://colab.research.google.com/assets/colab-badge.svg\" alt=\"Open In Colab\"/></a>"
      ]
    },
    {
      "cell_type": "markdown",
      "metadata": {
        "id": "0dc8109f"
      },
      "source": [
        "<b>Training overview</b>"
      ],
      "id": "0dc8109f"
    },
    {
      "cell_type": "code",
      "execution_count": null,
      "metadata": {
        "id": "SxuRJaFPwoh1",
        "colab": {
          "base_uri": "https://localhost:8080/"
        },
        "outputId": "2608bd4a-d2e0-45c0-bde2-f60652b10ec1"
      },
      "outputs": [
        {
          "output_type": "stream",
          "name": "stdout",
          "text": [
            "Looking in indexes: https://pypi.org/simple, https://us-python.pkg.dev/colab-wheels/public/simple/\n",
            "Requirement already satisfied: sentence-transformers in /usr/local/lib/python3.7/dist-packages (2.2.2)\n",
            "Requirement already satisfied: transformers<5.0.0,>=4.6.0 in /usr/local/lib/python3.7/dist-packages (from sentence-transformers) (4.21.3)\n",
            "Requirement already satisfied: scipy in /usr/local/lib/python3.7/dist-packages (from sentence-transformers) (1.7.3)\n",
            "Requirement already satisfied: torchvision in /usr/local/lib/python3.7/dist-packages (from sentence-transformers) (0.13.1+cu113)\n",
            "Requirement already satisfied: scikit-learn in /usr/local/lib/python3.7/dist-packages (from sentence-transformers) (1.0.2)\n",
            "Requirement already satisfied: numpy in /usr/local/lib/python3.7/dist-packages (from sentence-transformers) (1.21.6)\n",
            "Requirement already satisfied: nltk in /usr/local/lib/python3.7/dist-packages (from sentence-transformers) (3.7)\n",
            "Requirement already satisfied: tqdm in /usr/local/lib/python3.7/dist-packages (from sentence-transformers) (4.64.0)\n",
            "Requirement already satisfied: sentencepiece in /usr/local/lib/python3.7/dist-packages (from sentence-transformers) (0.1.97)\n",
            "Requirement already satisfied: torch>=1.6.0 in /usr/local/lib/python3.7/dist-packages (from sentence-transformers) (1.12.1+cu113)\n",
            "Requirement already satisfied: huggingface-hub>=0.4.0 in /usr/local/lib/python3.7/dist-packages (from sentence-transformers) (0.9.1)\n",
            "Requirement already satisfied: packaging>=20.9 in /usr/local/lib/python3.7/dist-packages (from huggingface-hub>=0.4.0->sentence-transformers) (21.3)\n",
            "Requirement already satisfied: importlib-metadata in /usr/local/lib/python3.7/dist-packages (from huggingface-hub>=0.4.0->sentence-transformers) (4.12.0)\n",
            "Requirement already satisfied: requests in /usr/local/lib/python3.7/dist-packages (from huggingface-hub>=0.4.0->sentence-transformers) (2.23.0)\n",
            "Requirement already satisfied: typing-extensions>=3.7.4.3 in /usr/local/lib/python3.7/dist-packages (from huggingface-hub>=0.4.0->sentence-transformers) (4.1.1)\n",
            "Requirement already satisfied: pyyaml>=5.1 in /usr/local/lib/python3.7/dist-packages (from huggingface-hub>=0.4.0->sentence-transformers) (6.0)\n",
            "Requirement already satisfied: filelock in /usr/local/lib/python3.7/dist-packages (from huggingface-hub>=0.4.0->sentence-transformers) (3.8.0)\n",
            "Requirement already satisfied: pyparsing!=3.0.5,>=2.0.2 in /usr/local/lib/python3.7/dist-packages (from packaging>=20.9->huggingface-hub>=0.4.0->sentence-transformers) (3.0.9)\n",
            "Requirement already satisfied: tokenizers!=0.11.3,<0.13,>=0.11.1 in /usr/local/lib/python3.7/dist-packages (from transformers<5.0.0,>=4.6.0->sentence-transformers) (0.12.1)\n",
            "Requirement already satisfied: regex!=2019.12.17 in /usr/local/lib/python3.7/dist-packages (from transformers<5.0.0,>=4.6.0->sentence-transformers) (2022.6.2)\n",
            "Requirement already satisfied: zipp>=0.5 in /usr/local/lib/python3.7/dist-packages (from importlib-metadata->huggingface-hub>=0.4.0->sentence-transformers) (3.8.1)\n",
            "Requirement already satisfied: joblib in /usr/local/lib/python3.7/dist-packages (from nltk->sentence-transformers) (1.1.0)\n",
            "Requirement already satisfied: click in /usr/local/lib/python3.7/dist-packages (from nltk->sentence-transformers) (7.1.2)\n",
            "Requirement already satisfied: chardet<4,>=3.0.2 in /usr/local/lib/python3.7/dist-packages (from requests->huggingface-hub>=0.4.0->sentence-transformers) (3.0.4)\n",
            "Requirement already satisfied: certifi>=2017.4.17 in /usr/local/lib/python3.7/dist-packages (from requests->huggingface-hub>=0.4.0->sentence-transformers) (2022.6.15)\n",
            "Requirement already satisfied: urllib3!=1.25.0,!=1.25.1,<1.26,>=1.21.1 in /usr/local/lib/python3.7/dist-packages (from requests->huggingface-hub>=0.4.0->sentence-transformers) (1.24.3)\n",
            "Requirement already satisfied: idna<3,>=2.5 in /usr/local/lib/python3.7/dist-packages (from requests->huggingface-hub>=0.4.0->sentence-transformers) (2.10)\n",
            "Requirement already satisfied: threadpoolctl>=2.0.0 in /usr/local/lib/python3.7/dist-packages (from scikit-learn->sentence-transformers) (3.1.0)\n",
            "Requirement already satisfied: pillow!=8.3.*,>=5.3.0 in /usr/local/lib/python3.7/dist-packages (from torchvision->sentence-transformers) (7.1.2)\n"
          ]
        }
      ],
      "source": [
        "!pip install -U sentence-transformers"
      ],
      "id": "SxuRJaFPwoh1"
    },
    {
      "cell_type": "code",
      "execution_count": null,
      "metadata": {
        "colab": {
          "base_uri": "https://localhost:8080/"
        },
        "id": "RWSJpsyKqHjH",
        "outputId": "10312225-ba81-4d45-cb5c-70f33c9d4ce1"
      },
      "outputs": [
        {
          "output_type": "stream",
          "name": "stdout",
          "text": [
            "Drive already mounted at /content/drive; to attempt to forcibly remount, call drive.mount(\"/content/drive\", force_remount=True).\n"
          ]
        }
      ],
      "source": [
        "from google.colab import drive\n",
        "drive.mount('/content/drive')"
      ],
      "id": "RWSJpsyKqHjH"
    },
    {
      "cell_type": "code",
      "execution_count": null,
      "metadata": {
        "colab": {
          "base_uri": "https://localhost:8080/"
        },
        "id": "z6DWO7IxBROS",
        "outputId": "595a8b24-d23c-40f1-f7fc-f7edebc1cc47"
      },
      "outputs": [
        {
          "output_type": "stream",
          "name": "stderr",
          "text": [
            "[nltk_data] Downloading package punkt to /root/nltk_data...\n",
            "[nltk_data]   Package punkt is already up-to-date!\n"
          ]
        }
      ],
      "source": [
        "from sentence_transformers import SentenceTransformer, models, util\n",
        "import nltk\n",
        "nltk.download('punkt')\n",
        "import glob\n",
        "import os"
      ],
      "id": "z6DWO7IxBROS"
    },
    {
      "cell_type": "code",
      "execution_count": null,
      "metadata": {
        "id": "cxKltCRFzHrT"
      },
      "outputs": [],
      "source": [
        "from tqdm.notebook import tqdm_notebook\n",
        "import pickle"
      ],
      "id": "cxKltCRFzHrT"
    },
    {
      "cell_type": "code",
      "execution_count": null,
      "metadata": {
        "colab": {
          "base_uri": "https://localhost:8080/",
          "height": 66,
          "referenced_widgets": [
            "d4a8f88a0d1b436b9b52a29646a17189",
            "38c8c0b61278482baad33e70e1fa6c43",
            "53934cd5f86449b09194c1b2d383153f",
            "89b05fd083c14715ac2a7b88325fcecd",
            "a63dc387a1844febb90163c5284ae364",
            "ffc5d71eed4c4766933fd0ff6fa641be",
            "990cb06f58ac4c16b1ccc60390d587d3",
            "6f82082b0fb146609aac7dd57da1c750",
            "4045114c8bf140759fd70fd8e9463c83",
            "d176a14d754b4da6ac1047c86f72660b",
            "58f478833f174bfbaf83bcbeae137e3a"
          ]
        },
        "id": "40288893",
        "outputId": "2e9c4339-f0c4-4991-d16c-2d87aa24b62b"
      },
      "outputs": [
        {
          "output_type": "display_data",
          "data": {
            "text/plain": [
              "  0%|          | 0/100 [00:00<?, ?it/s]"
            ],
            "application/vnd.jupyter.widget-view+json": {
              "version_major": 2,
              "version_minor": 0,
              "model_id": "d4a8f88a0d1b436b9b52a29646a17189"
            }
          },
          "metadata": {}
        },
        {
          "output_type": "execute_result",
          "data": {
            "text/plain": [
              "3"
            ]
          },
          "metadata": {},
          "execution_count": 29
        }
      ],
      "source": [
        "l_sents= []\n",
        "sents = set()\n",
        "for filename in tqdm_notebook(glob.glob(f'/content/drive/My Drive/corpus/*.txt')):\n",
        "    sents = set()\n",
        "    with open(filename, 'r', encoding=\"utf8\", errors='ignore') as in_file: \n",
        "        text = in_file.read().replace('\\n', ' ')\n",
        "    sents |= set(nltk.sent_tokenize(text))\n",
        "    sents = list(sents)\n",
        "    _, tail = os.path.split(filename)\n",
        "    auth = tail.split(\"_\")[0]\n",
        "    l_sents.append((auth,sents,tail))\n",
        "\n",
        "len(l_sents[0])"
      ],
      "id": "40288893"
    },
    {
      "cell_type": "code",
      "source": [
        "sum([len(x[1]) for x in l_sents])"
      ],
      "metadata": {
        "colab": {
          "base_uri": "https://localhost:8080/"
        },
        "id": "c4CTV8yU2HRS",
        "outputId": "3871a64b-0dc1-4ef9-e15d-44f25f64dabf"
      },
      "id": "c4CTV8yU2HRS",
      "execution_count": null,
      "outputs": [
        {
          "output_type": "execute_result",
          "data": {
            "text/plain": [
              "785752"
            ]
          },
          "metadata": {},
          "execution_count": 30
        }
      ]
    },
    {
      "cell_type": "code",
      "source": [
        "len(l_sents[0])"
      ],
      "metadata": {
        "colab": {
          "base_uri": "https://localhost:8080/"
        },
        "id": "VHi9da_9RvFS",
        "outputId": "141d9c65-bda5-4e7b-b75f-72584fdf7f1b"
      },
      "id": "VHi9da_9RvFS",
      "execution_count": null,
      "outputs": [
        {
          "output_type": "execute_result",
          "data": {
            "text/plain": [
              "3"
            ]
          },
          "metadata": {},
          "execution_count": 31
        }
      ]
    },
    {
      "cell_type": "code",
      "source": [
        "l_sents[0]"
      ],
      "metadata": {
        "id": "bC3mSkDxoBIq",
        "colab": {
          "base_uri": "https://localhost:8080/"
        },
        "outputId": "02abd302-f4e8-498a-d248-d7c19f15cbe0"
      },
      "id": "bC3mSkDxoBIq",
      "execution_count": null,
      "outputs": [
        {
          "output_type": "execute_result",
          "data": {
            "text/plain": [
              "('Woolf',\n",
              " ['A sigh of air rushed up with it.',\n",
              "  'Footsteps scurried about hither and thither on the floor above.',\n",
              "  'Eleanor felt that she could relax.',\n",
              "  'And the walloping Oxford bells, turning over and over like slow porpoises in a sea of oil, contemplatively intoned their musical incantation.',\n",
              "  '\"Hurrah!\"',\n",
              "  'It must fall.',\n",
              "  'The family pressed a little closer to the graveside and looked fixedly at the coffin which lay with its polish and its brass handles there in the earth to be buried for ever.',\n",
              "  'But how could she describe it?',\n",
              "  'She spoke with some bitterness.',\n",
              "  'She resigned the poker.',\n",
              "  'said the young woman.',\n",
              "  '\"My father had these rooms, sir,\" the Colonel had said, by way of apology.',\n",
              "  '\"One never likes one\\'s own picture,\" she said.',\n",
              "  'She felt as if some dull bore had interrupted an interesting conversation.',\n",
              "  '\"They get into one\\'s hair,\" Celia said.',\n",
              "  '\"Come and talk to us!\"',\n",
              "  '\"Dancing .',\n",
              "  'That turn was over - the old- brother-and-sister turn.',\n",
              "  'She broke into her usual ambling trot.',\n",
              "  \"Ann drew up a footstool and sat down at Aunt Warburton's feet.\",\n",
              "  'They all looked settled, elderly, as if their minds were made up.',\n",
              "  '\"The children of the caretaker, I should think,\" she said.',\n",
              "  '\"Perhaps it will bring her to her senses,\" he said sternly.',\n",
              "  'He rose and took them.',\n",
              "  'For a moment Delia was bewildered too.',\n",
              "  'It was as if she still believed with passion - she, old Eleanor - in the things that man had destroyed.',\n",
              "  'But for him there would be no season; for him there was nothing to do.',\n",
              "  'she said, and ran a comb through her hair.',\n",
              "  '\"Good-evening again, Eleanor,\" he said, bowing over her hand.',\n",
              "  '\"There I was, sitting alone.',\n",
              "  'Eleanor stood holding the telephone.',\n",
              "  'said North to the girl he was dancing with.',\n",
              "  'She followed him.',\n",
              "  'There was a gleam of what she had long considered a smile on his face.',\n",
              "  'It must be Martin.',\n",
              "  'He looked at himself in the glass.',\n",
              "  '. .\"  Now he\\'s getting into his stride, Kitty thought.',\n",
              "  'Maggie rocked the perambulator.',\n",
              "  '\"No, no,\" she protested, stretching her arms over her head.',\n",
              "  'She spoke very calmly and soothingly.',\n",
              "  \"He had taken to brushing his hair up like a waiter's.\",\n",
              "  'The rugs were faded; the pictures were faded.',\n",
              "  'He paused.',\n",
              "  '\"No, no,\" said Maggie.',\n",
              "  'Slowly, intently, with serious faces, as if they were taking part in some mystic rite which gave them immunity from other feelings, the dancers began circling past them, brushing against their knees, almost treading on their toes.',\n",
              "  '\"Why what?\"',\n",
              "  'From where she sat she could see the front door steps.',\n",
              "  'she asked herself, running the comb once more through her hair.',\n",
              "  'She stooped and touched the little flowers tenderly.',\n",
              "  'But she spoke too sensibly; she was anxious about the children, Eleanor guessed.',\n",
              "  'She stood at the table looking at the broken apple peel and the dish of fly-blown fruit.',\n",
              "  'She would read it as they drove along.',\n",
              "  \"So I'm just on time, he thought, and paid the driver.\",\n",
              "  'The sun was bright; he was in the best of spirits; he was going to visit his stockbroker in the city.',\n",
              "  'He felt her feeling now; it was not about him; it was about other people; about another world, a new world. . . .',\n",
              "  '\"Of course, you have your profession,\" he added.',\n",
              "  'Like all the French, she thought, he cares passionately for his country.',\n",
              "  'Eleanor pondered.',\n",
              "  '\"Put \\'em away. . . . Keep \\'em safe somewhere,\" he said, jerking his thumb at the cuttings.',\n",
              "  'The door slammed; books were slapped down on the hall table, and Martin, a boy of twelve, came in.',\n",
              "  'Milly exclaimed warningly.',\n",
              "  'They shook their heads from side to side.',\n",
              "  \"He hadn't  worried himself about politics and money, he thought.\",\n",
              "  '\"Come to Ireland and see for yourself, m\\'lady,\" he said grimly.',\n",
              "  'A moment before she had been thinking of a bright light on a red rock.',\n",
              "  'Milly smiled; Eleanor always would stick up for the poor.',\n",
              "  'One or two high windows were burnished gold.',\n",
              "  'They were staying with Connie, she went on, who was expecting Jimmy, who was home from Uganda .',\n",
              "  'she repeated, holding the curtain apart.',\n",
              "  'She left the door ajar and a dog pushed in after her.',\n",
              "  'And yet he was at his ease with both of them, he thought; the thought pleased him; he could talk hunting with Gibbs and books with Ashley.',\n",
              "  'Above the roofs was one of those red and fitful London sunsets that make window after window burn gold.',\n",
              "  'He turned back into the room.',\n",
              "  'North had finished his pudding.',\n",
              "  'Why not share it?',\n",
              "  '\"Hullo, Rose!\"',\n",
              "  'North asked himself.',\n",
              "  \"The pepper-pot's a dark moor, Eleanor thought, looking at it.\",\n",
              "  '\"He always was a hater,\" she said, holding her glass out to be filled.',\n",
              "  \"A roar of laughter floated out from the undergraduates' quarters.\",\n",
              "  '\"Ten and six for a seat in the front row,\" she puffed her smoke out.',\n",
              "  'Now there was Rose.',\n",
              "  '\"And the flower\\'s on the floor, and everything\\'s so untidy,\" she said.',\n",
              "  'He was tittupping up and down on his little feet in front of them.',\n",
              "  'The trees were coming out in the back garden; there were little leaves - little ear-shaped leaves on the bushes.',\n",
              "  'She felt, or rather she saw, not a place, but a state of being, in which there was real laughter, real happiness, and this fractured world was whole; whole, and free.',\n",
              "  'The boats leant on their sides so that the sails touched the water.',\n",
              "  '\"Like it?\"',\n",
              "  'But they were out of shot.',\n",
              "  'she wanted to ask.',\n",
              "  'He was talking to Sara.',\n",
              "  'No; to begin inwardly, and let the devil take the outer form, he thought, looking up at a young man with a fine forehead and a weak chin.',\n",
              "  \"A gnat's voice began to wail under the kettle; but here the door burst open again and a little girl in a stiff pink frock came in.\",\n",
              "  'And his voice was unfamiliar.',\n",
              "  'It was Siegfried - her favourite opera.',\n",
              "  '\"Walking won\\'t  do us any harm.\"',\n",
              "  '\"How very good of you!\"',\n",
              "  'Could nothing be done about it?',\n",
              "  'She grinned, silently.',\n",
              "  'That\\'s finished,\" she said, laying the dress on the table.',\n",
              "  'And it was getting late.',\n",
              "  'A long row of cars and carriages was drawn up by the kerb.',\n",
              "  'Who was Renton?',\n",
              "  \"In the station yard at Wittering, Mrs Chinnery's old victoria stood waiting.\",\n",
              "  '\"A pink frock; a pink frock,\" she repeated, as if the words recalled something.',\n",
              "  '\"Yes,\" she said briefly.',\n",
              "  '\"Something pretty, something she could wear, you know.\"',\n",
              "  'Or was that a pose?',\n",
              "  'He sat staring ahead of him with bright blue eyes that seemed a little screwed up, as if the glare of the East were still in them; and puckered at the corners as if the dust were still in them.',\n",
              "  '\"What\\'s all this about Rose?\"',\n",
              "  'She felt him look at her and look away.',\n",
              "  '\"I looked in my pocket and found that I had only two matches .',\n",
              "  'Delia had gone to the window.',\n",
              "  'There was the same old man still feeding the sparrows.',\n",
              "  'She was touched; the feel of his hand on her knee pleased her.',\n",
              "  'A wonderful generation, she thought, as they drove off.',\n",
              "  '\"If I were you, Crosby,\" said Martin, \"I\\'d cut down his meals and take him for a brisk run round the park every morning.\"',\n",
              "  'That man almost always said the very thing that she was thinking, which comforted her, and gave her a sense of security in a world which seemed to her to be changing for the worse.',\n",
              "  'Dr. Prentice followed him.',\n",
              "  'she asked, examining it.',\n",
              "  '\"Sorry to be so late, Baxter,\" she said.',\n",
              "  'And I?',\n",
              "  'So many of the Dons sneered at her.',\n",
              "  '\"Poppycock!\"',\n",
              "  '\"Poor thing!\"',\n",
              "  'They stood with their hands behind their backs.',\n",
              "  'Morris helped himself tentatively to potatoes.',\n",
              "  '\"Well then\" - she looked at Maggie, thinking of her as a little girl who had come to tea.',\n",
              "  'The kettle was an old-fashioned brass kettle, chased with a design of roses that was almost obliterated.',\n",
              "  'said another lady.',\n",
              "  'he laughed.',\n",
              "  'And voices went on over her head.',\n",
              "  'The statues of grey French ladies stood on the terrace, holding their baskets; but the baskets were empty.',\n",
              "  'But the cars behind him hooted persistently; they hooted and hooted.',\n",
              "  '\"Bravo!\"',\n",
              "  'Dark wedges of shadow, bright breadths of light lay side by side.',\n",
              "  'She had grown distinctly smaller, he thought.',\n",
              "  'One, two, three, four it struck. . . . Then it ceased.',\n",
              "  '\"I was thinking,\" said Eleanor on the spur of the moment, \"the poor enjoy themselves more than we do.\"',\n",
              "  'And from all the spires of all the London churches - the fashionable saints of Mayfair, the dowdy saints of Kensington, the hoary saints of the city - the hour was proclaimed.',\n",
              "  'But he felt as if he had missed a step going downstairs.',\n",
              "  'said Eleanor, pointing to another girl with fair hair in a long bright cloak and another young man in evening dress.',\n",
              "  'The orchestra was still tuning up; the players were laughing, talking and turning round in their seats as they fiddled busily with their instruments.',\n",
              "  'Another inch of the pattern, she thought, still using her half- formulated idea to stamp the immediate scene.',\n",
              "  '\"Don\\'t  go - \" he began.',\n",
              "  \"Thank goodness, there's Eleanor she thought, looking up -  the soother, the maker-up of quarrels, the buffer between her and the intensities and strifes of family life.\",\n",
              "  'Eugénie lying back in her corner always let them talk; she never interrupted.',\n",
              "  'He walked on.',\n",
              "  'A face was hanging close to her as if it dangled on a bit of string.',\n",
              "  'Had any adventures?\"',\n",
              "  \"said Eleanor, smiling up at him, just as she used to smile when she was a girl with her brother's friends, thought North.\",\n",
              "  'He hesitated; should he speak to her, or should he not?',\n",
              "  'Peggy asked.',\n",
              "  '\"What d\\'you propose to do about it?\"',\n",
              "  '\"It\\'s time,\" said Maggie.',\n",
              "  'said Edward, putting his hand to his ear.',\n",
              "  'The ingratiating smile was not produced for her benefit again, she observed.',\n",
              "  'He did not know why he always wanted to hurt her; but he did; it was a fact.',\n",
              "  'For the tree was black, dead black.',\n",
              "  'Always after dinner women paid each other compliments about their clothes or their looks, she thought.',\n",
              "  'She opened her mouth to speak.',\n",
              "  '\"Was solitude good; was society bad?\"',\n",
              "  '\"You needn\\'t  talk in a whisper,\" she said aloud.',\n",
              "  'I only think of \"better families\" when I dine in this sort of place, he thought.',\n",
              "  \"However, she concluded, tugging the comb through her hair, it's over .\",\n",
              "  'Everything shook slightly.',\n",
              "  \"It seemed to him that they were still cutting little private jokes about Jones minor winning the long jump; and old Foxy, or whatever the headmaster's name was.\",\n",
              "  'she laughed, flourishing her fork.',\n",
              "  '\"Look!',\n",
              "  'She opened it.',\n",
              "  'Her dress was shabby.',\n",
              "  'she said, putting her bag down on the chair.',\n",
              "  'She felt herself expand.',\n",
              "  'He still held his hat in his hand.',\n",
              "  '\"Tell me - \" she began.',\n",
              "  '. .\" Eleanor began.',\n",
              "  'It was not raining, but here and there the mist condensed on the surface into dampness and made pavements greasy.',\n",
              "  'It was her father.',\n",
              "  'She glanced at her.',\n",
              "  '\"I was thinking,\" said Sara.',\n",
              "  'He looked round the room with distaste.',\n",
              "  'At the bottom of the bed was a long stretch of cool fresh mattress.',\n",
              "  'Rose shook her head.',\n",
              "  'And he could never read while he was waiting.',\n",
              "  'There was something wrong with the story; something impossible.',\n",
              "  'If only the Lord would take her.',\n",
              "  '\"And I\\'m quite ready to oblige you,\" she added aloud, as indeed she had said to Louisa herself.',\n",
              "  '\"It\\'s Charlie\\'s,\" said Kitty rather sharply.',\n",
              "  'After the ballroom, it looked so untidy.',\n",
              "  'Ought I to have urged him to go to the Bar?',\n",
              "  'Again it was like music; but then Cousin James seemed to hurry, as if he did not altogether believe what he was saying.',\n",
              "  'His exhilaration was oozing.',\n",
              "  'They had sat on the edge of the bath together.',\n",
              "  \"You're not going to die - never, never!\",\n",
              "  'chč per quanti si dice piů lě nostro  tanto possiede piů di ben ciascuno.',\n",
              "  'For her too there would be the endless night; the endless dark.',\n",
              "  'She smoothed down the bed-clothes and kissed her.',\n",
              "  'She watched the fields galloping past.',\n",
              "  'But there is somebody with her.',\n",
              "  '\"Now we\\'ll go over it,\" she said.',\n",
              "  '\"Look, Eleanor!\"',\n",
              "  'She made herself think of a flock of sheep penned up in a hurdle in a field.',\n",
              "  \"People sprang up everywhere; his father; his sister; old men got up from armchairs and said, You don't  remember me?\",\n",
              "  'He yawned.',\n",
              "  '\"The chorus - \" North repeated.',\n",
              "  'Suddenly, as she passed the lamp-post, she saw the man again.',\n",
              "  'She tapped him on the knee.',\n",
              "  '\"Wonderful!\"',\n",
              "  '\"Abercorn Terrace,\" said Eleanor; \".',\n",
              "  'But there was wine after all.',\n",
              "  'And where are we going?',\n",
              "  '\"She\\'s taking you on?\"',\n",
              "  '. . live more.',\n",
              "  'The usual exhilaration mounted in her as she walked along the platform.',\n",
              "  '\"Then ask Martin to go with you,\" said Eleanor.',\n",
              "  '\"That\\'s what I say,\" said Eleanor.',\n",
              "  '\"Oh, miss, don\\'t  ask me to give him up!\"',\n",
              "  'What were they, she wondered - mountains?',\n",
              "  '\"I thought it better to stay where I was.\"',\n",
              "  '\"And she\\'ll take off her gloves; and she\\'ll lay one on this side, one on that.',\n",
              "  'Mrs Lamley liked her.',\n",
              "  'A sixpenny bit spun on its edge across the carpet, reached a pair of silver shoes on the floor and fell flat.',\n",
              "  'The young man had got very red and said, \"Don\\'t  mention it.\"',\n",
              "  'Then there were asphalt paths; more lights in public gardens; and then bushes and a hedge in a field.',\n",
              "  'In particular he wanted to avoid his sister Peggy; but there she was, standing alone by the door.',\n",
              "  'The hall was empty.',\n",
              "  '. .\" She stopped.',\n",
              "  'Then they became suddenly silent.',\n",
              "  'It was admirably composed.',\n",
              "  '. . She held up her hand.',\n",
              "  'Eugénie was a clever woman of course; but he wished she would get a parlourmaid instead of these Italian dagoes who always seemed to be swallowing macaroni.',\n",
              "  'She must be careful not to tread on a dry branch, or to let any twig crack under her, she told herself, as she went on tiptoe.',\n",
              "  'There was a sudden roar of laughter; then the tinkle of a piano; then a nondescript clatter and chatter - of china partly; then again the sound of rain falling, and the gutters chuckling and burbling as they sucked up the water.',\n",
              "  '\"Now I can\\'t  see him any more,\" said Eleanor.',\n",
              "  '\"His father was a merchant,\" she continued.',\n",
              "  'She went up and stood looking at her.',\n",
              "  'The maid had brought in a sixpence.',\n",
              "  'The dwarf was hammering at the sword.',\n",
              "  'They were in open country now.',\n",
              "  '\"Thank you - thank you for coming!\"',\n",
              "  'A glazed look, a fixed expression, had come over her face.',\n",
              "  'Men standing on bridges fishing looked up; horses cantered; women came to doors and shaded their eyes; the shadow of the smoke floated over the corn, looped down and caught a tree.',\n",
              "  'The mask might conceal anything - or nothing?',\n",
              "  '\"And then,\" he continued, \"we discussed. . . .\"  But here the girl burst in again.',\n",
              "  'There was a bowl of flowers on the table; wild flowers, blue and white, stuck into a cushion of wet green moss.',\n",
              "  'What at?',\n",
              "  'He strode past them up the stairs.',\n",
              "  '\"You\\'ve  saved enough, haven\\'t  you?\"',\n",
              "  'And Rose is coming to luncheon.',\n",
              "  'They were still sitting by the perambulator under the trees.',\n",
              "  'he exclaimed, prodding the paper with his pencil.',\n",
              "  'The maid had come to clear away the coffee.',\n",
              "  '\"I\\'m getting on,\" said Peggy.',\n",
              "  '\"I can still see you all sitting round that table, Miss Eleanor,\" said Crosby.',\n",
              "  'he said stiffly, for they scarcely knew each other.',\n",
              "  '\"I pray Him to let me go,\" Mrs Potter continued.',\n",
              "  'Was it because this had survived - this keen sensation  she was waking up  and the other thing, the solid object - she saw an ink-corroded walrus - had vanished?',\n",
              "  '\"And what were you doing,\" she asked, \"at St.',\n",
              "  '\"And the little red-haired ruffian whom I love?\"',\n",
              "  'Then she hopped on again.',\n",
              "  'He looked at Hugh.',\n",
              "  'Eleanor, who had taken her books again, looked up disturbed.',\n",
              "  'Little figures were hurrying along the pavement; they emerged for a moment under a lamp, then vanished into darkness again.',\n",
              "  '\"Shiny.\"',\n",
              "  'She was neither one thing nor the other, he thought, glancing at her; neither in the fashion nor out of it.',\n",
              "  '\"Then, North .',\n",
              "  'This would be the end of all her dreams.',\n",
              "  'Objects seemed to be rising out of their sleep, out of their disguise, and to be assuming the sobriety of daily life.',\n",
              "  'said Kitty, turning to Eleanor.',\n",
              "  'She returned it with a little bow.',\n",
              "  'Over and over again it was repeated by trombones outside public houses; errand boys whistled it; bands inside private rooms where people were dancing played it.',\n",
              "  'My mother\\'s family I mean,\" she added.',\n",
              "  'Happy in this world, she thought, happy with living people!',\n",
              "  \"The sun was blazing on the windows of St. George's Hospital.\",\n",
              "  'The car was waiting for her; and directly she saw it she remembered - it was the new car; a birthday present from her husband.',\n",
              "  'The worldly old woman was honest, in her way.',\n",
              "  'Curry collected oak chests.',\n",
              "  '\"Don\\'t  be caught looking,\" said Eleanor warningly.',\n",
              "  'But she had to stand there until her mother gave the signal for them to move.',\n",
              "  '\"Eat it,\" he said.',\n",
              "  'She had been dropped when she was a baby; one shoulder was slightly higher than the other; it made him feel squeamish; he could not bear the least deformity in a child.',\n",
              "  'Rose laughed, kissing her.',\n",
              "  'There was something flattering in his manner, North thought, like a schoolmaster welcoming back to school an old boy who had won distinction.',\n",
              "  'Suddenly a door was thrown open.',\n",
              "  \"The houses, with their pillars and their front gardens, all looked highly respectable; in every front room she seemed to see a parlourmaid's arm sweep over the table, laying it for luncheon.\",\n",
              "  'His mind for a moment was a blank.',\n",
              "  'Children had chalked the pavement into squares; women leant from the upper windows, raking the street with a rapacious, dissatisfied stare.',\n",
              "  'It was stale bread she thought, cut in meagre little squares; the colour, the gaiety of Prestwich Terrace was still in her eyes, in her ears.',\n",
              "  'She became simple for a moment.',\n",
              "  'He looked down the long vista.',\n",
              "  'She looked up at him as she lifted it with eyes that seemed like bright stones under a film of water.',\n",
              "  '\"Haven\\'t  you gone to bed yet?',\n",
              "  '\"So,\" he seemed to be saying, \"So,\" as if they were fragments of human destiny, not crusts, that he held in his fingers.',\n",
              "  'she exclaimed, as she came hurrying across the room.',\n",
              "  'There were reflections in the water, branches and a pale strip of sky.',\n",
              "  'The wind was very cold.',\n",
              "  'The vanity of men was immeasurable.',\n",
              "  'Her eyes were bright; her cheeks were flushed, or was it only the tan from her voyage to India?',\n",
              "  'Off it flaunted again.',\n",
              "  'He let his arms fall and left the room.',\n",
              "  'Then she realised that it touched nothing of importance.',\n",
              "  'he said as she came in.',\n",
              "  'Her hands?',\n",
              "  'Rose threw her head up rather like a horse.',\n",
              "  'But the cars were hooting behind him.',\n",
              "  '\"I\\'ll fling on my clothes and come.\"',\n",
              "  'His voice sounded a little squeaky, as if he were ill at ease.',\n",
              "  'He swayed the liquid from side to side.',\n",
              "  'The one sheet and the one blanket fitted softly round her.',\n",
              "  'She stared at the pot with the blue knot loosely tied in the yellow glaze.',\n",
              "  'North interrupted her.',\n",
              "  '\"Met anybody amusing tonight?\"',\n",
              "  'For him a life modelled on the jet  he was watching the bubbles rise , on the spring, of the hard leaping fountain; another life; a different life.',\n",
              "  'She thumped on the floor.',\n",
              "  '\"D\\'you think you can get a rise out of me at this time o\\' day?\"',\n",
              "  '\"If you like,\" she said.',\n",
              "  'he cried.',\n",
              "  'The door stood open.',\n",
              "  '\"Take a cab, Nell - if you want any change - \" he began, fumbling with his curtailed fingers for silver.',\n",
              "  'She looked very handsome; at the same time rather absurd in her evening dress.',\n",
              "  'A little man in a tweed cap got out and rapped at the door.',\n",
              "  '\"Dear Crosby, good-bye,\" she said.',\n",
              "  '. . hm .',\n",
              "  'No; I don\\'t  go to races,\" she replied rather shortly.',\n",
              "  'Some of the flowers were fully out; others were still unopened.',\n",
              "  'The huge young man came slowly down the stairs.',\n",
              "  'Curse their little inquisitive minds.',\n",
              "  'She must cure herself of the habit.',\n",
              "  'We are the damned?\"',\n",
              "  \"That's what I like, Martin thought.\",\n",
              "  'Delia exclaimed, turning towards them with her hands outstretched.',\n",
              "  'He looked at the flame that had become almost invisible in the sun.',\n",
              "  '\"Fellow citizens!\"',\n",
              "  'On the very top?',\n",
              "  'He was something in the Foreign Office; with a handsome Roman head.',\n",
              "  'They slowed - they almost stopped.',\n",
              "  'He looked the other way; he conveyed his partner out of the door.',\n",
              "  'But why bite off that word as if it were a cherry on the end of a stalk?',\n",
              "  'Then as he stood at the window looking at the little figures slinking along the wet pavement he saw Crosby come up the area steps with a parcel under her arm.',\n",
              "  'He was watching her.',\n",
              "  'The pause seemed to hold them in the light of some thought that they both wished to put away.',\n",
              "  'He was a handsome young man.',\n",
              "  '\"She\\'s retired, and her dog\\'s dead.\"',\n",
              "  '\"My dear boy, you don\\'t  expect me to sit on THAT?\"',\n",
              "  'Straight out in a brick tomb, she said.',\n",
              "  '\"Now my hat,\" said Kitty.',\n",
              "  'Miss Green got it up.',\n",
              "  '\"And why were you so late?\"',\n",
              "  'She opened the book that lay on the counterpane.',\n",
              "  '\"I don\\'t  mean dreams exactly,\" Eleanor went on.',\n",
              "  'she asked herself, leaning forward.',\n",
              "  'Travellers watched the hands of the round yellow clocks as they followed porters, wheeling portmanteaus, with dogs on leashes.',\n",
              "  '\"Here\\'s the housekeeper!\"',\n",
              "  'He stretched out his feet.',\n",
              "  'She faced them.',\n",
              "  'There was a curious pallor on his face.',\n",
              "  'As he looked at them, some emotion about himself, about his own life, came over him, and he arranged another background for them or for himself - not the mantelpiece and the bookcase, but cataracts roaring, clouds racing, and they stood on a cliff above a torrent. . . .  \"Marriage isn\\'t  for everyone,\" Eleanor interrupted.',\n",
              "  'The old lady grinned.',\n",
              "  'A spasm of jealousy ran through Ashley.',\n",
              "  'Then the knee against which she was sheltering herself moved.',\n",
              "  'It was a warm night, but they always shut the windows and drew the curtains.',\n",
              "  'she thought nervously.',\n",
              "  'She liked the fat bouncing young man in his flaxen wig: his voice was magnificent.',\n",
              "  'There was the Serpentine, red in the setting sun; the trees grouped together, sculptured, losing their detail; and the ghostly architecture of the little bridge, white at the end, composed the scene.',\n",
              "  '\"What picture?\"',\n",
              "  'They saw her.',\n",
              "  '\"I don\\'t  know what\\'s come over Rosie tonight,\" she said, bustling in.',\n",
              "  \"People's faces even seemed to repeat themselves.\",\n",
              "  '\"A waltz .',\n",
              "  'Another gun boomed.',\n",
              "  'But there should have been a sovereign, she said.',\n",
              "  'That had always been her aim; to mix people; to do away with the absurd conventions of English life.',\n",
              "  \"He drew his chair beside Maggie's; and looked at the scene in front of them.\",\n",
              "  'She could only be sixteen or seventeen.',\n",
              "  '\"A very remarkable fellow,\" he went on.',\n",
              "  'She waved her hand at the water.',\n",
              "  'And here a church raised its filigree spire.',\n",
              "  'She half rose.',\n",
              "  'She was holding out her hand.',\n",
              "  'Then they came to the private part of the house, where the red carpet was laid; and a roar of voices sounded from behind a door as if a flock of sheep were penned there.',\n",
              "  '\"Thank you!',\n",
              "  'She took up her mug.',\n",
              "  'Both windows in the back room were open, and the smoke was blowing in from the garden.',\n",
              "  '\"Wasn\\'t  there some story,\" he began, \"about a letter?\"',\n",
              "  'Then it began again - hammer, hammer, hammer.',\n",
              "  'Martin poured her out a glass.',\n",
              "  '\"Little demons!\"',\n",
              "  '. .\"    \"And how much longer,\" he asked himself, pressing the bell, as he stood on the door-step of the house in Abercorn Terrace, \"is old Crosby going to keep me waiting?\"',\n",
              "  'Someone had come into the room.',\n",
              "  'All the weights in his body seemed to shift.',\n",
              "  \"Isn't  it natural .\",\n",
              "  'But he disliked brooding over unpleasant thoughts.',\n",
              "  '\"You\\'ve  had that talk before,\" he said.',\n",
              "  'Maggie came up to him to take it.',\n",
              "  'Then she looked up, for there was a change in the tone of voice.',\n",
              "  'Then the cat, which had been asleep, rose very slowly, arched its back and stretched itself to its full length.',\n",
              "  '\"I wish you wouldn\\'t  pick up all North\\'s slang, my dear. . . . Oh, here\\'s Eleanor,\" she broke off.',\n",
              "  'He looked so pink and clean and genial in his dinner-jacket.',\n",
              "  'Kitty began.',\n",
              "  'It was right on top of them this time.',\n",
              "  '\"Of course he was in love,\" he said.',\n",
              "  'Their privacy was over.',\n",
              "  '\"You won\\'t  mind pigging it,\" he said.',\n",
              "  'She felt extraordinarily happy.',\n",
              "  'But as he glanced at Ashley he caught his head against the panels and the poppies.',\n",
              "  'On the contrary, she felt appropriate.',\n",
              "  'He took up a fork and examined it between the prongs.',\n",
              "  'He sat still with his head sunk on his breast.',\n",
              "  '\"Thanks, Martin.',\n",
              "  'She gave her chair a little push so that she got the two heads in relation side by side.',\n",
              "  'said Mrs Aislabie, looking up at the portrait of Lady Lasswade as a young woman.',\n",
              "  '\"Not here,\" she said.',\n",
              "  'The old woman went off into a whining plaint; the words ran themselves together into a chant that was half plaint, half curse.',\n",
              "  'Cole smiled; he was happy.',\n",
              "  'Yes, they saw her: she was lost.',\n",
              "  '\"Well done!\"',\n",
              "  '\"That\\'s very interesting,\" she said shyly.',\n",
              "  '\"The same to you, Kitty,\" said Rose, bowing to her.',\n",
              "  'Black-edged cards were attached to them, \"With deep sympathy from Major and Mrs Brand\"; \"With love and sympathy from General and Mrs Elkin\"; \"For dearest Rose from Susan.\"',\n",
              "  'The bonfire was burning fiercely.',\n",
              "  '\"Oh it\\'s his fob, you mean,\" she added, looking at the gold seal which swung up and down as Nicholas danced.',\n",
              "  'Here was a bottle of beer: it poured: then stopped: then poured again.',\n",
              "  \"It's changed her, having a child, he thought.\",\n",
              "  'And they passed on.',\n",
              "  'Edward began unbuttoning his waistcoat; he had a perfect figure, Ashley thought, looking at him, standing between them.',\n",
              "  '\"The Hollies,\" she said.',\n",
              "  'Miss Craddock expostulated.',\n",
              "  'He had forgotten himself.',\n",
              "  'He had lost his puzzled look completely.',\n",
              "  '\"We musn\\'t  let him go back, Maggie,\" she said.',\n",
              "  '\"Here,\" she began again, \"here you all are - talking about North - \" He looked up at her in surprise.',\n",
              "  '\"Pah!\"',\n",
              "  'The flowers, too, looked unreal.',\n",
              "  'He put down his paper and went to the writing- table.',\n",
              "  'The voices grew fainter, fainter and fainter.',\n",
              "  'And somebody\" - she paused to make her fold more accurately - \"came out from behind a counter and said, \\'I\\'m your cousin.',\n",
              "  'She knocked and waited.',\n",
              "  'Through the gap she could see a slice of the sky; then roofs; then the tree in the garden; then the backs of houses opposite standing in a long row.',\n",
              "  'But as she went up the steep shiny stairs excitement became mixed with fear: once more she had scamped her work; she had not \"given her mind to it\" again this week.',\n",
              "  'But the nuisance of taking notes of what people say, Peggy went on as Delia passed her, is that they talk such nonsense .',\n",
              "  '\"Untidy, am I?\"',\n",
              "  '\"What are you thinking?\"',\n",
              "  'Baxter was handing her coat.',\n",
              "  'It was Crosby applying herself to the gong in the hall.',\n",
              "  'He rose and looked out of the window down into Piccadilly.',\n",
              "  '\"Did they mind it?\"',\n",
              "  'He had somewhere to go, after all.',\n",
              "  'The lady hurried on pursing her lips together.',\n",
              "  \"As they went down the stairs, and he watched the ladies' dresses in front of them trail from step to step, he thought, What on earth am I going to say to her?\",\n",
              "  '\"Renny, whom I never see.',\n",
              "  '\"Thank Uncle Abel for the lovely necklace,\" her mother prompted her.',\n",
              "  'A little blur had come round the edges of things.',\n",
              "  'They slid with a familiar click along the brass rod, and soon the windows were obscured by thick sculptured folds of claret-coloured plush.',\n",
              "  '\"Hullo, Ashley,\" he said rather curtly.',\n",
              "  'She ceased to notice what houses they were passing.',\n",
              "  '. .\" Sara began, screwing her hands together and clinging to her sister, \"that life. . . .\"  \"Don\\'t  be such an ass,\" said Maggie, pushing her away, as the door opened.',\n",
              "  '\".',\n",
              "  '\"Wearing a white flower in his button-hole,\" she began.',\n",
              "  '\"Miss Ann Hillier,\" she said.',\n",
              "  '. . a gigantic pattern, momentarily perceptible?',\n",
              "  'Darkness pressed on the windows; towns had merged themselves in open country.',\n",
              "  'It was true, now that she referred to it.',\n",
              "  '\"Midges very bad this year, William?\"',\n",
              "  'Slices of bread and butter were in their hands, but they stayed the bread and butter and stared at Kitty as she sat down.',\n",
              "  'He had hardly any hair on the top of his head.',\n",
              "  'He raised his cap, as he stood in the hall, for men were lurching down the stairs carrying the coffin.',\n",
              "  'She was talking nonsense.',\n",
              "  'He thought of the old woman standing at the door of his room with the pyjama jacket over her arm, and the devout look on her face.',\n",
              "  'He had half a mind to stop and buy a bunch to take to Sally.',\n",
              "  \"But the Jew's in my bath, I said - the Jew .\",\n",
              "  'She had to stop; to put her hand into that shapeless paw.',\n",
              "  'For the thousandth time he had dashed her dream.',\n",
              "  '\"The best I could do. . . .',\n",
              "  '\"Did you enjoy your party at the Robsons\\', Kitty?\"',\n",
              "  '. . the one you translated.',\n",
              "  'She spoke so pouncingly that the fork she held upright seemed like a weapon with which she was about to pinion him.',\n",
              "  'He ground the grains of sugar against the walls of his cup.',\n",
              "  'A lady, fashionably dressed with a purple feather dipping down on one side of her hat, sat there sipping an ice.',\n",
              "  'The voice of the man crying \"Old chairs and baskets to mend,\" slowly died away.',\n",
              "  'As he came in he had caught the tail of an infuriating sentence - of a sentence that seemed to show that they had made some plan together.',\n",
              "  'she said, speaking into the telephone.',\n",
              "  'Each emotion touched a different nerve.',\n",
              "  'But perhaps she did not mind things like that.',\n",
              "  'She was thinking of Rover, he supposed.',\n",
              "  \"And I haven't  got one, she thought.\",\n",
              "  'Perhaps there\\'s \"I\" at the middle of it, she thought; a knot; a centre; and again she saw herself sitting at her table drawing on the blotting-paper, digging little holes from which spokes radiated.',\n",
              "  '\"And the people\\'s not worth it, sir,\" she said, referring to the Zwinglers, Paravicinis and Cobbs who used to come to the back door for cast-off clothing in the old days.',\n",
              "  '\"Just as I was thinking of you, Martin!\"',\n",
              "  'Peggy looked where she pointed.',\n",
              "  'The street noises, the unconcerned, business-like look of things, were refreshing after the hot steamy room.',\n",
              "  'Eleanor came and sat down.',\n",
              "  'Now she heard her step on the stairs.',\n",
              "  'A young man came past them in a closely buttoned-up coat as if he had no shirt.',\n",
              "  'She remained outside, and so did her father, she thought.',\n",
              "  \"We're early.\",\n",
              "  'He had disappeared.',\n",
              "  '\"And the pain - \" Mrs Potter stretched out her hands; they were knotted and grooved like the gnarled roots of a tree.',\n",
              "  '\"Rose is coming?\"',\n",
              "  'She felt as if things were moving past her as she lay stretched on the bed under the single sheet.',\n",
              "  'It seemed a very short time to her; but then, she thought, it was before Peggy was born.',\n",
              "  'Wrinkles had come on his forehead; he made no attempt to hide his anxiety.',\n",
              "  '\"Miss Pym\\'s conservatory?\"',\n",
              "  '\"There! .',\n",
              "  \"The fruit, the fountain that's in all of us; in Edward; in Eleanor; so why caparison ourselves on top?\",\n",
              "  '\"Take care,\" he said.',\n",
              "  'For a moment she seemed to be in some borderland between life and death.',\n",
              "  'He pointed to a hole under the collar, fringed with brown.',\n",
              "  '\"And then,\" she went on, flourishing her hands, \"Lady Lasswade sits down; puts her gloves on the table,\" - she patted a cushion - \"like that.\"',\n",
              "  '\"No, not now - not now!\"',\n",
              "  '\"The Scarborough moors,\" she said aloud.',\n",
              "  'Eleanor felt a little thrill of awe run through her.',\n",
              "  '. . the pillar-box,\" she murmured as they drove past.',\n",
              "  'The sky was a faint blue; the roofs were tinged purple against the blue; the chimneys were a pure brick red.',\n",
              "  'Oi, oi, oi, oi, oi, oi.',\n",
              "  'She used to take him on her knee and croak out in her wheezy rattle of a voice, \"The King of Spain\\'s daughter came to visit me, all for the sake of. . . .\" And then suddenly her knee gave, and down he was tumbled onto the floor.',\n",
              "  'Then there was a sound behind him; a presence - in the play or in the room?',\n",
              "  'He held a little black spot in front of him.',\n",
              "  'He held the little blue flower between his thumb and finger.',\n",
              "  'The lady was dead; the gentleman too.',\n",
              "  'The trombone wailed outside.',\n",
              "  'She could stand it no longer.',\n",
              "  'Sara had come in from the bedroom.',\n",
              "  'Then he sipped.',\n",
              "  '- scooped out over the water, and looked down - \" She looked down at her plate.',\n",
              "  '\"I love it,\" she said.',\n",
              "  '\"The tray,\" said Milly.',\n",
              "  'There was no answer.',\n",
              "  'Crosby pulled herself together and tottered across the road into the High Street.',\n",
              "  'It was longer than usual; it was about an adventure with somebody called Renton.',\n",
              "  'Her emotion seemed to him out of all proportion to its object; but it was genuine.',\n",
              "  'The road was beaten to a metallic silver.',\n",
              "  'Delia hurried past her.',\n",
              "  \"she cried clenching her hands together beneath her mother's picture.\",\n",
              "  '1913   It was January.',\n",
              "  'The horse stood patiently with the reins drooping and its head bent.',\n",
              "  '\"Now, Nurse,\" she reminded him.',\n",
              "  'The man bawled in the street underneath.',\n",
              "  'A damp, earthy smell came up from the wet ground.',\n",
              "  'She felt rather nettled.',\n",
              "  'City men in their neat striped suits and bowler hats were brushing past them all the time.',\n",
              "  'Yes, she thought as she descended another step, now I\\'m going to be trounced; now I\\'m going to be paid back for telling him he\\'d write \"little books.\"',\n",
              "  'He read; then he sipped; then he read; then he sipped again.',\n",
              "  '. .\" he had said.',\n",
              "  \"Hadn't  he eyes?\",\n",
              "  '\"We dine in the basement,\" she continued, turning to Eleanor, \"because we\\'ve  no servants.\"',\n",
              "  'Rose was dead.',\n",
              "  'He led them into the cellar.',\n",
              "  'She turned to her writing-table, tore up a letter and threw it away.',\n",
              "  'It was crowded with objects.',\n",
              "  '\"We\\'re having a bonfire,\" she said.',\n",
              "  'North looked at her.',\n",
              "  '\"How well I remember\" - her voice seemed to get fuller and rounder - \"the day the engagement was announced.',\n",
              "  'Her mother lay with her eyes shut; the hand with the single ring, the white and wasted hand, lay on the counterpane.',\n",
              "  'She turned and pulled the blue shade over the lamp.',\n",
              "  'I come of a family,\" he said to North, \"that has served its king and country for three hundred - \"  \"English settlers,\" said Delia, rather shortly, returning to her soup.',\n",
              "  'The leading article bored Kitty with its pompous fluency.',\n",
              "  'They were still rising and settling, laughing, talking. . . .',\n",
              "  'said Kitty, looking at the queer old man whose face always made her think of a hairy gooseberry.',\n",
              "  'she went on, tapping him on the shoulder.',\n",
              "  'They were going up the iron staircase.',\n",
              "  'He wanted to make her talk.',\n",
              "  'Those were his cronies, she thought; this was his life.',\n",
              "  'She turned to the window again.',\n",
              "  'She rose.',\n",
              "  \"There's no other way, I suppose, she thought, taking up her pencil again.\",\n",
              "  'And then she stopped.',\n",
              "  '\"I saw .',\n",
              "  'she exclaimed, raising her glass.',\n",
              "  'She had a great admiration for Mrs Levy, who was dying of cancer.',\n",
              "  'The street curved away, looking wider and darker than usual.',\n",
              "  'They were near the bald rubbed space where the speakers congregate.',\n",
              "  '\"That\\'s the house over there,\" said Rose, pointing.',\n",
              "  'But before she went into the woods, she stopped and looked back at the house.',\n",
              "  '\"It\\'s all so .',\n",
              "  'A voice pealed out across the street, the voice of a woman singing scales.',\n",
              "  'He still felt uncomfortable at having lost his temper.',\n",
              "  '. . is the church,\" he added.',\n",
              "  '\"Well, he doesn\\'t  talk history to me,\" said Kitty, remembering the damp feel of a heavy hand on her knee.',\n",
              "  'she asked, as if she were trying to remember.',\n",
              "  'He was vain; he was touchy; he was - North stole a glance to add another impression -  established.',\n",
              "  '\"Lord!',\n",
              "  '\"The children .',\n",
              "  'He began to carve the chicken.',\n",
              "  '\"Sold\" was written on a strip of bright red paper pasted across the house-agent\\'s board.',\n",
              "  'We know nothing, even about ourselves.',\n",
              "  'Lady Lasswade had risen; everybody rose.',\n",
              "  'The cab passed over the bridge.',\n",
              "  '\"It\\'s been so good of you to come!\"',\n",
              "  \"Oh Lord, North said to himself, she's as bad as they are.\",\n",
              "  'They went straggling in ones and twos along a path until they reached a fresh mound of yellow earth heaped beside a pit; and there again she noticed how the grave-diggers stood at a little distance, rather behind, with their spades.',\n",
              "  '\"It\\'s a fine church,\" she said, turning round.',\n",
              "  'The maid was holding the door open.',\n",
              "  '\"I\\'m sorry to say it - but we\\'re savages compared with you.\"',\n",
              "  'Then he flicked his whip and they drove on; past the market cross; past the red brick town hall, with the arches under it; along a street of bow-windowed eighteenth- century houses, the residences of doctors and solicitors; past the pond with chains linking white posts together and a horse drinking; and so out into the country.',\n",
              "  'Anyhow it seemed to him, half hearing their argument, looking at their gestures, catching their slang, that they were all the same sort.',\n",
              "  '\"Come and lunch,\" he said.',\n",
              "  'But he was off again.',\n",
              "  '\"Yes, just as you like,\" her husband echoed her.',\n",
              "  'Their privacy was ended.',\n",
              "  \"Kitty's red handsome face was hanging over him.\",\n",
              "  'Morris had taken this; Delia had taken that; everything had been shared out and separated.',\n",
              "  '\"I know \\'em,\" he chuckled.',\n",
              "  'But he had cheated her at every point.',\n",
              "  'They began to discuss politics.',\n",
              "  'People on foot, people in cabs were being sucked in like straws round the piers of a bridge; she had to wait.',\n",
              "  'Eugénie did not answer him.',\n",
              "  'They fixed themselves upon a salt cellar with a look of rapture that made North feel once more puzzled.',\n",
              "  'Opposite them stood a Dutch cabinet with blue china on the shelves; the sun of the April evening made a bright stain here and there on the glass.',\n",
              "  '\"What about this chap?\"',\n",
              "  '\"No, I\\'ll walk,\" she said, turning.',\n",
              "  'North could see her glass held at the level of his head on her knee.',\n",
              "  \"She imitated her mother's manner so exactly that Maggie smiled.\",\n",
              "  '\"Loving only your own sex,\" he added.',\n",
              "  'Then Peggy came, reluctantly.',\n",
              "  'The car started off with a jerk.',\n",
              "  'Another gun boomed out.',\n",
              "  'The sunlight suddenly quickened in the room, and laid a broad bar of light across the floor.',\n",
              "  'His weather-beaten nag with the broken knees had stopped.',\n",
              "  'He had said it twenty times already.',\n",
              "  'He repeated that too, but critically, as if he were actor and critic; he listened but he commented.',\n",
              "  'Then she took a flower from the table and tossed it at her.',\n",
              "  'An hour is sixty minutes, she said to herself; two hours are one hundred and twenty minutes.',\n",
              "  'Down on the roofs it fell - here in Westminster, there in the Ladbroke Grove; on the wide sea a million points pricked the blue monster like an innumerable shower bath.',\n",
              "  'He picked up one of the crinkled strips and began reading it: \"\\'.',\n",
              "  'The rain must be coming in.',\n",
              "  'Miriam Parrish was reading letters.',\n",
              "  'I was just going in.\"',\n",
              "  '\"He takes an orange - \"  \".',\n",
              "  'She set down her mug empty, among the flowers.',\n",
              "  '\"He wasn\\'t  horrid,\" said Martin.',\n",
              "  '\"That reminds me,\" said Eleanor.',\n",
              "  'After the dark, the drawing-room with its lamps lit had the effect of a stage.',\n",
              "  \"Then why hadn't  she married one of them, he wondered.\",\n",
              "  'There was some family joke which Kitty could not follow about mending boots and hencoops.',\n",
              "  '\"She\\'s just back from a tour in Greece.\"',\n",
              "  '\"Come along!\"',\n",
              "  'Rose clutched her hand.',\n",
              "  '\"Be an angel, North, and fetch spoons!\"',\n",
              "  '\"You ought to be ashamed of it,\" she told him.',\n",
              "  'She watched them.',\n",
              "  'Immune, she said, looking at a picture without seeing it.',\n",
              "  'They listened.',\n",
              "  '. .\" she began, helping the pudding.',\n",
              "  'Pigeons waddled close to his feet.',\n",
              "  '\"About the woman I\\'m in love with,\" he said.',\n",
              "  'She had been a little girl of thirteen or fourteen when Crosby came to them, looking so stiff and smart.',\n",
              "  '\"In Paris,\" she added.',\n",
              "  'She too felt old, heavy and dull.',\n",
              "  'Digby did look a bit off-colour, he thought.',\n",
              "  'Was someone coming in?',\n",
              "  'But there was no clock.',\n",
              "  'The wind was rattling the windows in the back room; it was bending the little bushes; they still had no leaves on them.',\n",
              "  'Here the ladies and gentlemen had the same kind of way with them.',\n",
              "  'She put her bag on the seat and sat back under the shade of her white umbrella.',\n",
              "  'Then he roused himself, threw away his match, and caught up Sally.',\n",
              "  'Why not?',\n",
              "  'What about that house then, she said to herself, looking at a house with a verandah among some trees.',\n",
              "  'Everybody laughed; Eleanor had thought he was talking about Rover, the dog, when in fact he was talking about Mrs Egerton, the lady.',\n",
              "  '. . don\\'t  talk such damned poppycock -  that\\'s what you really said,\" Nicholas was saying.',\n",
              "  'They looked at each other.',\n",
              "  '\"But you\\'ll be so tired tomorrow,\" Peggy protested, standing beside her.',\n",
              "  'Now she stood a bottle of wine among the cheap lodging-house crockery.',\n",
              "  'That was odd, it was the second time that evening that somebody had talked about her life.',\n",
              "  'Weren\\'t  you taught something at school?\"',\n",
              "  '\"Yes,\" she said, \"that\\'s Maggie.\"',\n",
              "  'But she resumed.',\n",
              "  '. . live more naturally .',\n",
              "  '\"How well he did that!\"',\n",
              "  '\"Not that side - the other,\" he said.',\n",
              "  'Take two coos, Taffy; take two coos, Taffy; tak .',\n",
              "  'It was partly the way he moved, as if chair and table rayed out some influence which he could feel by means of some invisible antennae, or whiskers, like a cat.',\n",
              "  '\"Harrow,\" said Ann.',\n",
              "  'She lay looking at the ceiling.',\n",
              "  'But why did Martin laugh at me for having a car?',\n",
              "  'Her middle-aged face was crinkled like an old glove that has been creased into a multitude of fine lines by the gestures of a hand.',\n",
              "  'But where are the Sweeps and the Sewer-men, the Seamstresses and the Stevedores?',\n",
              "  '\"I drew that - I drew that!\"',\n",
              "  \"Now who d'you know?\",\n",
              "  '\"Have you been chasing cats again?\"',\n",
              "  'The birds were singing in their scattered way.',\n",
              "  'The grudging fire which had been flickering feebly had died down now.',\n",
              "  '\"Already!\"',\n",
              "  '\"Went out with Rose,\" said Sara.',\n",
              "  'Eleanor asked him; she had joined them in her flowing red cloak.',\n",
              "  'What d\\'you mean by \\'tosh\\'?\"',\n",
              "  'But she said nothing.',\n",
              "  '\"Ordinary people - ordinary people ought to do what?\"',\n",
              "  \"But why don't  you enjoy yourself more?\",\n",
              "  '\"I liked going there.\"',\n",
              "  'He lowered himself cautiously.',\n",
              "  'But there was the green light - \"GO\".',\n",
              "  '\"Not that it looked much like it at Covent Garden tonight,\" she added.',\n",
              "  '\"Washing . . . ?\"',\n",
              "  'His glance passed over them without any sign of recognition.',\n",
              "  '\"Ranch, yes, ranch,\" he confirmed her.',\n",
              "  'The footmen were almost pulled off their feet by the heavy folds that they had to hold back.',\n",
              "  'He could not think what to say next.',\n",
              "  'The young man ran up the steps into the house; the door shut upon him and the cab drove away.',\n",
              "  '\"My dear boy,\" she heard Edward say as he smiled benignly down at him, \"don\\'t  ask me.',\n",
              "  'North twitted her.',\n",
              "  'Martin rose and went to speak to him.',\n",
              "  'But he paused a moment, as if there was nothing particular for him to be off to.',\n",
              "  '\"Here, take this - \"  But Peggy brushed aside the hand, and the coins rolled on the doorstep.',\n",
              "  'Her mother at once supplied the words she should have spoken.',\n",
              "  'She muddled things up; for example, what was the difference between Common Law and the other kind of law?',\n",
              "  'She went upstairs.',\n",
              "  '\"And what have you been doing all day?\"',\n",
              "  'She envied them.',\n",
              "  '\"I see.',\n",
              "  'Mira was on the scene again; the other fellow had turned out, as he knew he would, a bad egg.',\n",
              "  'Then it all began again.',\n",
              "  'He wagged his head with melancholy tolerance from side to side.',\n",
              "  'she said aloud as she came up with them.',\n",
              "  '\"It\\'s only for my bedroom,\" she said quickly.',\n",
              "  'A dray went roaring past.',\n",
              "  'Her lip raised itself, like that of a horse that is going to bite.',\n",
              "  '\"It is an admirable habit to make a knot,\" said Edward in his courteous, clipped way, lowering himself a little stiffly onto the chair beside her.',\n",
              "  'she was saying.',\n",
              "  \"Something's wrong, he thought; there's a gap, a dislocation, between the word and the reality.\",\n",
              "  'He must let nothing dwindle off into vagueness.',\n",
              "  'Show us how you used to dance,\" Maggie urged her.',\n",
              "  'It looked too new to be buried for ever.',\n",
              "  'Eugénie had been proud of it.',\n",
              "  'The well, Eleanor remembered, always gave out in a hot summer.',\n",
              "  \"He caught Eleanor's eye.\",\n",
              "  'But here the door opened and Hiscock came in with a note on a salver.',\n",
              "  '\"Very full, Captain,\" he said.',\n",
              "  'She wanted to lie still.',\n",
              "  \"But he wasn't  like that, she thought, glancing at the press cuttings.\",\n",
              "  '\"What a lie!\"',\n",
              "  '. .\" She stopped again.',\n",
              "  '\"Why d\\'you always choose slums - \" he was beginning, for children were screaming in the street below, when the door opened and a girl came in carrying a bunch of knives and forks.',\n",
              "  '\"That\\'s what I saw on the perambulator,\" said Eleanor.',\n",
              "  '\"Which part of Greece?\"',\n",
              "  '\"But you\\'ll have to see I don\\'t  make a fool of myself,\" he added.',\n",
              "  'he said, waving his hand at her as he crossed the room.',\n",
              "  \"said North, pointing to another part of the monster's person.\",\n",
              "  'She felt his excitement through her dress; he was like a dog on a leash; straining forward with all his nerves erect, she felt, as he laid his hand on her knee.',\n",
              "  'She began to walk quickly up Melrose Place.',\n",
              "  '\"Yes, how they\\'ve  spoilt it,\" she was saying.',\n",
              "  'He felt sleepy himself.',\n",
              "  'There was a blue and red Japanese plate on either side of it.',\n",
              "  '\"I had it on the tip of my tongue - something I want to ask you.',\n",
              "  'She broke off a twig; she picked a flower and put it to her lips.',\n",
              "  'The car swept up finely.',\n",
              "  'Then she remembered and told her.',\n",
              "  'And they were a handsome family, she thought as they filed in - the young ladies in their pretty dresses of blue and white sprigged muslin; the gentlemen so spruce in their dinner jackets.',\n",
              "  '\"Shall we send it back,\" she said, \"or eat it as it is?\"',\n",
              "  'The dog slept on its mat at the foot of the stairs.',\n",
              "  '\"And who\\'s that?\"',\n",
              "  'She went into the kitchen and came back with a saucer of milk.',\n",
              "  'She glanced at the calendar above the washstand and tore off Thursday and screwed it into a ball, as if she were saying \"That\\'s over!',\n",
              "  'Tears checked her speech.',\n",
              "  'Everybody seemed light-hearted and irresponsible, sallying out of their houses, flaunting along the streets with pennies for the organ-grinders and pennies for the beggars.',\n",
              "  'Gently, methodically, like a man setting in motion some still serviceable but rather weary nag, he was off remembering old days, old dogs, old memories that slowly shaped themselves, as he warmed, into little figures of country house life.',\n",
              "  '\"I\\'m tired,\" she apologised.',\n",
              "  '\"Here, Mama!',\n",
              "  '\"Here, Peggy,\" said somebody, coming behind her.',\n",
              "  'She stood for a moment, like a frightened little animal, peering round her before she ventured to brave the dangers of the street.',\n",
              "  '\"Yes,\" said Sara.',\n",
              "  '\"We\\'ve  been ringing and ringing.\"',\n",
              "  '\"I wonder if Kitty\\'ll come tonight,\" she mused.',\n",
              "  '\"Done it all off his own bat. . . . A delightful house .',\n",
              "  'Peggy was still absorbed in her face.',\n",
              "  'he was shouting.',\n",
              "  'Gibbs had lost his glamour.',\n",
              "  '\"They died away,\" she said.',\n",
              "  '\"They seem to think a lot of him at Oxford,\" he said gruffly.',\n",
              "  'She shut the door.',\n",
              "  '\"Tell Jo tea\\'s on the table,\" said Mrs Robson to Nelly, who had brought in a dish with a cover on it.',\n",
              "  'The scene had changed so often that morning; and every scene required a different adjustment; bringing this to the front; sinking that to the depths.',\n",
              "  '\"He\\'ll be back in a minute,\" said Peggy, drawing up a chair.',\n",
              "  'The nerve down her spine seemed to tingle as the praise reached her father.',\n",
              "  '. .\"  \"The Antigone?\"',\n",
              "  '\"I do.',\n",
              "  '\"Who\\'s the young Frenchman,\" she said, \"with the top hat in the picture?\"',\n",
              "  'Take two coos, take two coos, tak .',\n",
              "  '\"And remember, you\\'re coming to stay with us in America,\" she added.',\n",
              "  'She pressed her face into a cleft of the pillows.',\n",
              "  'A large man sitting at a table in the corner was thumping on the table with his fork.',\n",
              "  '\"Eleanor\\'s nephew,\" said Sara.',\n",
              "  'The surface sight was strange on top of his memory of them, as he had seen them years ago.',\n",
              "  'They were driving too fast, Kitty thought; but the road - she kept her eye on it - was still empty.',\n",
              "  '\"A play?\"',\n",
              "  \"Some people do and some don't , she thought.\",\n",
              "  'A sweet scent of cows and grass was wafted up to them.',\n",
              "  '\"Oh, Delia - I was dreaming,\" she murmured half apologetically.',\n",
              "  'At last the Wanderer had gone.',\n",
              "  'Here?\"',\n",
              "  'She looked along the street and relished the sight of cabs, vans and carriages all trotting past with an end in view.',\n",
              "  'How has Dubbin become Sir William Whatney?',\n",
              "  'When she had drawn the curtains in both rooms, a profound silence seemed to fall upon the drawing-room.',\n",
              "  'He looked down the table.',\n",
              "  'And the portentous old men with their exaggerated features, looked like gargoyles, carved, mediaeval, unreal.',\n",
              "  '\"And I,\" he said, as he took his plate, \"was among the damned.\"',\n",
              "  'He had got the very accent, he thought; he had got it from the young man whose hair looked as if a rake had gone through it.',\n",
              "  'Deviously ascending from the basement the silver teapot was placed on the table, and virgins and spinsters with hands that had staunched the sores of Bermondsey and Hoxton carefully measured out one, two, three, four spoonfuls of tea.',\n",
              "  '\"But don\\'t  marry the wrong woman!\"',\n",
              "  'It must have been cold, she thought, when the sun sank.',\n",
              "  \"She didn't  want to be a Don's wife and live in Oxford for ever.\",\n",
              "  'That\\'s what I said,\" she laughed.',\n",
              "  '\"Ah, but these lawyer chaps always know how to spin things out,\" said the Colonel.',\n",
              "  'As she did so, the music burst out down the street.',\n",
              "  'Then she blew out the candle and got into bed.',\n",
              "  'There were no flowers, he observed.',\n",
              "  'He was sitting at a table with a book propped in front of him, muttering to himself - perhaps it was Greek, perhaps it was Latin.',\n",
              "  'she murmured.',\n",
              "  'That, too, he remembered.',\n",
              "  'Some memory from his childhood came over him as he saw Rose sitting there at the tea table with her fist still clenched.',\n",
              "  'She had been following Eleanor about the house like a dog all the morning; the odious moment could no longer be put off.',\n",
              "  'The long story that Patrick was telling her kept breaking up the surface of her mind like oars dipping into water.',\n",
              "  'He wanted to tell her about Mira.',\n",
              "  'At their age, he thought, he had been alone on a farm sixty miles from a white man, in control of a herd of sheep.',\n",
              "  '\"Aren\\'t  you people coming down to supper?\"',\n",
              "  'Yes - it became perfectly obvious to her, listening to his voice through the door, that he had a great many love affairs.',\n",
              "  '\"Travelling, you see: when one has to mix up with all sorts of other people on board ship, or in one of those little places where one has to stay - off the beaten track - \" The taxi was sliding tentatively past house after house - \"You ought to go there, Peggy,\" she broke off; \"you ought to travel: the natives are so beautiful you know; half naked: going down to the river in the moonlight; - that\\'s the house over there - \" She tapped on the window - the taxi slowed down.',\n",
              "  'They gave as much as they took.',\n",
              "  'I begin again: I say, Let us give thanks to someone, to somebody .',\n",
              "  'Yes; four biscuits and a pale piece of chocolate - in case she should be hungry in the night.',\n",
              "  '\"And I dashed into the bathroom and cut this gash\" - she held out her wrist.',\n",
              "  'Sleep, now that she slept soundly, had given her dignity.',\n",
              "  'The voice was speaking and did not answer when he knocked.',\n",
              "  'The number on the box opposite was 1397.',\n",
              "  'As she jolted through the hot lanes she thought drowsily, What shall I do now?',\n",
              "  '. .\" she began, and braced herself and stood with her back against the door.',\n",
              "  '\"Oh yes!\"',\n",
              "  'He takes his time, the Colonel thought, as he stood on the door- step waiting.',\n",
              "  '. .\" said Eleanor, raising her hand.',\n",
              "  '\"Lady Lasswade!\"',\n",
              "  'Men walked briskly and unconcernedly along the pavement.',\n",
              "  '\"Oi, oi, oi!\"',\n",
              "  'They both looked at the moon, which shone like a silver coin, perfectly polished, very sharp and hard.',\n",
              "  'It looked strange after the streets - the perambulator in the hall; the umbrellas in the stand; the carpet, the pictures: they all seemed intensified.',\n",
              "  'She turned the paper.',\n",
              "  '\"I\\'ve  a car waiting.\"',\n",
              "  'She caught sight of her nephew and niece.',\n",
              "  'Ashley looked at him appealingly.',\n",
              "  'People were passing to their seats; they were sitting down and getting up again; they were taking off their cloaks and signalling to friends.',\n",
              "  'Why does one do it?',\n",
              "  'In their own garden all was empty and silent.',\n",
              "  'She knocked and rang at the same moment, for the darkness seemed to muffle sound as well as sight.',\n",
              "  'She dealt the coal a blow, and the sparks went volleying up the chimney.',\n",
              "  'said Mr Pickford.',\n",
              "  \"His face was all peaks and hollows; North's face was round and snub-nosed and rather blueish about the lips.\",\n",
              "  'There was a rush and quiver of sound; something seemed to be released; it was as if the life of the day were about to begin, and this were the chorus, the cry, the chirp, the stir, which salutes the London dawn.',\n",
              "  'she said, speaking rather quickly.',\n",
              "  'When?',\n",
              "  'She felt awkward.',\n",
              "  'She trod on the toe of a man in the corner, and pitched down between two elderly women.',\n",
              "  'And he had seen Mira - a stout respectable lady who wanted help with her roof.',\n",
              "  '\"I haven\\'t  been to Papa lately.',\n",
              "  'Kitty looked at them admiring the lovely frock.',\n",
              "  'he muttered.',\n",
              "  'There was a roar of laughter from the garden.',\n",
              "  '\"No,\" said Maggie.',\n",
              "  'The pigeons were a nuisance, he thought, making a mess on the steps.',\n",
              "  'Maggie leant out.',\n",
              "  'He stretched his hand up to pay the driver.',\n",
              "  '\"Throw it over!\"',\n",
              "  '\"Oh, Digby, I never heard you!\"',\n",
              "  'He laughed aloud.',\n",
              "  'Then she pulled a basket towards her and began to darn a sock.',\n",
              "  'As she passed the doors and went downstairs a weight seemed to descend on her.',\n",
              "  'But as she stood facing him and observed his little underfed body, and how his bow tie had worked up over his collar, she felt uncomfortable.',\n",
              "  '\"Twopence a bunch off a barrow in Oxford Street,\" she said.',\n",
              "  'Inside silent people sat huddled up; they looked cadaverous and unreal in the blue light.',\n",
              "  'There must be another life, she thought, sinking back into her chair, exasperated.',\n",
              "  'she said, turning to Renny.',\n",
              "  '\"What do THEY think of it, Martin?\"',\n",
              "  '\"Dead?\"',\n",
              "  '- turned her upside down and slapped her,\" she could hear her say.',\n",
              "  'Fresh-faced Mrs Lamley was standing behind the counter folding up the newspapers.',\n",
              "  '\"We\\'re off!\"',\n",
              "  'Gloom settled on his red handsome face as he stood gazing.',\n",
              "  'He always had some doubts before he began.',\n",
              "  'She had caught her bus.',\n",
              "  '\"Ebury Street,\" he told her.',\n",
              "  '\"You\\'ve  got to come and talk to Mrs Treyer,\" she said getting up.',\n",
              "  'Reading a book!\"',\n",
              "  'They said so. . . .  \"Parnell is dead!\"',\n",
              "  'She had seen the sky; and that sky was laid with pictures - she had seen it so often; any one of which might come uppermost when she looked at it.',\n",
              "  '\"The man you liked at Oxford?\"',\n",
              "  'He pointed.',\n",
              "  'She stood at the door, hesitating.',\n",
              "  'The young man seemed immense in that little room.',\n",
              "  'With a lurch, with a reel, the top-heavy birds came waddling; with a flap of the grey throat swinging, they hopped - she beat her hand on the counterpane as she read - to that lump there.',\n",
              "  'She reminded Rose, as she watched her, of Digby - absorbed in the arrangement of a bunch of flowers, as if to arrange flowers, to put the white by the blue, were the most important thing in the world.',\n",
              "  'Hammer, hammer, hammer, he went, fixing a board to the rotten roof.',\n",
              "  \"But I'm not - I'm not in the least like that, she said.\",\n",
              "  'Her pleasure was over.',\n",
              "  'It was the usual trick.',\n",
              "  '\"Ah yes, those were fine old days!\"',\n",
              "  'Cabs piled with boxes went past her.',\n",
              "  'she exclaimed, waving her hand as if she held a glass of wine.',\n",
              "  'the Colonel exclaimed.',\n",
              "  'Oh, not at all,\" she said brusquely.',\n",
              "  'There was an opulence, an ease and a charm about him when he was in a good temper that she liked particularly.',\n",
              "  'She was irritable; she was restless.',\n",
              "  'He never felt entirely at his ease with her.',\n",
              "  'She had not looked at it, so as to see it, for many years.',\n",
              "  'Everything was different from what she expected.',\n",
              "  'What ought we to do?',\n",
              "  'Maggie laughed, but very gently, so as not to wake the sleepers.',\n",
              "  'He made another note; THAT was the meaning.',\n",
              "  'They were inviting him to sit down and talk.',\n",
              "  'How nice not to mind what people think!',\n",
              "  '\"A child of ten would have been ashamed of it.\"',\n",
              "  'For she had liked the big shy girl who had so obviously preferred eating ices to showing her the Bodleian; and she had felt sorry for her too for some reason.',\n",
              "  'And the way she tore it!',\n",
              "  'She became something; a root; lying sunk in the earth; veins seemed to thread the cold mass; the tree put forth branches; the branches had leaves.  \"',\n",
              "  'He must damp her excitement.',\n",
              "  'He hooted.',\n",
              "  '\"He\\'ll find his way in time,\" she said.',\n",
              "  'That is the man, she said to herself, with a sudden rush of conviction, as she came out into the frosty air, that I should like to have married.',\n",
              "  '\"To the New World!\"',\n",
              "  'Everything looked clean swept, fresh and virginal.',\n",
              "  'Then Maggie took the poker and struck the wood and again a shower of red-eyed sparks went volleying up the chimney.',\n",
              "  '\"No, I can\\'t  allow that,\" she said.',\n",
              "  \"Upon the sloping desks of the offices near St. Paul's, clerks paused with their pens on the ruled page.\",\n",
              "  'Hunting was the subject they had in common.',\n",
              "  'he said, laying his hand on her knee.',\n",
              "  'He fell against a lamp-post to which he clung.',\n",
              "  'said Eleanor, looking in at the empty drawing-room.',\n",
              "  'This was \"the\" train; the others were toys in comparison.',\n",
              "  'Again she had the odd feeling of being two people at the same time.',\n",
              "  'She spoke in the absorbed tones of someone who is using their hands.',\n",
              "  'She had got up and said May I come and see you?',\n",
              "  'Only a tinge was left in the sky.',\n",
              "  '\"What an undertaking!\"',\n",
              "  'Suddenly he said aloud:  \"Possessiveness is the devil.\"',\n",
              "  'In order to disguise her figure, veils with beads on them hung down over her arms.',\n",
              "  'Round each eye were several little white strokes, where she had crinkled them up to avoid the glare on the Acropolis, at Naples, at Granada and Toledo.',\n",
              "  \"It was past eleven; and he must do an hour's work before breakfast.\",\n",
              "  '\"But what are you going to do, North?',\n",
              "  '\"Were you asleep?\"',\n",
              "  'Not only did she become real, but the village, the great house, the little house, the church and the circle of old trees also appeared before him in complete reality.',\n",
              "  'She had been making that distinction between people all her life.',\n",
              "  'They began to eat their pudding.',\n",
              "  'They all said so.',\n",
              "  '\"Rose of the flaming heart; Rose of the burning breast; Rose of the weary world - red, red Rose!\"',\n",
              "  '\"Hush,\" she whispered.',\n",
              "  '. . and that man, your friend - \" he began.',\n",
              "  'She pulled the pot towards her, and began to arrange the flowers.',\n",
              "  'She stopped.',\n",
              "  'It was the wine; it was the war.',\n",
              "  'But Kitty was standing up.',\n",
              "  '\"Anybody might see in,\" her mother had said, scolding her only the other day.',\n",
              "  'And then he brandished the sword over his head and shouted and sang; and the music rushed higher and higher; and the curtain fell.',\n",
              "  '\"You must tell me all about it afterwards,\" said Celia getting up.',\n",
              "  'She must go to Delia.',\n",
              "  \"Her hair, of the true Rigby red, never lay smooth as it should have done; Mrs Fripp's hair looked beautiful, glossy and tidy.\",\n",
              "  '\"What a business!\"',\n",
              "  'She went up to him therefore.',\n",
              "  '\"Papers,\" she protested, looking at the litter on the floor, \"papers, papers.\"',\n",
              "  'isn\\'t  it?\"',\n",
              "  'The houses were let out in offices, to societies, to people whose names were pinned up on the door-posts.',\n",
              "  '\"What nice rooms you\\'ve  found!\"',\n",
              "  'But there are too many trees and cows and too many little hills instead of one big one, she thought.',\n",
              "  '\"Seen the news?\"',\n",
              "  'said Eleanor absentmindedly, altering the focus of her glasses.',\n",
              "  'At last they reached the cemetery.',\n",
              "  'Peggy looked up.',\n",
              "  'Martin chaffed her.',\n",
              "  'Lady Lasswade took her place opposite Eleanor.',\n",
              "  'She was the eldest of the daughters, about twenty-two, no beauty, but healthy, and though tired at the moment, naturally cheerful.',\n",
              "  'Children he had left in the nursery were grown- up men at college; girls with pigtails were now married women.',\n",
              "  'Mrs Malone suddenly appealed to her.',\n",
              "  '\"How\\'s Papa?\"',\n",
              "  'to whom the miseries of the world are misery, when in fact, she thought, I do not love my kind.',\n",
              "  'Here was a pattern; here was a bald patch.',\n",
              "  \"Kitty felt a moment's pity.\",\n",
              "  '\"It\\'s only Nurse,\" she said to Milly, who was standing up with a look of alarm on her face.',\n",
              "  'The great clock, all the clocks of the city, seemed to be gathering their forces together; they seemed to be whirring a preliminary warning.',\n",
              "  'There was North - North,\" she raised her hand to her head as if in salute, \"cutting a figure like this - \\'What the devil\\'s that for?\\'',\n",
              "  'They had talked before.',\n",
              "  '\"D\\'you have to do that fresh every time?\"',\n",
              "  'His face shone as if it had only that moment been taken out of the sun.',\n",
              "  'The houses opposite all had the same little front gardens; the same steps; the same pillars; the same bow windows.',\n",
              "  'There was silence.',\n",
              "  'Immense reserves of emotion seemed to dwell in them.',\n",
              "  'He took her by the elbow to make her step out briskly.',\n",
              "  '\"I\\'m quite willing to oblige you,\" she went on.',\n",
              "  'Taking shares out of one company and putting them in another?',\n",
              "  '\"Take my aunt,\" she said to herself, beginning to arrange the scene into an argument she had been having with a man at the hospital, \"take my aunt, living alone in a sort of workman\\'s flat at the top of six flights of stairs .',\n",
              "  'It was what she meant that was true, he corrected himself; her feeling, not her words.',\n",
              "  'The train rushed with a roar through a tunnel.',\n",
              "  'Now I\\'ll go and sit with Mama.\"',\n",
              "  'Then he roused himself.',\n",
              "  'Great white dogs were gambolling; through the trees shone the waters of the Serpentine, set here and there with little boats.',\n",
              "  'Then, as if someone were speaking, words formed in her mind.',\n",
              "  'The man he used to read with.',\n",
              "  'The omnibus moved on.',\n",
              "  '\"We\\'ve  gone the wrong way.\"',\n",
              "  'She had to shout.',\n",
              "  'He held a book in his hand.',\n",
              "  'And then Celia began talking to Sir William, whom she wanted to settle near them; and Lady St. Austell had told her that the Grange was to let.',\n",
              "  'The rubber-shoed pony was pacing up and down the lawns leaving a pale wake in the grass behind him.',\n",
              "  'It was the second match that did the trick, she said to herself as she paid the driver and went in.',\n",
              "  '\"Ain\\'t  I stylish?\"',\n",
              "  '\"How people suffer! .',\n",
              "  ...],\n",
              " 'Woolf_Years.txt')"
            ]
          },
          "metadata": {},
          "execution_count": 32
        }
      ]
    },
    {
      "cell_type": "code",
      "execution_count": null,
      "metadata": {
        "id": "BkoJYMIgq0rp"
      },
      "outputs": [],
      "source": [
        "model = SentenceTransformer('paraphrase-MiniLM-L6-v2')"
      ],
      "id": "BkoJYMIgq0rp"
    },
    {
      "cell_type": "code",
      "execution_count": null,
      "metadata": {
        "id": "b3Sqtq5CcwBf"
      },
      "outputs": [],
      "source": [
        "import numpy as np"
      ],
      "id": "b3Sqtq5CcwBf"
    },
    {
      "cell_type": "code",
      "execution_count": null,
      "metadata": {
        "colab": {
          "base_uri": "https://localhost:8080/",
          "height": 66,
          "referenced_widgets": [
            "3f4ded25150242b9b78ae2a2382a8132",
            "bd81ffb63eb7448e85ab2b510427b6e1",
            "7da122388d9b4d1cb3435e8642569798",
            "d06fcf14b403432fbf50a7b4dd442478",
            "e706faaaa54847cea83fb233d87f4419",
            "b17b5a8b0fca45bf8482d99caf6900e2",
            "dbe6fca90aa64201a7dacfa030f79511",
            "297b2ae4d4964ac0914dc078b5187a24",
            "16af6d0c75ab4eeeafc7733d20ea6605",
            "34b6d9603b8743c89a2c0208f2b24068",
            "2c46d30dc72141d5a868145818088184"
          ]
        },
        "id": "YoTjHqFvwWi-",
        "outputId": "b979813e-4c45-4d0e-c38e-fd2f60a369be"
      },
      "outputs": [
        {
          "output_type": "display_data",
          "data": {
            "text/plain": [
              "  0%|          | 0/100 [00:00<?, ?it/s]"
            ],
            "application/vnd.jupyter.widget-view+json": {
              "version_major": 2,
              "version_minor": 0,
              "model_id": "3f4ded25150242b9b78ae2a2382a8132"
            }
          },
          "metadata": {}
        },
        {
          "output_type": "execute_result",
          "data": {
            "text/plain": [
              "(10394, 384)"
            ]
          },
          "metadata": {},
          "execution_count": 35
        }
      ],
      "source": [
        "from os.path import exists\n",
        "\n",
        "PATH = '/content/drive/My Drive/encodings/'\n",
        "embeddings_l = []\n",
        "authors_d = {}\n",
        "authors_l = []\n",
        "for i in tqdm_notebook(l_sents):\n",
        "    filename = PATH + i[2] + '.pickle'\n",
        "    if exists(filename): # load\n",
        "        with open(filename, 'rb') as f:\n",
        "            embeddings = pickle.load(f)\n",
        "    else: # calculate and save\n",
        "        embeddings = model.encode(i[1])\n",
        "        with open(filename, 'wb') as f:\n",
        "            pickle.dump(embeddings, f, pickle.HIGHEST_PROTOCOL)\n",
        "    embeddings_l.append(embeddings)\n",
        "    if not i[0] in authors_d:\n",
        "        authors_d[i[0]] = len(authors_d)\n",
        "    authors_l.append(authors_d[i[0]])\n",
        "\n",
        "authors_l = np.array(authors_l)\n",
        "model = 0\n",
        "\n",
        "embeddings.shape"
      ],
      "id": "YoTjHqFvwWi-"
    },
    {
      "cell_type": "code",
      "source": [
        "len(embeddings_l[0][0])"
      ],
      "metadata": {
        "id": "1H26rmQ0TkYi",
        "colab": {
          "base_uri": "https://localhost:8080/"
        },
        "outputId": "a9cb9f98-312d-4584-b31e-de92f5b8eb82"
      },
      "id": "1H26rmQ0TkYi",
      "execution_count": null,
      "outputs": [
        {
          "output_type": "execute_result",
          "data": {
            "text/plain": [
              "384"
            ]
          },
          "metadata": {},
          "execution_count": 36
        }
      ]
    },
    {
      "cell_type": "markdown",
      "source": [
        "Cutting the data into smaller, 200-sized parts"
      ],
      "metadata": {
        "id": "HtrKxPtHg8wt"
      },
      "id": "HtrKxPtHg8wt"
    },
    {
      "cell_type": "code",
      "execution_count": null,
      "metadata": {
        "colab": {
          "base_uri": "https://localhost:8080/"
        },
        "id": "KvJPO--JMTYq",
        "outputId": "4f88a4c0-b42e-4a1d-a7e7-8caf61881b43"
      },
      "outputs": [
        {
          "output_type": "execute_result",
          "data": {
            "text/plain": [
              "392802"
            ]
          },
          "metadata": {},
          "execution_count": 76
        }
      ],
      "source": [
        "batches = []\n",
        "authors_b = []\n",
        "batch_len = 2\n",
        "for i in range (0, len(embeddings_l), ):\n",
        "    #s = []\n",
        "    for j in range(0, len(embeddings_l[i])-batch_len, batch_len):\n",
        "        batches.append(embeddings_l[i][j:j+batch_len])\n",
        "        authors_b.append(authors_l[i])\n",
        "\n",
        "batches = np.asarray(batches)\n",
        "authors_b = np.asarray(authors_b)\n",
        "len(authors_b)"
      ],
      "id": "KvJPO--JMTYq"
    },
    {
      "cell_type": "code",
      "source": [
        "batches_sum = []\n",
        "for batch in batches:\n",
        "    batch_sum = np.zeros(384)\n",
        "    for i in batch:\n",
        "        batch_sum += i\n",
        "    batches_sum.append(batch_sum)"
      ],
      "metadata": {
        "id": "10HdWUM7nCcL"
      },
      "id": "10HdWUM7nCcL",
      "execution_count": null,
      "outputs": []
    },
    {
      "cell_type": "code",
      "source": [
        "from sklearn.model_selection import train_test_split\n",
        "from sklearn import svm\n",
        "from sklearn.metrics import accuracy_score"
      ],
      "metadata": {
        "id": "gMvfSrTABF6e"
      },
      "id": "gMvfSrTABF6e",
      "execution_count": null,
      "outputs": []
    },
    {
      "cell_type": "code",
      "source": [
        "x_train, x_test, y_train, y_test = train_test_split(batches_sum, authors_b, test_size=0.2, random_state=42)"
      ],
      "metadata": {
        "id": "fv4MyqpVXa8R"
      },
      "id": "fv4MyqpVXa8R",
      "execution_count": null,
      "outputs": []
    },
    {
      "cell_type": "code",
      "source": [
        "clf = svm.SVC()\n",
        "clf.fit(x_train, y_train)"
      ],
      "metadata": {
        "id": "j9JnHAfVpEhh"
      },
      "id": "j9JnHAfVpEhh",
      "execution_count": null,
      "outputs": []
    },
    {
      "cell_type": "code",
      "source": [
        "svm_pred = clf.predict(x_test)"
      ],
      "metadata": {
        "id": "WjZ1oHUxpK94"
      },
      "id": "WjZ1oHUxpK94",
      "execution_count": null,
      "outputs": []
    },
    {
      "cell_type": "code",
      "source": [
        "import matplotlib.pyplot as plt"
      ],
      "metadata": {
        "id": "91QjsuAP0tnS"
      },
      "id": "91QjsuAP0tnS",
      "execution_count": null,
      "outputs": []
    },
    {
      "cell_type": "code",
      "source": [
        "accuracy_score(y_test, svm_pred)"
      ],
      "metadata": {
        "id": "RfqKewVDrpnA"
      },
      "id": "RfqKewVDrpnA",
      "execution_count": null,
      "outputs": []
    },
    {
      "cell_type": "code",
      "source": [
        "#list(zip(y_test, svm_pred))"
      ],
      "metadata": {
        "id": "VNYRXLpl2SNz"
      },
      "id": "VNYRXLpl2SNz",
      "execution_count": null,
      "outputs": []
    },
    {
      "cell_type": "code",
      "source": [
        "from sklearn.metrics import ConfusionMatrixDisplay\n",
        "cmp = ConfusionMatrixDisplay.from_predictions(y_test, svm_pred)\n",
        "fig, ax = plt.subplots(figsize=(10,10))\n",
        "ax.set_xticklabels(authors_d.keys(), rotation='vertical') \n",
        "cmp.plot(ax=ax)"
      ],
      "metadata": {
        "id": "fQcrVORLvM78"
      },
      "id": "fQcrVORLvM78",
      "execution_count": null,
      "outputs": []
    },
    {
      "cell_type": "markdown",
      "metadata": {
        "id": "eK9E8yfGkZlV"
      },
      "source": [
        "**Neural Network**\n"
      ],
      "id": "eK9E8yfGkZlV"
    },
    {
      "cell_type": "code",
      "execution_count": null,
      "metadata": {
        "id": "ehgp-7a3ngwl"
      },
      "outputs": [],
      "source": [
        "from tensorflow import keras\n",
        "import tensorflow as tf"
      ],
      "id": "ehgp-7a3ngwl"
    },
    {
      "cell_type": "code",
      "execution_count": null,
      "metadata": {
        "id": "oOvGihURHlUH"
      },
      "outputs": [],
      "source": [
        "import random"
      ],
      "id": "oOvGihURHlUH"
    },
    {
      "cell_type": "code",
      "execution_count": null,
      "metadata": {
        "id": "Wn0hxWwQA-Nc"
      },
      "outputs": [],
      "source": [
        "#NUMBER = min(map(len, embeddings_l))\n",
        "#sample = map(lambda x: random.sample(list(x), NUMBER), embeddings_l)\n",
        "#x = tf.data.Dataset.from_tensor_slices(list(sample))"
      ],
      "id": "Wn0hxWwQA-Nc"
    },
    {
      "cell_type": "code",
      "execution_count": null,
      "metadata": {
        "id": "7NwA6ldN_lN_"
      },
      "outputs": [],
      "source": [
        "from sklearn.model_selection import train_test_split\n",
        "X_train, X_test, y_train, y_test = train_test_split(batches, authors_b, test_size=0.20)\n",
        "X_train = np.expand_dims(X_train, axis=-1)\n",
        "X_test = np.expand_dims(X_test, axis=-1)\n",
        "#X_train = x.take(80)\n",
        "#X_test = x.skip(80)\n",
        "\n",
        "#y_train = tf.data.Dataset.from_tensor_slices(list(map(lambda x: tf.convert_to_tensor(x),authors_l[:80])))\n",
        "#y_test = tf.data.Dataset.from_tensor_slices(list(map(lambda x: tf.convert_to_tensor(x),authors_l[80:100])))"
      ],
      "id": "7NwA6ldN_lN_"
    },
    {
      "cell_type": "code",
      "execution_count": null,
      "metadata": {
        "id": "qAErkqoukdSU",
        "colab": {
          "base_uri": "https://localhost:8080/"
        },
        "outputId": "a42faeff-0019-4d50-ee60-2c59c3a74775"
      },
      "outputs": [
        {
          "output_type": "stream",
          "name": "stdout",
          "text": [
            "Model: \"model\"\n",
            "_________________________________________________________________\n",
            " Layer (type)                Output Shape              Param #   \n",
            "=================================================================\n",
            " input_1 (InputLayer)        [(None, 200, 384, 1)]     0         \n",
            "                                                                 \n",
            " conv2d (Conv2D)             (None, 198, 382, 20)      200       \n",
            "                                                                 \n",
            " max_pooling2d (MaxPooling2D  (None, 50, 80, 20)       0         \n",
            " )                                                               \n",
            "                                                                 \n",
            " dense (Dense)               (None, 50, 80, 34)        714       \n",
            "                                                                 \n",
            " dense_1 (Dense)             (None, 50, 80, 1)         35        \n",
            "                                                                 \n",
            "=================================================================\n",
            "Total params: 949\n",
            "Trainable params: 949\n",
            "Non-trainable params: 0\n",
            "_________________________________________________________________\n"
          ]
        }
      ],
      "source": [
        "from keras.models import Sequential\n",
        "from keras import Input, Model\n",
        "from keras.layers import Dense, Conv2D, Conv1D, MaxPooling2D, Reshape\n",
        "\n",
        "'''\n",
        "nn_model = Sequential()\n",
        "#nn_model.add(Input(shape=(None,384,1)))\n",
        "nn_model.add(Input(shape=(None,384)))\n",
        "nn_model.add(Conv1D(filters=48, kernel_size=3, strides=1, activation=\"relu\"))\n",
        "nn_model.add(MaxPooling1D(pool_size=2, strides=4))\n",
        "nn_model.add(Dense(len(authors_d)))\n",
        "nn_model.compile(loss='binary_crossentropy',metrics=['accuracy'])\n",
        "nn_model.summary()\n",
        "'''\n",
        "\n",
        "_inputs = Input(shape=(200, 384, 1), batch_size=None)#embeddings_l.shape[0])\n",
        "_outputs = _inputs\n",
        "#_outputs = Reshape((384,1))(_outputs)\n",
        "_outputs = Conv2D(filters=20, kernel_size=3, activation=\"relu\")(_outputs)\n",
        "_outputs = MaxPooling2D(pool_size=(1,64), strides=4)(_outputs)\n",
        "_outputs = Dense(len(authors_d))(_outputs)\n",
        "_outputs = Dense(1)(_outputs)\n",
        "nn_model = Model(inputs=_inputs, outputs=_outputs)\n",
        "nn_model.compile(loss='binary_crossentropy',metrics=['accuracy'])\n",
        "nn_model.summary()"
      ],
      "id": "qAErkqoukdSU"
    },
    {
      "cell_type": "code",
      "execution_count": null,
      "metadata": {
        "id": "2tu_8ypLhhri",
        "colab": {
          "base_uri": "https://localhost:8080/"
        },
        "outputId": "a53aeb68-ac2a-434d-d985-482ba85111a0"
      },
      "outputs": [
        {
          "output_type": "stream",
          "name": "stdout",
          "text": [
            "(None, 200, 384, 1) <dtype: 'float32'>\n",
            "(None, 50, 80, 1) <dtype: 'float32'>\n",
            "input_1 [(None, 200, 384, 1)] float32\n",
            "conv2d (None, 200, 384, 1) float32\n",
            "max_pooling2d (None, 198, 382, 20) float32\n",
            "dense (None, 50, 80, 20) float32\n",
            "dense_1 (None, 50, 80, 34) float32\n"
          ]
        },
        {
          "output_type": "execute_result",
          "data": {
            "text/plain": [
              "[None, None, None, None, None]"
            ]
          },
          "metadata": {},
          "execution_count": 19
        }
      ],
      "source": [
        "[print(i.shape, i.dtype) for i in nn_model.inputs]\n",
        "[print(o.shape, o.dtype) for o in nn_model.outputs]\n",
        "[print(l.name, l.input_shape, l.dtype) for l in nn_model.layers]"
      ],
      "id": "2tu_8ypLhhri"
    },
    {
      "cell_type": "code",
      "execution_count": null,
      "metadata": {
        "id": "2SHkTOvrBNTm"
      },
      "outputs": [],
      "source": [
        "#history = nn_model.fit(X_train, y_train,\n",
        "#                    epochs=50,\n",
        "#                    verbose=False, validation_data=(X_test, y_test) )\n",
        "#loss, accuracy = nn_model.evaluate(X_train, y_train, verbose=False)\n",
        "#print(\"Training Accuracy: {:.4f}\".format(accuracy))\n",
        "#loss, accuracy = nn_model.evaluate(X_test, y_test, verbose=False)\n",
        "#print(\"Testing Accuracy:  {:.4f}\".format(accuracy))"
      ],
      "id": "2SHkTOvrBNTm"
    },
    {
      "cell_type": "code",
      "execution_count": null,
      "metadata": {
        "id": "oleU1TQv4PN1"
      },
      "outputs": [],
      "source": [
        "#history.history"
      ],
      "id": "oleU1TQv4PN1"
    },
    {
      "cell_type": "code",
      "execution_count": null,
      "metadata": {
        "id": "QQ2RFAzDeF_r",
        "colab": {
          "base_uri": "https://localhost:8080/",
          "height": 70
        },
        "outputId": "3a11f17d-b1ec-4ad2-a922-8ae646c87617"
      },
      "outputs": [
        {
          "output_type": "execute_result",
          "data": {
            "text/plain": [
              "\"\\nif exists('/content/drive/My Drive/model.txt'): # load\\n        with open('/content/drive/My Drive/model.txt', 'rb') as f:\\n            nn_model = pickle.load(f)\\nelse:\\n    with open('/content/drive/My Drive/model.txt', 'wb') as f:\\n        pickle.dump(nn_model, f, pickle.HIGHEST_PROTOCOL)\\n\\n\\nif exists('/content/drive/My Drive/history.txt'): # load\\n        with open('/content/drive/My Drive/history.txt', 'rb') as f:\\n            history = pickle.load(f)\\nelse:\\n    with open('/content/drive/My Drive/history.txt', 'wb') as f:\\n        pickle.dump(history, f, pickle.HIGHEST_PROTOCOL)\\n        \""
            ],
            "application/vnd.google.colaboratory.intrinsic+json": {
              "type": "string"
            }
          },
          "metadata": {},
          "execution_count": 22
        }
      ],
      "source": [
        "\"\"\"\n",
        "if exists('/content/drive/My Drive/model.txt'): # load\n",
        "        with open('/content/drive/My Drive/model.txt', 'rb') as f:\n",
        "            nn_model = pickle.load(f)\n",
        "else:\n",
        "    with open('/content/drive/My Drive/model.txt', 'wb') as f:\n",
        "        pickle.dump(nn_model, f, pickle.HIGHEST_PROTOCOL)\n",
        "\n",
        "\n",
        "if exists('/content/drive/My Drive/history.txt'): # load\n",
        "        with open('/content/drive/My Drive/history.txt', 'rb') as f:\n",
        "            history = pickle.load(f)\n",
        "else:\n",
        "    with open('/content/drive/My Drive/history.txt', 'wb') as f:\n",
        "        pickle.dump(history, f, pickle.HIGHEST_PROTOCOL)\n",
        "        \"\"\""
      ],
      "id": "QQ2RFAzDeF_r"
    },
    {
      "cell_type": "code",
      "execution_count": null,
      "metadata": {
        "id": "DzStWVK5L-2S",
        "colab": {
          "base_uri": "https://localhost:8080/",
          "height": 87
        },
        "outputId": "0ef05004-e295-45b6-b612-360bbe0de22c"
      },
      "outputs": [
        {
          "output_type": "execute_result",
          "data": {
            "text/plain": [
              "\"import matplotlib.pyplot as plt\\nplt.style.use('ggplot')\\n\\ndef plot_history(history):\\n    acc = history.history['accuracy']\\n    val_acc = history.history['val_accuracy']\\n    loss = history.history['loss']\\n    val_loss = history.history['val_loss']\\n    x = range(1, len(acc) + 1)\\n\\n    plt.figure(figsize=(12, 5))\\n    plt.subplot(1, 2, 1)\\n    plt.plot(x, acc, 'b', label='Training acc')\\n    plt.plot(x, val_acc, 'r', label='Validation acc')\\n    plt.title('Training and validation accuracy')\\n    plt.legend()\\n    plt.subplot(1, 2, 2)\\n    plt.plot(x, loss, 'b', label='Training loss')\\n    plt.plot(x, val_loss, 'r', label='Validation loss')\\n    plt.title('Training and validation loss')\\n    plt.legend()\\n\""
            ],
            "application/vnd.google.colaboratory.intrinsic+json": {
              "type": "string"
            }
          },
          "metadata": {},
          "execution_count": 23
        }
      ],
      "source": [
        "\"\"\"import matplotlib.pyplot as plt\n",
        "plt.style.use('ggplot')\n",
        "\n",
        "def plot_history(history):\n",
        "    acc = history.history['accuracy']\n",
        "    val_acc = history.history['val_accuracy']\n",
        "    loss = history.history['loss']\n",
        "    val_loss = history.history['val_loss']\n",
        "    x = range(1, len(acc) + 1)\n",
        "\n",
        "    plt.figure(figsize=(12, 5))\n",
        "    plt.subplot(1, 2, 1)\n",
        "    plt.plot(x, acc, 'b', label='Training acc')\n",
        "    plt.plot(x, val_acc, 'r', label='Validation acc')\n",
        "    plt.title('Training and validation accuracy')\n",
        "    plt.legend()\n",
        "    plt.subplot(1, 2, 2)\n",
        "    plt.plot(x, loss, 'b', label='Training loss')\n",
        "    plt.plot(x, val_loss, 'r', label='Validation loss')\n",
        "    plt.title('Training and validation loss')\n",
        "    plt.legend()\n",
        "\"\"\""
      ],
      "id": "DzStWVK5L-2S"
    },
    {
      "cell_type": "code",
      "execution_count": null,
      "metadata": {
        "id": "8ahqsPcNMCMJ"
      },
      "outputs": [],
      "source": [
        "#plot_history(history)"
      ],
      "id": "8ahqsPcNMCMJ"
    },
    {
      "cell_type": "code",
      "execution_count": null,
      "metadata": {
        "id": "ox-Ifbu4esNm"
      },
      "outputs": [],
      "source": [
        "# import tensorflow as tf\n",
        "# # Define Sequential model with 3 layers\n",
        "# mmodel = keras.Sequential(\n",
        "#     [   Input(shape=(None, 3)),\n",
        "#         Dense(2, activation=\"relu\", name=\"layer1\"),\n",
        "#         #Dense(3, activation=\"relu\", name=\"layer2\"),\n",
        "#         #Dense(4, name=\"layer3\"),\n",
        "#     ]\n",
        "# )\n",
        "# # Call model on a test input\n",
        "# x = tf.ones((3, 3))\n",
        "# y = mmodel(x)\n",
        "# y"
      ],
      "id": "ox-Ifbu4esNm"
    },
    {
      "cell_type": "markdown",
      "source": [
        "**TSAI**"
      ],
      "metadata": {
        "id": "MmSMvGj-K_5h"
      },
      "id": "MmSMvGj-K_5h"
    },
    {
      "cell_type": "code",
      "execution_count": null,
      "metadata": {
        "id": "51iPWvxLEV8-",
        "colab": {
          "base_uri": "https://localhost:8080/",
          "height": 1000
        },
        "outputId": "54839b76-a1d0-408a-c095-0c6a6bb5e596"
      },
      "outputs": [
        {
          "output_type": "stream",
          "name": "stdout",
          "text": [
            "Looking in indexes: https://pypi.org/simple, https://us-python.pkg.dev/colab-wheels/public/simple/\n",
            "Collecting tsai[extras]\n",
            "  Downloading tsai-0.3.1-py3-none-any.whl (241 kB)\n",
            "\u001b[K     |████████████████████████████████| 241 kB 7.4 MB/s \n",
            "\u001b[?25hRequirement already satisfied: imbalanced-learn>=0.8.0 in /usr/local/lib/python3.7/dist-packages (from tsai[extras]) (0.8.1)\n",
            "Collecting torch<1.12,>=1.7.0\n",
            "  Downloading torch-1.11.0-cp37-cp37m-manylinux1_x86_64.whl (750.6 MB)\n",
            "\u001b[K     |████████████████████████████████| 750.6 MB 11 kB/s \n",
            "\u001b[?25hRequirement already satisfied: nbformat>=5.1.3 in /usr/local/lib/python3.7/dist-packages (from tsai[extras]) (5.4.0)\n",
            "Requirement already satisfied: psutil>=5.4.8 in /usr/local/lib/python3.7/dist-packages (from tsai[extras]) (5.4.8)\n",
            "Requirement already satisfied: pip in /usr/local/lib/python3.7/dist-packages (from tsai[extras]) (21.1.3)\n",
            "Collecting pyts>=0.12.0\n",
            "  Downloading pyts-0.12.0-py3-none-any.whl (2.5 MB)\n",
            "\u001b[K     |████████████████████████████████| 2.5 MB 48.9 MB/s \n",
            "\u001b[?25hRequirement already satisfied: fastai>=2.5.6 in /usr/local/lib/python3.7/dist-packages (from tsai[extras]) (2.7.9)\n",
            "Requirement already satisfied: packaging in /usr/local/lib/python3.7/dist-packages (from tsai[extras]) (21.3)\n",
            "Requirement already satisfied: PyWavelets>=1.1.1 in /usr/local/lib/python3.7/dist-packages (from tsai[extras]) (1.3.0)\n",
            "Collecting tsfresh>=0.18.0\n",
            "  Downloading tsfresh-0.19.0-py2.py3-none-any.whl (97 kB)\n",
            "\u001b[K     |████████████████████████████████| 97 kB 9.2 MB/s \n",
            "\u001b[?25hCollecting sktime>=0.10.1\n",
            "  Downloading sktime-0.13.1-py3-none-any.whl (6.9 MB)\n",
            "\u001b[K     |████████████████████████████████| 6.9 MB 14.2 MB/s \n",
            "\u001b[?25hRequirement already satisfied: pyyaml in /usr/local/lib/python3.7/dist-packages (from fastai>=2.5.6->tsai[extras]) (6.0)\n",
            "Requirement already satisfied: pillow>6.0.0 in /usr/local/lib/python3.7/dist-packages (from fastai>=2.5.6->tsai[extras]) (7.1.2)\n",
            "Requirement already satisfied: fastcore<1.6,>=1.4.5 in /usr/local/lib/python3.7/dist-packages (from fastai>=2.5.6->tsai[extras]) (1.5.17)\n",
            "Requirement already satisfied: matplotlib in /usr/local/lib/python3.7/dist-packages (from fastai>=2.5.6->tsai[extras]) (3.2.2)\n",
            "Requirement already satisfied: torchvision>=0.8.2 in /usr/local/lib/python3.7/dist-packages (from fastai>=2.5.6->tsai[extras]) (0.13.1+cu113)\n",
            "Requirement already satisfied: scikit-learn in /usr/local/lib/python3.7/dist-packages (from fastai>=2.5.6->tsai[extras]) (1.0.2)\n",
            "Requirement already satisfied: spacy<4 in /usr/local/lib/python3.7/dist-packages (from fastai>=2.5.6->tsai[extras]) (3.4.1)\n",
            "Requirement already satisfied: pandas in /usr/local/lib/python3.7/dist-packages (from fastai>=2.5.6->tsai[extras]) (1.3.5)\n",
            "Requirement already satisfied: fastdownload<2,>=0.0.5 in /usr/local/lib/python3.7/dist-packages (from fastai>=2.5.6->tsai[extras]) (0.0.7)\n",
            "Requirement already satisfied: fastprogress>=0.2.4 in /usr/local/lib/python3.7/dist-packages (from fastai>=2.5.6->tsai[extras]) (1.0.3)\n",
            "Requirement already satisfied: requests in /usr/local/lib/python3.7/dist-packages (from fastai>=2.5.6->tsai[extras]) (2.23.0)\n",
            "Requirement already satisfied: scipy in /usr/local/lib/python3.7/dist-packages (from fastai>=2.5.6->tsai[extras]) (1.7.3)\n",
            "Requirement already satisfied: joblib>=0.11 in /usr/local/lib/python3.7/dist-packages (from imbalanced-learn>=0.8.0->tsai[extras]) (1.1.0)\n",
            "Requirement already satisfied: numpy>=1.13.3 in /usr/local/lib/python3.7/dist-packages (from imbalanced-learn>=0.8.0->tsai[extras]) (1.21.6)\n",
            "Requirement already satisfied: jsonschema>=2.6 in /usr/local/lib/python3.7/dist-packages (from nbformat>=5.1.3->tsai[extras]) (4.3.3)\n",
            "Requirement already satisfied: fastjsonschema in /usr/local/lib/python3.7/dist-packages (from nbformat>=5.1.3->tsai[extras]) (2.16.1)\n",
            "Requirement already satisfied: jupyter-core in /usr/local/lib/python3.7/dist-packages (from nbformat>=5.1.3->tsai[extras]) (4.11.1)\n",
            "Requirement already satisfied: traitlets>=5.1 in /usr/local/lib/python3.7/dist-packages (from nbformat>=5.1.3->tsai[extras]) (5.1.1)\n",
            "Requirement already satisfied: importlib-resources>=1.4.0 in /usr/local/lib/python3.7/dist-packages (from jsonschema>=2.6->nbformat>=5.1.3->tsai[extras]) (5.9.0)\n",
            "Requirement already satisfied: pyrsistent!=0.17.0,!=0.17.1,!=0.17.2,>=0.14.0 in /usr/local/lib/python3.7/dist-packages (from jsonschema>=2.6->nbformat>=5.1.3->tsai[extras]) (0.18.1)\n",
            "Requirement already satisfied: attrs>=17.4.0 in /usr/local/lib/python3.7/dist-packages (from jsonschema>=2.6->nbformat>=5.1.3->tsai[extras]) (22.1.0)\n",
            "Requirement already satisfied: importlib-metadata in /usr/local/lib/python3.7/dist-packages (from jsonschema>=2.6->nbformat>=5.1.3->tsai[extras]) (4.12.0)\n",
            "Requirement already satisfied: typing-extensions in /usr/local/lib/python3.7/dist-packages (from jsonschema>=2.6->nbformat>=5.1.3->tsai[extras]) (4.1.1)\n",
            "Requirement already satisfied: zipp>=3.1.0 in /usr/local/lib/python3.7/dist-packages (from importlib-resources>=1.4.0->jsonschema>=2.6->nbformat>=5.1.3->tsai[extras]) (3.8.1)\n",
            "Requirement already satisfied: numba>=0.48.0 in /usr/local/lib/python3.7/dist-packages (from pyts>=0.12.0->tsai[extras]) (0.56.0)\n",
            "Requirement already satisfied: llvmlite<0.40,>=0.39.0dev0 in /usr/local/lib/python3.7/dist-packages (from numba>=0.48.0->pyts>=0.12.0->tsai[extras]) (0.39.0)\n",
            "Requirement already satisfied: setuptools in /usr/local/lib/python3.7/dist-packages (from numba>=0.48.0->pyts>=0.12.0->tsai[extras]) (57.4.0)\n",
            "Requirement already satisfied: threadpoolctl>=2.0.0 in /usr/local/lib/python3.7/dist-packages (from scikit-learn->fastai>=2.5.6->tsai[extras]) (3.1.0)\n",
            "Collecting statsmodels>=0.12.1\n",
            "  Downloading statsmodels-0.13.2-cp37-cp37m-manylinux_2_17_x86_64.manylinux2014_x86_64.whl (9.8 MB)\n",
            "\u001b[K     |████████████████████████████████| 9.8 MB 1.5 MB/s \n",
            "\u001b[?25hCollecting deprecated>=1.2.13\n",
            "  Downloading Deprecated-1.2.13-py2.py3-none-any.whl (9.6 kB)\n",
            "Requirement already satisfied: wrapt<2,>=1.10 in /usr/local/lib/python3.7/dist-packages (from deprecated>=1.2.13->sktime>=0.10.1->tsai[extras]) (1.14.1)\n",
            "Requirement already satisfied: python-dateutil>=2.7.3 in /usr/local/lib/python3.7/dist-packages (from pandas->fastai>=2.5.6->tsai[extras]) (2.8.2)\n",
            "Requirement already satisfied: pytz>=2017.3 in /usr/local/lib/python3.7/dist-packages (from pandas->fastai>=2.5.6->tsai[extras]) (2022.2)\n",
            "Requirement already satisfied: six>=1.5 in /usr/local/lib/python3.7/dist-packages (from python-dateutil>=2.7.3->pandas->fastai>=2.5.6->tsai[extras]) (1.15.0)\n",
            "Requirement already satisfied: jinja2 in /usr/local/lib/python3.7/dist-packages (from spacy<4->fastai>=2.5.6->tsai[extras]) (2.11.3)\n",
            "Requirement already satisfied: typer<0.5.0,>=0.3.0 in /usr/local/lib/python3.7/dist-packages (from spacy<4->fastai>=2.5.6->tsai[extras]) (0.4.2)\n",
            "Requirement already satisfied: pydantic!=1.8,!=1.8.1,<1.10.0,>=1.7.4 in /usr/local/lib/python3.7/dist-packages (from spacy<4->fastai>=2.5.6->tsai[extras]) (1.9.2)\n",
            "Requirement already satisfied: tqdm<5.0.0,>=4.38.0 in /usr/local/lib/python3.7/dist-packages (from spacy<4->fastai>=2.5.6->tsai[extras]) (4.64.0)\n",
            "Requirement already satisfied: srsly<3.0.0,>=2.4.3 in /usr/local/lib/python3.7/dist-packages (from spacy<4->fastai>=2.5.6->tsai[extras]) (2.4.4)\n",
            "Requirement already satisfied: wasabi<1.1.0,>=0.9.1 in /usr/local/lib/python3.7/dist-packages (from spacy<4->fastai>=2.5.6->tsai[extras]) (0.10.1)\n",
            "Requirement already satisfied: thinc<8.2.0,>=8.1.0 in /usr/local/lib/python3.7/dist-packages (from spacy<4->fastai>=2.5.6->tsai[extras]) (8.1.0)\n",
            "Requirement already satisfied: catalogue<2.1.0,>=2.0.6 in /usr/local/lib/python3.7/dist-packages (from spacy<4->fastai>=2.5.6->tsai[extras]) (2.0.8)\n",
            "Requirement already satisfied: preshed<3.1.0,>=3.0.2 in /usr/local/lib/python3.7/dist-packages (from spacy<4->fastai>=2.5.6->tsai[extras]) (3.0.6)\n",
            "Requirement already satisfied: pathy>=0.3.5 in /usr/local/lib/python3.7/dist-packages (from spacy<4->fastai>=2.5.6->tsai[extras]) (0.6.2)\n",
            "Requirement already satisfied: spacy-loggers<2.0.0,>=1.0.0 in /usr/local/lib/python3.7/dist-packages (from spacy<4->fastai>=2.5.6->tsai[extras]) (1.0.3)\n",
            "Requirement already satisfied: langcodes<4.0.0,>=3.2.0 in /usr/local/lib/python3.7/dist-packages (from spacy<4->fastai>=2.5.6->tsai[extras]) (3.3.0)\n",
            "Requirement already satisfied: cymem<2.1.0,>=2.0.2 in /usr/local/lib/python3.7/dist-packages (from spacy<4->fastai>=2.5.6->tsai[extras]) (2.0.6)\n",
            "Requirement already satisfied: murmurhash<1.1.0,>=0.28.0 in /usr/local/lib/python3.7/dist-packages (from spacy<4->fastai>=2.5.6->tsai[extras]) (1.0.7)\n",
            "Requirement already satisfied: spacy-legacy<3.1.0,>=3.0.9 in /usr/local/lib/python3.7/dist-packages (from spacy<4->fastai>=2.5.6->tsai[extras]) (3.0.9)\n",
            "Requirement already satisfied: pyparsing!=3.0.5,>=2.0.2 in /usr/local/lib/python3.7/dist-packages (from packaging->tsai[extras]) (3.0.9)\n",
            "Requirement already satisfied: smart-open<6.0.0,>=5.2.1 in /usr/local/lib/python3.7/dist-packages (from pathy>=0.3.5->spacy<4->fastai>=2.5.6->tsai[extras]) (5.2.1)\n",
            "Requirement already satisfied: urllib3!=1.25.0,!=1.25.1,<1.26,>=1.21.1 in /usr/local/lib/python3.7/dist-packages (from requests->fastai>=2.5.6->tsai[extras]) (1.24.3)\n",
            "Requirement already satisfied: idna<3,>=2.5 in /usr/local/lib/python3.7/dist-packages (from requests->fastai>=2.5.6->tsai[extras]) (2.10)\n",
            "Requirement already satisfied: certifi>=2017.4.17 in /usr/local/lib/python3.7/dist-packages (from requests->fastai>=2.5.6->tsai[extras]) (2022.6.15)\n",
            "Requirement already satisfied: chardet<4,>=3.0.2 in /usr/local/lib/python3.7/dist-packages (from requests->fastai>=2.5.6->tsai[extras]) (3.0.4)\n",
            "Requirement already satisfied: patsy>=0.5.2 in /usr/local/lib/python3.7/dist-packages (from statsmodels>=0.12.1->sktime>=0.10.1->tsai[extras]) (0.5.2)\n",
            "Requirement already satisfied: blis<0.8.0,>=0.7.8 in /usr/local/lib/python3.7/dist-packages (from thinc<8.2.0,>=8.1.0->spacy<4->fastai>=2.5.6->tsai[extras]) (0.7.8)\n",
            "Collecting torchvision>=0.8.2\n",
            "  Downloading torchvision-0.13.1-cp37-cp37m-manylinux1_x86_64.whl (19.1 MB)\n",
            "\u001b[K     |████████████████████████████████| 19.1 MB 438 kB/s \n",
            "\u001b[?25h  Downloading torchvision-0.13.0-cp37-cp37m-manylinux1_x86_64.whl (19.1 MB)\n",
            "\u001b[K     |████████████████████████████████| 19.1 MB 1.2 MB/s \n",
            "\u001b[?25h  Downloading torchvision-0.12.0-cp37-cp37m-manylinux1_x86_64.whl (21.0 MB)\n",
            "\u001b[K     |████████████████████████████████| 21.0 MB 742 kB/s \n",
            "\u001b[?25hRequirement already satisfied: dask[dataframe]>=2.9.0 in /usr/local/lib/python3.7/dist-packages (from tsfresh>=0.18.0->tsai[extras]) (2.12.0)\n",
            "Collecting distributed>=2.11.0\n",
            "  Downloading distributed-2022.2.0-py3-none-any.whl (837 kB)\n",
            "\u001b[K     |████████████████████████████████| 837 kB 61.1 MB/s \n",
            "\u001b[?25hCollecting matrixprofile<2.0.0,>=1.1.10\n",
            "  Downloading matrixprofile-1.1.10-cp37-cp37m-manylinux2010_x86_64.whl (1.1 MB)\n",
            "\u001b[K     |████████████████████████████████| 1.1 MB 61.4 MB/s \n",
            "\u001b[?25hRequirement already satisfied: cloudpickle in /usr/local/lib/python3.7/dist-packages (from tsfresh>=0.18.0->tsai[extras]) (1.3.0)\n",
            "Collecting stumpy>=1.7.2\n",
            "  Downloading stumpy-1.11.1-py3-none-any.whl (136 kB)\n",
            "\u001b[K     |████████████████████████████████| 136 kB 79.8 MB/s \n",
            "\u001b[?25hCollecting partd>=0.3.10\n",
            "  Downloading partd-1.3.0-py3-none-any.whl (18 kB)\n",
            "Requirement already satisfied: toolz>=0.7.3 in /usr/local/lib/python3.7/dist-packages (from dask[dataframe]>=2.9.0->tsfresh>=0.18.0->tsai[extras]) (0.12.0)\n",
            "Collecting fsspec>=0.6.0\n",
            "  Downloading fsspec-2022.7.1-py3-none-any.whl (141 kB)\n",
            "\u001b[K     |████████████████████████████████| 141 kB 74.2 MB/s \n",
            "\u001b[?25hRequirement already satisfied: sortedcontainers!=2.0.0,!=2.0.1 in /usr/local/lib/python3.7/dist-packages (from distributed>=2.11.0->tsfresh>=0.18.0->tsai[extras]) (2.4.0)\n",
            "Collecting distributed>=2.11.0\n",
            "  Downloading distributed-2022.1.1-py3-none-any.whl (830 kB)\n",
            "\u001b[K     |████████████████████████████████| 830 kB 67.7 MB/s \n",
            "\u001b[?25hCollecting cloudpickle\n",
            "  Downloading cloudpickle-2.1.0-py3-none-any.whl (25 kB)\n",
            "Requirement already satisfied: zict>=0.1.3 in /usr/local/lib/python3.7/dist-packages (from distributed>=2.11.0->tsfresh>=0.18.0->tsai[extras]) (2.2.0)\n",
            "Requirement already satisfied: tornado>=5 in /usr/local/lib/python3.7/dist-packages (from distributed>=2.11.0->tsfresh>=0.18.0->tsai[extras]) (5.1.1)\n",
            "Requirement already satisfied: click>=6.6 in /usr/local/lib/python3.7/dist-packages (from distributed>=2.11.0->tsfresh>=0.18.0->tsai[extras]) (7.1.2)\n",
            "Collecting distributed>=2.11.0\n",
            "  Downloading distributed-2022.1.0-py3-none-any.whl (822 kB)\n",
            "\u001b[K     |████████████████████████████████| 822 kB 54.2 MB/s \n",
            "\u001b[?25h  Downloading distributed-2021.12.0-py3-none-any.whl (802 kB)\n",
            "\u001b[K     |████████████████████████████████| 802 kB 56.7 MB/s \n",
            "\u001b[?25h  Downloading distributed-2021.11.2-py3-none-any.whl (802 kB)\n",
            "\u001b[K     |████████████████████████████████| 802 kB 56.8 MB/s \n",
            "\u001b[?25h  Downloading distributed-2021.11.1-py3-none-any.whl (793 kB)\n",
            "\u001b[K     |████████████████████████████████| 793 kB 57.1 MB/s \n",
            "\u001b[?25h  Downloading distributed-2021.11.0-py3-none-any.whl (793 kB)\n",
            "\u001b[K     |████████████████████████████████| 793 kB 60.1 MB/s \n",
            "\u001b[?25h  Downloading distributed-2021.10.0-py3-none-any.whl (791 kB)\n",
            "\u001b[K     |████████████████████████████████| 791 kB 58.3 MB/s \n",
            "\u001b[?25h  Downloading distributed-2021.9.1-py3-none-any.whl (786 kB)\n",
            "\u001b[K     |████████████████████████████████| 786 kB 57.8 MB/s \n",
            "\u001b[?25h  Downloading distributed-2021.9.0-py3-none-any.whl (779 kB)\n",
            "\u001b[K     |████████████████████████████████| 779 kB 72.0 MB/s \n",
            "\u001b[?25h  Downloading distributed-2021.8.1-py3-none-any.whl (778 kB)\n",
            "\u001b[K     |████████████████████████████████| 778 kB 57.7 MB/s \n",
            "\u001b[?25h  Downloading distributed-2021.8.0-py3-none-any.whl (776 kB)\n",
            "\u001b[K     |████████████████████████████████| 776 kB 12.4 MB/s \n",
            "\u001b[?25h  Downloading distributed-2021.7.2-py3-none-any.whl (769 kB)\n",
            "\u001b[K     |████████████████████████████████| 769 kB 57.3 MB/s \n",
            "\u001b[?25h  Downloading distributed-2021.7.1-py3-none-any.whl (766 kB)\n",
            "\u001b[K     |████████████████████████████████| 766 kB 50.5 MB/s \n",
            "\u001b[?25h  Downloading distributed-2021.7.0-py3-none-any.whl (1.0 MB)\n",
            "\u001b[K     |████████████████████████████████| 1.0 MB 71.0 MB/s \n",
            "\u001b[?25hRequirement already satisfied: tblib>=1.6.0 in /usr/local/lib/python3.7/dist-packages (from distributed>=2.11.0->tsfresh>=0.18.0->tsai[extras]) (1.7.0)\n",
            "Requirement already satisfied: msgpack>=0.6.0 in /usr/local/lib/python3.7/dist-packages (from distributed>=2.11.0->tsfresh>=0.18.0->tsai[extras]) (1.0.4)\n",
            "  Downloading distributed-2021.6.2-py3-none-any.whl (722 kB)\n",
            "\u001b[K     |████████████████████████████████| 722 kB 67.7 MB/s \n",
            "\u001b[?25h  Downloading distributed-2021.6.1-py3-none-any.whl (722 kB)\n",
            "\u001b[K     |████████████████████████████████| 722 kB 59.2 MB/s \n",
            "\u001b[?25h  Downloading distributed-2021.6.0-py3-none-any.whl (715 kB)\n",
            "\u001b[K     |████████████████████████████████| 715 kB 58.9 MB/s \n",
            "\u001b[?25h  Downloading distributed-2021.5.1-py3-none-any.whl (705 kB)\n",
            "\u001b[K     |████████████████████████████████| 705 kB 61.9 MB/s \n",
            "\u001b[?25h  Downloading distributed-2021.5.0-py3-none-any.whl (699 kB)\n",
            "\u001b[K     |████████████████████████████████| 699 kB 62.7 MB/s \n",
            "\u001b[?25h  Downloading distributed-2021.4.1-py3-none-any.whl (696 kB)\n",
            "\u001b[K     |████████████████████████████████| 696 kB 59.9 MB/s \n",
            "\u001b[?25h  Downloading distributed-2021.4.0-py3-none-any.whl (684 kB)\n",
            "\u001b[K     |████████████████████████████████| 684 kB 57.0 MB/s \n",
            "\u001b[?25h  Downloading distributed-2021.3.1-py3-none-any.whl (679 kB)\n",
            "\u001b[K     |████████████████████████████████| 679 kB 60.7 MB/s \n",
            "\u001b[?25h  Downloading distributed-2021.3.0-py3-none-any.whl (675 kB)\n",
            "\u001b[K     |████████████████████████████████| 675 kB 34.6 MB/s \n",
            "\u001b[?25h  Downloading distributed-2021.2.0-py3-none-any.whl (675 kB)\n",
            "\u001b[K     |████████████████████████████████| 675 kB 60.1 MB/s \n",
            "\u001b[?25h  Downloading distributed-2021.1.1-py3-none-any.whl (672 kB)\n",
            "\u001b[K     |████████████████████████████████| 672 kB 56.4 MB/s \n",
            "\u001b[?25h  Downloading distributed-2021.1.0-py3-none-any.whl (671 kB)\n",
            "\u001b[K     |████████████████████████████████| 671 kB 61.7 MB/s \n",
            "\u001b[?25h  Downloading distributed-2020.12.0-py3-none-any.whl (669 kB)\n",
            "\u001b[K     |████████████████████████████████| 669 kB 60.1 MB/s \n",
            "\u001b[?25h  Downloading distributed-2.30.1-py3-none-any.whl (656 kB)\n",
            "\u001b[K     |████████████████████████████████| 656 kB 61.3 MB/s \n",
            "\u001b[?25hCollecting protobuf==3.11.2\n",
            "  Downloading protobuf-3.11.2-cp37-cp37m-manylinux1_x86_64.whl (1.3 MB)\n",
            "\u001b[K     |████████████████████████████████| 1.3 MB 48.7 MB/s \n",
            "\u001b[?25hRequirement already satisfied: cycler>=0.10 in /usr/local/lib/python3.7/dist-packages (from matplotlib->fastai>=2.5.6->tsai[extras]) (0.11.0)\n",
            "Requirement already satisfied: kiwisolver>=1.0.1 in /usr/local/lib/python3.7/dist-packages (from matplotlib->fastai>=2.5.6->tsai[extras]) (1.4.4)\n",
            "Collecting locket\n",
            "  Downloading locket-1.0.0-py2.py3-none-any.whl (4.4 kB)\n",
            "Requirement already satisfied: heapdict in /usr/local/lib/python3.7/dist-packages (from zict>=0.1.3->distributed>=2.11.0->tsfresh>=0.18.0->tsai[extras]) (1.0.1)\n",
            "Requirement already satisfied: MarkupSafe>=0.23 in /usr/local/lib/python3.7/dist-packages (from jinja2->spacy<4->fastai>=2.5.6->tsai[extras]) (2.0.1)\n",
            "Installing collected packages: torch, locket, torchvision, protobuf, partd, fsspec, cloudpickle, stumpy, statsmodels, pyts, matrixprofile, distributed, deprecated, tsfresh, tsai, sktime\n",
            "  Attempting uninstall: torch\n",
            "    Found existing installation: torch 1.12.1+cu113\n",
            "    Uninstalling torch-1.12.1+cu113:\n",
            "      Successfully uninstalled torch-1.12.1+cu113\n",
            "  Attempting uninstall: torchvision\n",
            "    Found existing installation: torchvision 0.13.1+cu113\n",
            "    Uninstalling torchvision-0.13.1+cu113:\n",
            "      Successfully uninstalled torchvision-0.13.1+cu113\n",
            "  Attempting uninstall: protobuf\n",
            "    Found existing installation: protobuf 3.17.3\n",
            "    Uninstalling protobuf-3.17.3:\n",
            "      Successfully uninstalled protobuf-3.17.3\n",
            "  Attempting uninstall: cloudpickle\n",
            "    Found existing installation: cloudpickle 1.3.0\n",
            "    Uninstalling cloudpickle-1.3.0:\n",
            "      Successfully uninstalled cloudpickle-1.3.0\n",
            "  Attempting uninstall: statsmodels\n",
            "    Found existing installation: statsmodels 0.10.2\n",
            "    Uninstalling statsmodels-0.10.2:\n",
            "      Successfully uninstalled statsmodels-0.10.2\n",
            "  Attempting uninstall: distributed\n",
            "    Found existing installation: distributed 1.25.3\n",
            "    Uninstalling distributed-1.25.3:\n",
            "      Successfully uninstalled distributed-1.25.3\n",
            "\u001b[31mERROR: pip's dependency resolver does not currently take into account all the packages that are installed. This behaviour is the source of the following dependency conflicts.\n",
            "torchtext 0.13.1 requires torch==1.12.1, but you have torch 1.11.0 which is incompatible.\n",
            "torchaudio 0.12.1+cu113 requires torch==1.12.1, but you have torch 1.11.0 which is incompatible.\n",
            "tensorflow-metadata 1.9.0 requires protobuf<4,>=3.13, but you have protobuf 3.11.2 which is incompatible.\n",
            "tensorflow-datasets 4.6.0 requires protobuf>=3.12.2, but you have protobuf 3.11.2 which is incompatible.\n",
            "gym 0.17.3 requires cloudpickle<1.7.0,>=1.2.0, but you have cloudpickle 2.1.0 which is incompatible.\n",
            "googleapis-common-protos 1.56.4 requires protobuf<5.0.0dev,>=3.15.0, but you have protobuf 3.11.2 which is incompatible.\n",
            "google-api-core 1.31.6 requires protobuf<4.0.0dev,>=3.12.0; python_version > \"3\", but you have protobuf 3.11.2 which is incompatible.\u001b[0m\n",
            "Successfully installed cloudpickle-2.1.0 deprecated-1.2.13 distributed-2.30.1 fsspec-2022.7.1 locket-1.0.0 matrixprofile-1.1.10 partd-1.3.0 protobuf-3.11.2 pyts-0.12.0 sktime-0.13.1 statsmodels-0.13.2 stumpy-1.11.1 torch-1.11.0 torchvision-0.12.0 tsai-0.3.1 tsfresh-0.19.0\n"
          ]
        },
        {
          "output_type": "display_data",
          "data": {
            "application/vnd.colab-display-data+json": {
              "pip_warning": {
                "packages": [
                  "google",
                  "torch"
                ]
              }
            }
          },
          "metadata": {}
        }
      ],
      "source": [
        "pip install tsai[extras]6"
      ],
      "id": "51iPWvxLEV8-"
    },
    {
      "cell_type": "code",
      "execution_count": null,
      "metadata": {
        "id": "9vIB__vvF0Uo",
        "colab": {
          "base_uri": "https://localhost:8080/"
        },
        "outputId": "03a26581-5e22-4acf-ae21-1fb43fd1f7bb"
      },
      "outputs": [
        {
          "output_type": "stream",
          "name": "stderr",
          "text": [
            "/usr/local/lib/python3.7/dist-packages/torchvision/io/image.py:13: UserWarning: Failed to load image Python extension: /usr/local/lib/python3.7/dist-packages/torchvision/image.so: undefined symbol: _ZNK3c1010TensorImpl36is_contiguous_nondefault_policy_implENS_12MemoryFormatE\n",
            "  warn(f\"Failed to load image Python extension: {e}\")\n"
          ]
        },
        {
          "output_type": "stream",
          "name": "stdout",
          "text": [
            "os             : Linux-5.4.188+-x86_64-with-Ubuntu-18.04-bionic\n",
            "python         : 3.7.13\n",
            "tsai           : 0.3.1\n",
            "fastai         : 2.7.9\n",
            "fastcore       : 1.5.17\n",
            "torch          : 1.12.1+cu113\n",
            "device         : cpu\n",
            "cpu cores      : 2\n",
            "RAM            : 12.68 GB\n",
            "GPU memory     : N/A\n"
          ]
        }
      ],
      "source": [
        "from tsai.all import *\n",
        "import sktime\n",
        "computer_setup()"
      ],
      "id": "9vIB__vvF0Uo"
    },
    {
      "cell_type": "markdown",
      "source": [
        "do tsai, nie przejmując się podziałem na dokumenty"
      ],
      "metadata": {
        "id": "3UF9STBekA0c"
      },
      "id": "3UF9STBekA0c"
    },
    {
      "cell_type": "code",
      "source": [
        "from sklearn.decomposition import PCA\n",
        "\n",
        "pca = PCA(n_components=50)\n",
        "a = pca.fit_transform(np.reshape(batches, (-1, 384)))\n",
        "pca_comp = np.asarray(pca.components_)"
      ],
      "metadata": {
        "id": "FGT5gzQDQoh1"
      },
      "id": "FGT5gzQDQoh1",
      "execution_count": null,
      "outputs": []
    },
    {
      "cell_type": "code",
      "source": [
        "len(authors_b)"
      ],
      "metadata": {
        "id": "OLwiU8Z8ydcN",
        "colab": {
          "base_uri": "https://localhost:8080/"
        },
        "outputId": "2cdd572c-1375-4af2-e205-a013f3be44c8"
      },
      "id": "OLwiU8Z8ydcN",
      "execution_count": null,
      "outputs": [
        {
          "output_type": "execute_result",
          "data": {
            "text/plain": [
              "3883"
            ]
          },
          "metadata": {},
          "execution_count": 29
        }
      ]
    },
    {
      "cell_type": "code",
      "source": [
        "np.reshape(batches, (-1, 384)).shape"
      ],
      "metadata": {
        "id": "Ayhb05Keym3R",
        "colab": {
          "base_uri": "https://localhost:8080/"
        },
        "outputId": "2876cc1c-1f81-43c5-e0a7-cf206c251242"
      },
      "id": "Ayhb05Keym3R",
      "execution_count": null,
      "outputs": [
        {
          "output_type": "execute_result",
          "data": {
            "text/plain": [
              "(776600, 384)"
            ]
          },
          "metadata": {},
          "execution_count": 30
        }
      ]
    },
    {
      "cell_type": "code",
      "execution_count": null,
      "metadata": {
        "id": "c4U-EA2qF8QU"
      },
      "outputs": [],
      "source": [
        "# X, y, splits = get_classification_data('ECG200', split_data=False)\n",
        "# batch_tfms = TSStandardize()\n",
        "\n",
        "# splits = TimeSplitter(235)(authors_b) \n",
        "# clf = TSClassifier(a, authors_b, splits=splits, path='models', arch=XceptionTime, batch_tfms=batch_tfms, metrics=accuracy, cbs=ShowGraph())\n",
        "# clf.fit_one_cycle(100, 3e-4)\n",
        "# clf.export(\"clf.pkl\")"
      ],
      "id": "c4U-EA2qF8QU"
    },
    {
      "cell_type": "markdown",
      "source": [
        "TSAI Z XceptionTime bez dodawania żadnych informacji"
      ],
      "metadata": {
        "id": "gXYJ2RnLMMVc"
      },
      "id": "gXYJ2RnLMMVc"
    },
    {
      "cell_type": "code",
      "source": [
        "splits = get_splits(authors_b, valid_size=.2, stratify=True, random_state=23, shuffle=True)\n",
        "clf = TSClassifier(np.transpose(batches, (0, 2, 1)), authors_b, splits=splits, path='models', arch=XceptionTime, metrics=accuracy)\n",
        "clf.fit_one_cycle(100, 3e-4)\n",
        "clf.export(\"clf_RTX.pkl\")"
      ],
      "metadata": {
        "id": "81dx_BQb1PnH",
        "colab": {
          "base_uri": "https://localhost:8080/",
          "height": 988
        },
        "outputId": "5c92ca95-91ee-4e78-ff64-3cf78c11f6fc"
      },
      "id": "81dx_BQb1PnH",
      "execution_count": null,
      "outputs": [
        {
          "output_type": "display_data",
          "data": {
            "text/plain": [
              "<Figure size 1152x36 with 1 Axes>"
            ],
            "image/png": "[encoded data removed]"
          },
          "metadata": {
            "needs_background": "light"
          }
        },
        {
          "output_type": "display_data",
          "data": {
            "text/plain": [
              "<IPython.core.display.HTML object>"
            ],
            "text/html": [
              "\n",
              "<style>\n",
              "    /* Turns off some styling */\n",
              "    progress {\n",
              "        /* gets rid of default border in Firefox and Opera. */\n",
              "        border: none;\n",
              "        /* Needs to be in here for Safari polyfill so background images work as expected. */\n",
              "        background-size: auto;\n",
              "    }\n",
              "    .progress-bar-interrupted, .progress-bar-interrupted::-webkit-progress-bar {\n",
              "        background: #F44336;\n",
              "    }\n",
              "</style>\n"
            ]
          },
          "metadata": {}
        },
        {
          "output_type": "display_data",
          "data": {
            "text/plain": [
              "<IPython.core.display.HTML object>"
            ],
            "text/html": [
              "\n",
              "    <div>\n",
              "      <progress value='15' class='' max='100' style='width:300px; height:20px; vertical-align: middle;'></progress>\n",
              "      15.00% [15/100 18:49<1:46:39]\n",
              "    </div>\n",
              "    \n",
              "<table border=\"1\" class=\"dataframe\">\n",
              "  <thead>\n",
              "    <tr style=\"text-align: left;\">\n",
              "      <th>epoch</th>\n",
              "      <th>train_loss</th>\n",
              "      <th>valid_loss</th>\n",
              "      <th>accuracy</th>\n",
              "      <th>time</th>\n",
              "    </tr>\n",
              "  </thead>\n",
              "  <tbody>\n",
              "    <tr>\n",
              "      <td>0</td>\n",
              "      <td>3.477488</td>\n",
              "      <td>3.469415</td>\n",
              "      <td>0.057990</td>\n",
              "      <td>01:23</td>\n",
              "    </tr>\n",
              "    <tr>\n",
              "      <td>1</td>\n",
              "      <td>3.427984</td>\n",
              "      <td>3.381950</td>\n",
              "      <td>0.221649</td>\n",
              "      <td>01:12</td>\n",
              "    </tr>\n",
              "    <tr>\n",
              "      <td>2</td>\n",
              "      <td>3.356895</td>\n",
              "      <td>3.282600</td>\n",
              "      <td>0.389175</td>\n",
              "      <td>01:22</td>\n",
              "    </tr>\n",
              "    <tr>\n",
              "      <td>3</td>\n",
              "      <td>3.261019</td>\n",
              "      <td>3.154124</td>\n",
              "      <td>0.569588</td>\n",
              "      <td>01:14</td>\n",
              "    </tr>\n",
              "    <tr>\n",
              "      <td>4</td>\n",
              "      <td>3.139519</td>\n",
              "      <td>3.006337</td>\n",
              "      <td>0.711340</td>\n",
              "      <td>01:11</td>\n",
              "    </tr>\n",
              "    <tr>\n",
              "      <td>5</td>\n",
              "      <td>2.994392</td>\n",
              "      <td>2.839140</td>\n",
              "      <td>0.811856</td>\n",
              "      <td>01:14</td>\n",
              "    </tr>\n",
              "    <tr>\n",
              "      <td>6</td>\n",
              "      <td>2.833282</td>\n",
              "      <td>2.656198</td>\n",
              "      <td>0.895619</td>\n",
              "      <td>01:11</td>\n",
              "    </tr>\n",
              "    <tr>\n",
              "      <td>7</td>\n",
              "      <td>2.659531</td>\n",
              "      <td>2.428585</td>\n",
              "      <td>0.923969</td>\n",
              "      <td>01:14</td>\n",
              "    </tr>\n",
              "    <tr>\n",
              "      <td>8</td>\n",
              "      <td>2.445920</td>\n",
              "      <td>2.139872</td>\n",
              "      <td>0.944588</td>\n",
              "      <td>01:11</td>\n",
              "    </tr>\n",
              "    <tr>\n",
              "      <td>9</td>\n",
              "      <td>2.180238</td>\n",
              "      <td>1.789334</td>\n",
              "      <td>0.954897</td>\n",
              "      <td>01:14</td>\n",
              "    </tr>\n",
              "    <tr>\n",
              "      <td>10</td>\n",
              "      <td>1.870897</td>\n",
              "      <td>1.417584</td>\n",
              "      <td>0.961340</td>\n",
              "      <td>01:15</td>\n",
              "    </tr>\n",
              "    <tr>\n",
              "      <td>11</td>\n",
              "      <td>1.558387</td>\n",
              "      <td>1.090057</td>\n",
              "      <td>0.970361</td>\n",
              "      <td>01:14</td>\n",
              "    </tr>\n",
              "    <tr>\n",
              "      <td>12</td>\n",
              "      <td>1.273763</td>\n",
              "      <td>0.811830</td>\n",
              "      <td>0.992268</td>\n",
              "      <td>01:19</td>\n",
              "    </tr>\n",
              "    <tr>\n",
              "      <td>13</td>\n",
              "      <td>1.033568</td>\n",
              "      <td>0.601385</td>\n",
              "      <td>0.997423</td>\n",
              "      <td>01:12</td>\n",
              "    </tr>\n",
              "    <tr>\n",
              "      <td>14</td>\n",
              "      <td>0.848650</td>\n",
              "      <td>0.495894</td>\n",
              "      <td>1.000000</td>\n",
              "      <td>01:15</td>\n",
              "    </tr>\n",
              "  </tbody>\n",
              "</table><p>\n",
              "\n",
              "    <div>\n",
              "      <progress value='44' class='' max='48' style='width:300px; height:20px; vertical-align: middle;'></progress>\n",
              "      91.67% [44/48 01:08<00:06 0.7322]\n",
              "    </div>\n",
              "    "
            ]
          },
          "metadata": {}
        },
        {
          "output_type": "error",
          "ename": "KeyboardInterrupt",
          "evalue": "ignored",
          "traceback": [
            "\u001b[0;31m---------------------------------------------------------------------------\u001b[0m",
            "\u001b[0;31mKeyboardInterrupt\u001b[0m                         Traceback (most recent call last)",
            "\u001b[0;32m<ipython-input-32-283875af8584>\u001b[0m in \u001b[0;36m<module>\u001b[0;34m()\u001b[0m\n\u001b[1;32m      1\u001b[0m \u001b[0msplits\u001b[0m \u001b[0;34m=\u001b[0m \u001b[0mget_splits\u001b[0m\u001b[0;34m(\u001b[0m\u001b[0mauthors_b\u001b[0m\u001b[0;34m,\u001b[0m \u001b[0mvalid_size\u001b[0m\u001b[0;34m=\u001b[0m\u001b[0;36m.2\u001b[0m\u001b[0;34m,\u001b[0m \u001b[0mstratify\u001b[0m\u001b[0;34m=\u001b[0m\u001b[0;32mTrue\u001b[0m\u001b[0;34m,\u001b[0m \u001b[0mrandom_state\u001b[0m\u001b[0;34m=\u001b[0m\u001b[0;36m23\u001b[0m\u001b[0;34m,\u001b[0m \u001b[0mshuffle\u001b[0m\u001b[0;34m=\u001b[0m\u001b[0;32mTrue\u001b[0m\u001b[0;34m)\u001b[0m\u001b[0;34m\u001b[0m\u001b[0;34m\u001b[0m\u001b[0m\n\u001b[1;32m      2\u001b[0m \u001b[0mclf\u001b[0m \u001b[0;34m=\u001b[0m \u001b[0mTSClassifier\u001b[0m\u001b[0;34m(\u001b[0m\u001b[0mnp\u001b[0m\u001b[0;34m.\u001b[0m\u001b[0mtranspose\u001b[0m\u001b[0;34m(\u001b[0m\u001b[0mbatches\u001b[0m\u001b[0;34m,\u001b[0m \u001b[0;34m(\u001b[0m\u001b[0;36m0\u001b[0m\u001b[0;34m,\u001b[0m \u001b[0;36m2\u001b[0m\u001b[0;34m,\u001b[0m \u001b[0;36m1\u001b[0m\u001b[0;34m)\u001b[0m\u001b[0;34m)\u001b[0m\u001b[0;34m,\u001b[0m \u001b[0mauthors_b\u001b[0m\u001b[0;34m,\u001b[0m \u001b[0msplits\u001b[0m\u001b[0;34m=\u001b[0m\u001b[0msplits\u001b[0m\u001b[0;34m,\u001b[0m \u001b[0mpath\u001b[0m\u001b[0;34m=\u001b[0m\u001b[0;34m'models'\u001b[0m\u001b[0;34m,\u001b[0m \u001b[0march\u001b[0m\u001b[0;34m=\u001b[0m\u001b[0mXceptionTime\u001b[0m\u001b[0;34m,\u001b[0m \u001b[0mmetrics\u001b[0m\u001b[0;34m=\u001b[0m\u001b[0maccuracy\u001b[0m\u001b[0;34m)\u001b[0m\u001b[0;34m\u001b[0m\u001b[0;34m\u001b[0m\u001b[0m\n\u001b[0;32m----> 3\u001b[0;31m \u001b[0mclf\u001b[0m\u001b[0;34m.\u001b[0m\u001b[0mfit_one_cycle\u001b[0m\u001b[0;34m(\u001b[0m\u001b[0;36m100\u001b[0m\u001b[0;34m,\u001b[0m \u001b[0;36m3e-4\u001b[0m\u001b[0;34m)\u001b[0m\u001b[0;34m\u001b[0m\u001b[0;34m\u001b[0m\u001b[0m\n\u001b[0m\u001b[1;32m      4\u001b[0m \u001b[0mclf\u001b[0m\u001b[0;34m.\u001b[0m\u001b[0mexport\u001b[0m\u001b[0;34m(\u001b[0m\u001b[0;34m\"clf_RTX.pkl\"\u001b[0m\u001b[0;34m)\u001b[0m\u001b[0;34m\u001b[0m\u001b[0;34m\u001b[0m\u001b[0m\n",
            "\u001b[0;32m/usr/local/lib/python3.7/dist-packages/fastai/callback/schedule.py\u001b[0m in \u001b[0;36mfit_one_cycle\u001b[0;34m(self, n_epoch, lr_max, div, div_final, pct_start, wd, moms, cbs, reset_opt, start_epoch)\u001b[0m\n\u001b[1;32m    120\u001b[0m     scheds = {'lr': combined_cos(pct_start, lr_max/div, lr_max, lr_max/div_final),\n\u001b[1;32m    121\u001b[0m               'mom': combined_cos(pct_start, *(self.moms if moms is None else moms))}\n\u001b[0;32m--> 122\u001b[0;31m     \u001b[0mself\u001b[0m\u001b[0;34m.\u001b[0m\u001b[0mfit\u001b[0m\u001b[0;34m(\u001b[0m\u001b[0mn_epoch\u001b[0m\u001b[0;34m,\u001b[0m \u001b[0mcbs\u001b[0m\u001b[0;34m=\u001b[0m\u001b[0mParamScheduler\u001b[0m\u001b[0;34m(\u001b[0m\u001b[0mscheds\u001b[0m\u001b[0;34m)\u001b[0m\u001b[0;34m+\u001b[0m\u001b[0mL\u001b[0m\u001b[0;34m(\u001b[0m\u001b[0mcbs\u001b[0m\u001b[0;34m)\u001b[0m\u001b[0;34m,\u001b[0m \u001b[0mreset_opt\u001b[0m\u001b[0;34m=\u001b[0m\u001b[0mreset_opt\u001b[0m\u001b[0;34m,\u001b[0m \u001b[0mwd\u001b[0m\u001b[0;34m=\u001b[0m\u001b[0mwd\u001b[0m\u001b[0;34m,\u001b[0m \u001b[0mstart_epoch\u001b[0m\u001b[0;34m=\u001b[0m\u001b[0mstart_epoch\u001b[0m\u001b[0;34m)\u001b[0m\u001b[0;34m\u001b[0m\u001b[0;34m\u001b[0m\u001b[0m\n\u001b[0m\u001b[1;32m    123\u001b[0m \u001b[0;34m\u001b[0m\u001b[0m\n\u001b[1;32m    124\u001b[0m \u001b[0;31m# Cell\u001b[0m\u001b[0;34m\u001b[0m\u001b[0;34m\u001b[0m\u001b[0;34m\u001b[0m\u001b[0m\n",
            "\u001b[0;32m/usr/local/lib/python3.7/dist-packages/fastai/learner.py\u001b[0m in \u001b[0;36mfit\u001b[0;34m(self, n_epoch, lr, wd, cbs, reset_opt, start_epoch)\u001b[0m\n\u001b[1;32m    240\u001b[0m             \u001b[0mself\u001b[0m\u001b[0;34m.\u001b[0m\u001b[0mopt\u001b[0m\u001b[0;34m.\u001b[0m\u001b[0mset_hypers\u001b[0m\u001b[0;34m(\u001b[0m\u001b[0mlr\u001b[0m\u001b[0;34m=\u001b[0m\u001b[0mself\u001b[0m\u001b[0;34m.\u001b[0m\u001b[0mlr\u001b[0m \u001b[0;32mif\u001b[0m \u001b[0mlr\u001b[0m \u001b[0;32mis\u001b[0m \u001b[0;32mNone\u001b[0m \u001b[0;32melse\u001b[0m \u001b[0mlr\u001b[0m\u001b[0;34m)\u001b[0m\u001b[0;34m\u001b[0m\u001b[0;34m\u001b[0m\u001b[0m\n\u001b[1;32m    241\u001b[0m             \u001b[0mself\u001b[0m\u001b[0;34m.\u001b[0m\u001b[0mn_epoch\u001b[0m \u001b[0;34m=\u001b[0m \u001b[0mn_epoch\u001b[0m\u001b[0;34m\u001b[0m\u001b[0;34m\u001b[0m\u001b[0m\n\u001b[0;32m--> 242\u001b[0;31m             \u001b[0mself\u001b[0m\u001b[0;34m.\u001b[0m\u001b[0m_with_events\u001b[0m\u001b[0;34m(\u001b[0m\u001b[0mself\u001b[0m\u001b[0;34m.\u001b[0m\u001b[0m_do_fit\u001b[0m\u001b[0;34m,\u001b[0m \u001b[0;34m'fit'\u001b[0m\u001b[0;34m,\u001b[0m \u001b[0mCancelFitException\u001b[0m\u001b[0;34m,\u001b[0m \u001b[0mself\u001b[0m\u001b[0;34m.\u001b[0m\u001b[0m_end_cleanup\u001b[0m\u001b[0;34m)\u001b[0m\u001b[0;34m\u001b[0m\u001b[0;34m\u001b[0m\u001b[0m\n\u001b[0m\u001b[1;32m    243\u001b[0m \u001b[0;34m\u001b[0m\u001b[0m\n\u001b[1;32m    244\u001b[0m     \u001b[0;32mdef\u001b[0m \u001b[0m_end_cleanup\u001b[0m\u001b[0;34m(\u001b[0m\u001b[0mself\u001b[0m\u001b[0;34m)\u001b[0m\u001b[0;34m:\u001b[0m \u001b[0mself\u001b[0m\u001b[0;34m.\u001b[0m\u001b[0mdl\u001b[0m\u001b[0;34m,\u001b[0m\u001b[0mself\u001b[0m\u001b[0;34m.\u001b[0m\u001b[0mxb\u001b[0m\u001b[0;34m,\u001b[0m\u001b[0mself\u001b[0m\u001b[0;34m.\u001b[0m\u001b[0myb\u001b[0m\u001b[0;34m,\u001b[0m\u001b[0mself\u001b[0m\u001b[0;34m.\u001b[0m\u001b[0mpred\u001b[0m\u001b[0;34m,\u001b[0m\u001b[0mself\u001b[0m\u001b[0;34m.\u001b[0m\u001b[0mloss\u001b[0m \u001b[0;34m=\u001b[0m \u001b[0;32mNone\u001b[0m\u001b[0;34m,\u001b[0m\u001b[0;34m(\u001b[0m\u001b[0;32mNone\u001b[0m\u001b[0;34m,\u001b[0m\u001b[0;34m)\u001b[0m\u001b[0;34m,\u001b[0m\u001b[0;34m(\u001b[0m\u001b[0;32mNone\u001b[0m\u001b[0;34m,\u001b[0m\u001b[0;34m)\u001b[0m\u001b[0;34m,\u001b[0m\u001b[0;32mNone\u001b[0m\u001b[0;34m,\u001b[0m\u001b[0;32mNone\u001b[0m\u001b[0;34m\u001b[0m\u001b[0;34m\u001b[0m\u001b[0m\n",
            "\u001b[0;32m/usr/local/lib/python3.7/dist-packages/fastai/learner.py\u001b[0m in \u001b[0;36m_with_events\u001b[0;34m(self, f, event_type, ex, final)\u001b[0m\n\u001b[1;32m    177\u001b[0m \u001b[0;34m\u001b[0m\u001b[0m\n\u001b[1;32m    178\u001b[0m     \u001b[0;32mdef\u001b[0m \u001b[0m_with_events\u001b[0m\u001b[0;34m(\u001b[0m\u001b[0mself\u001b[0m\u001b[0;34m,\u001b[0m \u001b[0mf\u001b[0m\u001b[0;34m,\u001b[0m \u001b[0mevent_type\u001b[0m\u001b[0;34m,\u001b[0m \u001b[0mex\u001b[0m\u001b[0;34m,\u001b[0m \u001b[0mfinal\u001b[0m\u001b[0;34m=\u001b[0m\u001b[0mnoop\u001b[0m\u001b[0;34m)\u001b[0m\u001b[0;34m:\u001b[0m\u001b[0;34m\u001b[0m\u001b[0;34m\u001b[0m\u001b[0m\n\u001b[0;32m--> 179\u001b[0;31m         \u001b[0;32mtry\u001b[0m\u001b[0;34m:\u001b[0m \u001b[0mself\u001b[0m\u001b[0;34m(\u001b[0m\u001b[0;34mf'before_{event_type}'\u001b[0m\u001b[0;34m)\u001b[0m\u001b[0;34m;\u001b[0m  \u001b[0mf\u001b[0m\u001b[0;34m(\u001b[0m\u001b[0;34m)\u001b[0m\u001b[0;34m\u001b[0m\u001b[0;34m\u001b[0m\u001b[0m\n\u001b[0m\u001b[1;32m    180\u001b[0m         \u001b[0;32mexcept\u001b[0m \u001b[0mex\u001b[0m\u001b[0;34m:\u001b[0m \u001b[0mself\u001b[0m\u001b[0;34m(\u001b[0m\u001b[0;34mf'after_cancel_{event_type}'\u001b[0m\u001b[0;34m)\u001b[0m\u001b[0;34m\u001b[0m\u001b[0;34m\u001b[0m\u001b[0m\n\u001b[1;32m    181\u001b[0m         \u001b[0mself\u001b[0m\u001b[0;34m(\u001b[0m\u001b[0;34mf'after_{event_type}'\u001b[0m\u001b[0;34m)\u001b[0m\u001b[0;34m;\u001b[0m  \u001b[0mfinal\u001b[0m\u001b[0;34m(\u001b[0m\u001b[0;34m)\u001b[0m\u001b[0;34m\u001b[0m\u001b[0;34m\u001b[0m\u001b[0m\n",
            "\u001b[0;32m/usr/local/lib/python3.7/dist-packages/fastai/learner.py\u001b[0m in \u001b[0;36m_do_fit\u001b[0;34m(self)\u001b[0m\n\u001b[1;32m    229\u001b[0m         \u001b[0;32mfor\u001b[0m \u001b[0mepoch\u001b[0m \u001b[0;32min\u001b[0m \u001b[0mrange\u001b[0m\u001b[0;34m(\u001b[0m\u001b[0mself\u001b[0m\u001b[0;34m.\u001b[0m\u001b[0mn_epoch\u001b[0m\u001b[0;34m)\u001b[0m\u001b[0;34m:\u001b[0m\u001b[0;34m\u001b[0m\u001b[0;34m\u001b[0m\u001b[0m\n\u001b[1;32m    230\u001b[0m             \u001b[0mself\u001b[0m\u001b[0;34m.\u001b[0m\u001b[0mepoch\u001b[0m\u001b[0;34m=\u001b[0m\u001b[0mepoch\u001b[0m\u001b[0;34m\u001b[0m\u001b[0;34m\u001b[0m\u001b[0m\n\u001b[0;32m--> 231\u001b[0;31m             \u001b[0mself\u001b[0m\u001b[0;34m.\u001b[0m\u001b[0m_with_events\u001b[0m\u001b[0;34m(\u001b[0m\u001b[0mself\u001b[0m\u001b[0;34m.\u001b[0m\u001b[0m_do_epoch\u001b[0m\u001b[0;34m,\u001b[0m \u001b[0;34m'epoch'\u001b[0m\u001b[0;34m,\u001b[0m \u001b[0mCancelEpochException\u001b[0m\u001b[0;34m)\u001b[0m\u001b[0;34m\u001b[0m\u001b[0;34m\u001b[0m\u001b[0m\n\u001b[0m\u001b[1;32m    232\u001b[0m \u001b[0;34m\u001b[0m\u001b[0m\n\u001b[1;32m    233\u001b[0m     \u001b[0;32mdef\u001b[0m \u001b[0mfit\u001b[0m\u001b[0;34m(\u001b[0m\u001b[0mself\u001b[0m\u001b[0;34m,\u001b[0m \u001b[0mn_epoch\u001b[0m\u001b[0;34m,\u001b[0m \u001b[0mlr\u001b[0m\u001b[0;34m=\u001b[0m\u001b[0;32mNone\u001b[0m\u001b[0;34m,\u001b[0m \u001b[0mwd\u001b[0m\u001b[0;34m=\u001b[0m\u001b[0;32mNone\u001b[0m\u001b[0;34m,\u001b[0m \u001b[0mcbs\u001b[0m\u001b[0;34m=\u001b[0m\u001b[0;32mNone\u001b[0m\u001b[0;34m,\u001b[0m \u001b[0mreset_opt\u001b[0m\u001b[0;34m=\u001b[0m\u001b[0;32mFalse\u001b[0m\u001b[0;34m,\u001b[0m \u001b[0mstart_epoch\u001b[0m\u001b[0;34m=\u001b[0m\u001b[0;36m0\u001b[0m\u001b[0;34m)\u001b[0m\u001b[0;34m:\u001b[0m\u001b[0;34m\u001b[0m\u001b[0;34m\u001b[0m\u001b[0m\n",
            "\u001b[0;32m/usr/local/lib/python3.7/dist-packages/fastai/learner.py\u001b[0m in \u001b[0;36m_with_events\u001b[0;34m(self, f, event_type, ex, final)\u001b[0m\n\u001b[1;32m    177\u001b[0m \u001b[0;34m\u001b[0m\u001b[0m\n\u001b[1;32m    178\u001b[0m     \u001b[0;32mdef\u001b[0m \u001b[0m_with_events\u001b[0m\u001b[0;34m(\u001b[0m\u001b[0mself\u001b[0m\u001b[0;34m,\u001b[0m \u001b[0mf\u001b[0m\u001b[0;34m,\u001b[0m \u001b[0mevent_type\u001b[0m\u001b[0;34m,\u001b[0m \u001b[0mex\u001b[0m\u001b[0;34m,\u001b[0m \u001b[0mfinal\u001b[0m\u001b[0;34m=\u001b[0m\u001b[0mnoop\u001b[0m\u001b[0;34m)\u001b[0m\u001b[0;34m:\u001b[0m\u001b[0;34m\u001b[0m\u001b[0;34m\u001b[0m\u001b[0m\n\u001b[0;32m--> 179\u001b[0;31m         \u001b[0;32mtry\u001b[0m\u001b[0;34m:\u001b[0m \u001b[0mself\u001b[0m\u001b[0;34m(\u001b[0m\u001b[0;34mf'before_{event_type}'\u001b[0m\u001b[0;34m)\u001b[0m\u001b[0;34m;\u001b[0m  \u001b[0mf\u001b[0m\u001b[0;34m(\u001b[0m\u001b[0;34m)\u001b[0m\u001b[0;34m\u001b[0m\u001b[0;34m\u001b[0m\u001b[0m\n\u001b[0m\u001b[1;32m    180\u001b[0m         \u001b[0;32mexcept\u001b[0m \u001b[0mex\u001b[0m\u001b[0;34m:\u001b[0m \u001b[0mself\u001b[0m\u001b[0;34m(\u001b[0m\u001b[0;34mf'after_cancel_{event_type}'\u001b[0m\u001b[0;34m)\u001b[0m\u001b[0;34m\u001b[0m\u001b[0;34m\u001b[0m\u001b[0m\n\u001b[1;32m    181\u001b[0m         \u001b[0mself\u001b[0m\u001b[0;34m(\u001b[0m\u001b[0;34mf'after_{event_type}'\u001b[0m\u001b[0;34m)\u001b[0m\u001b[0;34m;\u001b[0m  \u001b[0mfinal\u001b[0m\u001b[0;34m(\u001b[0m\u001b[0;34m)\u001b[0m\u001b[0;34m\u001b[0m\u001b[0;34m\u001b[0m\u001b[0m\n",
            "\u001b[0;32m/usr/local/lib/python3.7/dist-packages/fastai/learner.py\u001b[0m in \u001b[0;36m_do_epoch\u001b[0;34m(self)\u001b[0m\n\u001b[1;32m    223\u001b[0m \u001b[0;34m\u001b[0m\u001b[0m\n\u001b[1;32m    224\u001b[0m     \u001b[0;32mdef\u001b[0m \u001b[0m_do_epoch\u001b[0m\u001b[0;34m(\u001b[0m\u001b[0mself\u001b[0m\u001b[0;34m)\u001b[0m\u001b[0;34m:\u001b[0m\u001b[0;34m\u001b[0m\u001b[0;34m\u001b[0m\u001b[0m\n\u001b[0;32m--> 225\u001b[0;31m         \u001b[0mself\u001b[0m\u001b[0;34m.\u001b[0m\u001b[0m_do_epoch_train\u001b[0m\u001b[0;34m(\u001b[0m\u001b[0;34m)\u001b[0m\u001b[0;34m\u001b[0m\u001b[0;34m\u001b[0m\u001b[0m\n\u001b[0m\u001b[1;32m    226\u001b[0m         \u001b[0mself\u001b[0m\u001b[0;34m.\u001b[0m\u001b[0m_do_epoch_validate\u001b[0m\u001b[0;34m(\u001b[0m\u001b[0;34m)\u001b[0m\u001b[0;34m\u001b[0m\u001b[0;34m\u001b[0m\u001b[0m\n\u001b[1;32m    227\u001b[0m \u001b[0;34m\u001b[0m\u001b[0m\n",
            "\u001b[0;32m/usr/local/lib/python3.7/dist-packages/fastai/learner.py\u001b[0m in \u001b[0;36m_do_epoch_train\u001b[0;34m(self)\u001b[0m\n\u001b[1;32m    215\u001b[0m     \u001b[0;32mdef\u001b[0m \u001b[0m_do_epoch_train\u001b[0m\u001b[0;34m(\u001b[0m\u001b[0mself\u001b[0m\u001b[0;34m)\u001b[0m\u001b[0;34m:\u001b[0m\u001b[0;34m\u001b[0m\u001b[0;34m\u001b[0m\u001b[0m\n\u001b[1;32m    216\u001b[0m         \u001b[0mself\u001b[0m\u001b[0;34m.\u001b[0m\u001b[0mdl\u001b[0m \u001b[0;34m=\u001b[0m \u001b[0mself\u001b[0m\u001b[0;34m.\u001b[0m\u001b[0mdls\u001b[0m\u001b[0;34m.\u001b[0m\u001b[0mtrain\u001b[0m\u001b[0;34m\u001b[0m\u001b[0;34m\u001b[0m\u001b[0m\n\u001b[0;32m--> 217\u001b[0;31m         \u001b[0mself\u001b[0m\u001b[0;34m.\u001b[0m\u001b[0m_with_events\u001b[0m\u001b[0;34m(\u001b[0m\u001b[0mself\u001b[0m\u001b[0;34m.\u001b[0m\u001b[0mall_batches\u001b[0m\u001b[0;34m,\u001b[0m \u001b[0;34m'train'\u001b[0m\u001b[0;34m,\u001b[0m \u001b[0mCancelTrainException\u001b[0m\u001b[0;34m)\u001b[0m\u001b[0;34m\u001b[0m\u001b[0;34m\u001b[0m\u001b[0m\n\u001b[0m\u001b[1;32m    218\u001b[0m \u001b[0;34m\u001b[0m\u001b[0m\n\u001b[1;32m    219\u001b[0m     \u001b[0;32mdef\u001b[0m \u001b[0m_do_epoch_validate\u001b[0m\u001b[0;34m(\u001b[0m\u001b[0mself\u001b[0m\u001b[0;34m,\u001b[0m \u001b[0mds_idx\u001b[0m\u001b[0;34m=\u001b[0m\u001b[0;36m1\u001b[0m\u001b[0;34m,\u001b[0m \u001b[0mdl\u001b[0m\u001b[0;34m=\u001b[0m\u001b[0;32mNone\u001b[0m\u001b[0;34m)\u001b[0m\u001b[0;34m:\u001b[0m\u001b[0;34m\u001b[0m\u001b[0;34m\u001b[0m\u001b[0m\n",
            "\u001b[0;32m/usr/local/lib/python3.7/dist-packages/fastai/learner.py\u001b[0m in \u001b[0;36m_with_events\u001b[0;34m(self, f, event_type, ex, final)\u001b[0m\n\u001b[1;32m    177\u001b[0m \u001b[0;34m\u001b[0m\u001b[0m\n\u001b[1;32m    178\u001b[0m     \u001b[0;32mdef\u001b[0m \u001b[0m_with_events\u001b[0m\u001b[0;34m(\u001b[0m\u001b[0mself\u001b[0m\u001b[0;34m,\u001b[0m \u001b[0mf\u001b[0m\u001b[0;34m,\u001b[0m \u001b[0mevent_type\u001b[0m\u001b[0;34m,\u001b[0m \u001b[0mex\u001b[0m\u001b[0;34m,\u001b[0m \u001b[0mfinal\u001b[0m\u001b[0;34m=\u001b[0m\u001b[0mnoop\u001b[0m\u001b[0;34m)\u001b[0m\u001b[0;34m:\u001b[0m\u001b[0;34m\u001b[0m\u001b[0;34m\u001b[0m\u001b[0m\n\u001b[0;32m--> 179\u001b[0;31m         \u001b[0;32mtry\u001b[0m\u001b[0;34m:\u001b[0m \u001b[0mself\u001b[0m\u001b[0;34m(\u001b[0m\u001b[0;34mf'before_{event_type}'\u001b[0m\u001b[0;34m)\u001b[0m\u001b[0;34m;\u001b[0m  \u001b[0mf\u001b[0m\u001b[0;34m(\u001b[0m\u001b[0;34m)\u001b[0m\u001b[0;34m\u001b[0m\u001b[0;34m\u001b[0m\u001b[0m\n\u001b[0m\u001b[1;32m    180\u001b[0m         \u001b[0;32mexcept\u001b[0m \u001b[0mex\u001b[0m\u001b[0;34m:\u001b[0m \u001b[0mself\u001b[0m\u001b[0;34m(\u001b[0m\u001b[0;34mf'after_cancel_{event_type}'\u001b[0m\u001b[0;34m)\u001b[0m\u001b[0;34m\u001b[0m\u001b[0;34m\u001b[0m\u001b[0m\n\u001b[1;32m    181\u001b[0m         \u001b[0mself\u001b[0m\u001b[0;34m(\u001b[0m\u001b[0;34mf'after_{event_type}'\u001b[0m\u001b[0;34m)\u001b[0m\u001b[0;34m;\u001b[0m  \u001b[0mfinal\u001b[0m\u001b[0;34m(\u001b[0m\u001b[0;34m)\u001b[0m\u001b[0;34m\u001b[0m\u001b[0;34m\u001b[0m\u001b[0m\n",
            "\u001b[0;32m/usr/local/lib/python3.7/dist-packages/fastai/learner.py\u001b[0m in \u001b[0;36mall_batches\u001b[0;34m(self)\u001b[0m\n\u001b[1;32m    183\u001b[0m     \u001b[0;32mdef\u001b[0m \u001b[0mall_batches\u001b[0m\u001b[0;34m(\u001b[0m\u001b[0mself\u001b[0m\u001b[0;34m)\u001b[0m\u001b[0;34m:\u001b[0m\u001b[0;34m\u001b[0m\u001b[0;34m\u001b[0m\u001b[0m\n\u001b[1;32m    184\u001b[0m         \u001b[0mself\u001b[0m\u001b[0;34m.\u001b[0m\u001b[0mn_iter\u001b[0m \u001b[0;34m=\u001b[0m \u001b[0mlen\u001b[0m\u001b[0;34m(\u001b[0m\u001b[0mself\u001b[0m\u001b[0;34m.\u001b[0m\u001b[0mdl\u001b[0m\u001b[0;34m)\u001b[0m\u001b[0;34m\u001b[0m\u001b[0;34m\u001b[0m\u001b[0m\n\u001b[0;32m--> 185\u001b[0;31m         \u001b[0;32mfor\u001b[0m \u001b[0mo\u001b[0m \u001b[0;32min\u001b[0m \u001b[0menumerate\u001b[0m\u001b[0;34m(\u001b[0m\u001b[0mself\u001b[0m\u001b[0;34m.\u001b[0m\u001b[0mdl\u001b[0m\u001b[0;34m)\u001b[0m\u001b[0;34m:\u001b[0m \u001b[0mself\u001b[0m\u001b[0;34m.\u001b[0m\u001b[0mone_batch\u001b[0m\u001b[0;34m(\u001b[0m\u001b[0;34m*\u001b[0m\u001b[0mo\u001b[0m\u001b[0;34m)\u001b[0m\u001b[0;34m\u001b[0m\u001b[0;34m\u001b[0m\u001b[0m\n\u001b[0m\u001b[1;32m    186\u001b[0m \u001b[0;34m\u001b[0m\u001b[0m\n\u001b[1;32m    187\u001b[0m     \u001b[0;32mdef\u001b[0m \u001b[0m_backward\u001b[0m\u001b[0;34m(\u001b[0m\u001b[0mself\u001b[0m\u001b[0;34m)\u001b[0m\u001b[0;34m:\u001b[0m \u001b[0mself\u001b[0m\u001b[0;34m.\u001b[0m\u001b[0mloss_grad\u001b[0m\u001b[0;34m.\u001b[0m\u001b[0mbackward\u001b[0m\u001b[0;34m(\u001b[0m\u001b[0;34m)\u001b[0m\u001b[0;34m\u001b[0m\u001b[0;34m\u001b[0m\u001b[0m\n",
            "\u001b[0;32m/usr/local/lib/python3.7/dist-packages/tsai/learner.py\u001b[0m in \u001b[0;36mone_batch\u001b[0;34m(self, i, b)\u001b[0m\n\u001b[1;32m     36\u001b[0m     \u001b[0mb_on_device\u001b[0m \u001b[0;34m=\u001b[0m \u001b[0mto_device\u001b[0m\u001b[0;34m(\u001b[0m\u001b[0mb\u001b[0m\u001b[0;34m,\u001b[0m \u001b[0mdevice\u001b[0m\u001b[0;34m=\u001b[0m\u001b[0mself\u001b[0m\u001b[0;34m.\u001b[0m\u001b[0mdls\u001b[0m\u001b[0;34m.\u001b[0m\u001b[0mdevice\u001b[0m\u001b[0;34m)\u001b[0m \u001b[0;32mif\u001b[0m \u001b[0mself\u001b[0m\u001b[0;34m.\u001b[0m\u001b[0mdls\u001b[0m\u001b[0;34m.\u001b[0m\u001b[0mdevice\u001b[0m \u001b[0;32mis\u001b[0m \u001b[0;32mnot\u001b[0m \u001b[0;32mNone\u001b[0m \u001b[0;32melse\u001b[0m \u001b[0mb\u001b[0m\u001b[0;34m\u001b[0m\u001b[0;34m\u001b[0m\u001b[0m\n\u001b[1;32m     37\u001b[0m     \u001b[0mself\u001b[0m\u001b[0;34m.\u001b[0m\u001b[0m_split\u001b[0m\u001b[0;34m(\u001b[0m\u001b[0mb_on_device\u001b[0m\u001b[0;34m)\u001b[0m\u001b[0;34m\u001b[0m\u001b[0;34m\u001b[0m\u001b[0m\n\u001b[0;32m---> 38\u001b[0;31m     \u001b[0mself\u001b[0m\u001b[0;34m.\u001b[0m\u001b[0m_with_events\u001b[0m\u001b[0;34m(\u001b[0m\u001b[0mself\u001b[0m\u001b[0;34m.\u001b[0m\u001b[0m_do_one_batch\u001b[0m\u001b[0;34m,\u001b[0m \u001b[0;34m'batch'\u001b[0m\u001b[0;34m,\u001b[0m \u001b[0mCancelBatchException\u001b[0m\u001b[0;34m)\u001b[0m\u001b[0;34m\u001b[0m\u001b[0;34m\u001b[0m\u001b[0m\n\u001b[0m\u001b[1;32m     39\u001b[0m \u001b[0;34m\u001b[0m\u001b[0m\n\u001b[1;32m     40\u001b[0m \u001b[0;31m# Cell\u001b[0m\u001b[0;34m\u001b[0m\u001b[0;34m\u001b[0m\u001b[0;34m\u001b[0m\u001b[0m\n",
            "\u001b[0;32m/usr/local/lib/python3.7/dist-packages/fastai/learner.py\u001b[0m in \u001b[0;36m_with_events\u001b[0;34m(self, f, event_type, ex, final)\u001b[0m\n\u001b[1;32m    177\u001b[0m \u001b[0;34m\u001b[0m\u001b[0m\n\u001b[1;32m    178\u001b[0m     \u001b[0;32mdef\u001b[0m \u001b[0m_with_events\u001b[0m\u001b[0;34m(\u001b[0m\u001b[0mself\u001b[0m\u001b[0;34m,\u001b[0m \u001b[0mf\u001b[0m\u001b[0;34m,\u001b[0m \u001b[0mevent_type\u001b[0m\u001b[0;34m,\u001b[0m \u001b[0mex\u001b[0m\u001b[0;34m,\u001b[0m \u001b[0mfinal\u001b[0m\u001b[0;34m=\u001b[0m\u001b[0mnoop\u001b[0m\u001b[0;34m)\u001b[0m\u001b[0;34m:\u001b[0m\u001b[0;34m\u001b[0m\u001b[0;34m\u001b[0m\u001b[0m\n\u001b[0;32m--> 179\u001b[0;31m         \u001b[0;32mtry\u001b[0m\u001b[0;34m:\u001b[0m \u001b[0mself\u001b[0m\u001b[0;34m(\u001b[0m\u001b[0;34mf'before_{event_type}'\u001b[0m\u001b[0;34m)\u001b[0m\u001b[0;34m;\u001b[0m  \u001b[0mf\u001b[0m\u001b[0;34m(\u001b[0m\u001b[0;34m)\u001b[0m\u001b[0;34m\u001b[0m\u001b[0;34m\u001b[0m\u001b[0m\n\u001b[0m\u001b[1;32m    180\u001b[0m         \u001b[0;32mexcept\u001b[0m \u001b[0mex\u001b[0m\u001b[0;34m:\u001b[0m \u001b[0mself\u001b[0m\u001b[0;34m(\u001b[0m\u001b[0;34mf'after_cancel_{event_type}'\u001b[0m\u001b[0;34m)\u001b[0m\u001b[0;34m\u001b[0m\u001b[0;34m\u001b[0m\u001b[0m\n\u001b[1;32m    181\u001b[0m         \u001b[0mself\u001b[0m\u001b[0;34m(\u001b[0m\u001b[0;34mf'after_{event_type}'\u001b[0m\u001b[0;34m)\u001b[0m\u001b[0;34m;\u001b[0m  \u001b[0mfinal\u001b[0m\u001b[0;34m(\u001b[0m\u001b[0;34m)\u001b[0m\u001b[0;34m\u001b[0m\u001b[0;34m\u001b[0m\u001b[0m\n",
            "\u001b[0;32m/usr/local/lib/python3.7/dist-packages/fastai/learner.py\u001b[0m in \u001b[0;36m_do_one_batch\u001b[0;34m(self)\u001b[0m\n\u001b[1;32m    196\u001b[0m         \u001b[0mself\u001b[0m\u001b[0;34m(\u001b[0m\u001b[0;34m'after_loss'\u001b[0m\u001b[0;34m)\u001b[0m\u001b[0;34m\u001b[0m\u001b[0;34m\u001b[0m\u001b[0m\n\u001b[1;32m    197\u001b[0m         \u001b[0;32mif\u001b[0m \u001b[0;32mnot\u001b[0m \u001b[0mself\u001b[0m\u001b[0;34m.\u001b[0m\u001b[0mtraining\u001b[0m \u001b[0;32mor\u001b[0m \u001b[0;32mnot\u001b[0m \u001b[0mlen\u001b[0m\u001b[0;34m(\u001b[0m\u001b[0mself\u001b[0m\u001b[0;34m.\u001b[0m\u001b[0myb\u001b[0m\u001b[0;34m)\u001b[0m\u001b[0;34m:\u001b[0m \u001b[0;32mreturn\u001b[0m\u001b[0;34m\u001b[0m\u001b[0;34m\u001b[0m\u001b[0m\n\u001b[0;32m--> 198\u001b[0;31m         \u001b[0mself\u001b[0m\u001b[0;34m.\u001b[0m\u001b[0m_with_events\u001b[0m\u001b[0;34m(\u001b[0m\u001b[0mself\u001b[0m\u001b[0;34m.\u001b[0m\u001b[0m_backward\u001b[0m\u001b[0;34m,\u001b[0m \u001b[0;34m'backward'\u001b[0m\u001b[0;34m,\u001b[0m \u001b[0mCancelBackwardException\u001b[0m\u001b[0;34m)\u001b[0m\u001b[0;34m\u001b[0m\u001b[0;34m\u001b[0m\u001b[0m\n\u001b[0m\u001b[1;32m    199\u001b[0m         \u001b[0mself\u001b[0m\u001b[0;34m.\u001b[0m\u001b[0m_with_events\u001b[0m\u001b[0;34m(\u001b[0m\u001b[0mself\u001b[0m\u001b[0;34m.\u001b[0m\u001b[0m_step\u001b[0m\u001b[0;34m,\u001b[0m \u001b[0;34m'step'\u001b[0m\u001b[0;34m,\u001b[0m \u001b[0mCancelStepException\u001b[0m\u001b[0;34m)\u001b[0m\u001b[0;34m\u001b[0m\u001b[0;34m\u001b[0m\u001b[0m\n\u001b[1;32m    200\u001b[0m         \u001b[0mself\u001b[0m\u001b[0;34m.\u001b[0m\u001b[0mopt\u001b[0m\u001b[0;34m.\u001b[0m\u001b[0mzero_grad\u001b[0m\u001b[0;34m(\u001b[0m\u001b[0;34m)\u001b[0m\u001b[0;34m\u001b[0m\u001b[0;34m\u001b[0m\u001b[0m\n",
            "\u001b[0;32m/usr/local/lib/python3.7/dist-packages/fastai/learner.py\u001b[0m in \u001b[0;36m_with_events\u001b[0;34m(self, f, event_type, ex, final)\u001b[0m\n\u001b[1;32m    177\u001b[0m \u001b[0;34m\u001b[0m\u001b[0m\n\u001b[1;32m    178\u001b[0m     \u001b[0;32mdef\u001b[0m \u001b[0m_with_events\u001b[0m\u001b[0;34m(\u001b[0m\u001b[0mself\u001b[0m\u001b[0;34m,\u001b[0m \u001b[0mf\u001b[0m\u001b[0;34m,\u001b[0m \u001b[0mevent_type\u001b[0m\u001b[0;34m,\u001b[0m \u001b[0mex\u001b[0m\u001b[0;34m,\u001b[0m \u001b[0mfinal\u001b[0m\u001b[0;34m=\u001b[0m\u001b[0mnoop\u001b[0m\u001b[0;34m)\u001b[0m\u001b[0;34m:\u001b[0m\u001b[0;34m\u001b[0m\u001b[0;34m\u001b[0m\u001b[0m\n\u001b[0;32m--> 179\u001b[0;31m         \u001b[0;32mtry\u001b[0m\u001b[0;34m:\u001b[0m \u001b[0mself\u001b[0m\u001b[0;34m(\u001b[0m\u001b[0;34mf'before_{event_type}'\u001b[0m\u001b[0;34m)\u001b[0m\u001b[0;34m;\u001b[0m  \u001b[0mf\u001b[0m\u001b[0;34m(\u001b[0m\u001b[0;34m)\u001b[0m\u001b[0;34m\u001b[0m\u001b[0;34m\u001b[0m\u001b[0m\n\u001b[0m\u001b[1;32m    180\u001b[0m         \u001b[0;32mexcept\u001b[0m \u001b[0mex\u001b[0m\u001b[0;34m:\u001b[0m \u001b[0mself\u001b[0m\u001b[0;34m(\u001b[0m\u001b[0;34mf'after_cancel_{event_type}'\u001b[0m\u001b[0;34m)\u001b[0m\u001b[0;34m\u001b[0m\u001b[0;34m\u001b[0m\u001b[0m\n\u001b[1;32m    181\u001b[0m         \u001b[0mself\u001b[0m\u001b[0;34m(\u001b[0m\u001b[0;34mf'after_{event_type}'\u001b[0m\u001b[0;34m)\u001b[0m\u001b[0;34m;\u001b[0m  \u001b[0mfinal\u001b[0m\u001b[0;34m(\u001b[0m\u001b[0;34m)\u001b[0m\u001b[0;34m\u001b[0m\u001b[0;34m\u001b[0m\u001b[0m\n",
            "\u001b[0;32m/usr/local/lib/python3.7/dist-packages/fastai/learner.py\u001b[0m in \u001b[0;36m_backward\u001b[0;34m(self)\u001b[0m\n\u001b[1;32m    185\u001b[0m         \u001b[0;32mfor\u001b[0m \u001b[0mo\u001b[0m \u001b[0;32min\u001b[0m \u001b[0menumerate\u001b[0m\u001b[0;34m(\u001b[0m\u001b[0mself\u001b[0m\u001b[0;34m.\u001b[0m\u001b[0mdl\u001b[0m\u001b[0;34m)\u001b[0m\u001b[0;34m:\u001b[0m \u001b[0mself\u001b[0m\u001b[0;34m.\u001b[0m\u001b[0mone_batch\u001b[0m\u001b[0;34m(\u001b[0m\u001b[0;34m*\u001b[0m\u001b[0mo\u001b[0m\u001b[0;34m)\u001b[0m\u001b[0;34m\u001b[0m\u001b[0;34m\u001b[0m\u001b[0m\n\u001b[1;32m    186\u001b[0m \u001b[0;34m\u001b[0m\u001b[0m\n\u001b[0;32m--> 187\u001b[0;31m     \u001b[0;32mdef\u001b[0m \u001b[0m_backward\u001b[0m\u001b[0;34m(\u001b[0m\u001b[0mself\u001b[0m\u001b[0;34m)\u001b[0m\u001b[0;34m:\u001b[0m \u001b[0mself\u001b[0m\u001b[0;34m.\u001b[0m\u001b[0mloss_grad\u001b[0m\u001b[0;34m.\u001b[0m\u001b[0mbackward\u001b[0m\u001b[0;34m(\u001b[0m\u001b[0;34m)\u001b[0m\u001b[0;34m\u001b[0m\u001b[0;34m\u001b[0m\u001b[0m\n\u001b[0m\u001b[1;32m    188\u001b[0m     \u001b[0;32mdef\u001b[0m \u001b[0m_step\u001b[0m\u001b[0;34m(\u001b[0m\u001b[0mself\u001b[0m\u001b[0;34m)\u001b[0m\u001b[0;34m:\u001b[0m \u001b[0mself\u001b[0m\u001b[0;34m.\u001b[0m\u001b[0mopt\u001b[0m\u001b[0;34m.\u001b[0m\u001b[0mstep\u001b[0m\u001b[0;34m(\u001b[0m\u001b[0;34m)\u001b[0m\u001b[0;34m\u001b[0m\u001b[0;34m\u001b[0m\u001b[0m\n\u001b[1;32m    189\u001b[0m \u001b[0;34m\u001b[0m\u001b[0m\n",
            "\u001b[0;32m/usr/local/lib/python3.7/dist-packages/torch/_tensor.py\u001b[0m in \u001b[0;36mbackward\u001b[0;34m(self, gradient, retain_graph, create_graph, inputs)\u001b[0m\n\u001b[1;32m    360\u001b[0m                 \u001b[0mretain_graph\u001b[0m\u001b[0;34m=\u001b[0m\u001b[0mretain_graph\u001b[0m\u001b[0;34m,\u001b[0m\u001b[0;34m\u001b[0m\u001b[0;34m\u001b[0m\u001b[0m\n\u001b[1;32m    361\u001b[0m                 \u001b[0mcreate_graph\u001b[0m\u001b[0;34m=\u001b[0m\u001b[0mcreate_graph\u001b[0m\u001b[0;34m,\u001b[0m\u001b[0;34m\u001b[0m\u001b[0;34m\u001b[0m\u001b[0m\n\u001b[0;32m--> 362\u001b[0;31m                 inputs=inputs)\n\u001b[0m\u001b[1;32m    363\u001b[0m         \u001b[0mtorch\u001b[0m\u001b[0;34m.\u001b[0m\u001b[0mautograd\u001b[0m\u001b[0;34m.\u001b[0m\u001b[0mbackward\u001b[0m\u001b[0;34m(\u001b[0m\u001b[0mself\u001b[0m\u001b[0;34m,\u001b[0m \u001b[0mgradient\u001b[0m\u001b[0;34m,\u001b[0m \u001b[0mretain_graph\u001b[0m\u001b[0;34m,\u001b[0m \u001b[0mcreate_graph\u001b[0m\u001b[0;34m,\u001b[0m \u001b[0minputs\u001b[0m\u001b[0;34m=\u001b[0m\u001b[0minputs\u001b[0m\u001b[0;34m)\u001b[0m\u001b[0;34m\u001b[0m\u001b[0;34m\u001b[0m\u001b[0m\n\u001b[1;32m    364\u001b[0m \u001b[0;34m\u001b[0m\u001b[0m\n",
            "\u001b[0;32m/usr/local/lib/python3.7/dist-packages/torch/overrides.py\u001b[0m in \u001b[0;36mhandle_torch_function\u001b[0;34m(public_api, relevant_args, *args, **kwargs)\u001b[0m\n\u001b[1;32m   1392\u001b[0m         \u001b[0;31m# Use `public_api` instead of `implementation` so __torch_function__\u001b[0m\u001b[0;34m\u001b[0m\u001b[0;34m\u001b[0m\u001b[0;34m\u001b[0m\u001b[0m\n\u001b[1;32m   1393\u001b[0m         \u001b[0;31m# implementations can do equality/identity comparisons.\u001b[0m\u001b[0;34m\u001b[0m\u001b[0;34m\u001b[0m\u001b[0;34m\u001b[0m\u001b[0m\n\u001b[0;32m-> 1394\u001b[0;31m         \u001b[0mresult\u001b[0m \u001b[0;34m=\u001b[0m \u001b[0mtorch_func_method\u001b[0m\u001b[0;34m(\u001b[0m\u001b[0mpublic_api\u001b[0m\u001b[0;34m,\u001b[0m \u001b[0mtypes\u001b[0m\u001b[0;34m,\u001b[0m \u001b[0margs\u001b[0m\u001b[0;34m,\u001b[0m \u001b[0mkwargs\u001b[0m\u001b[0;34m)\u001b[0m\u001b[0;34m\u001b[0m\u001b[0;34m\u001b[0m\u001b[0m\n\u001b[0m\u001b[1;32m   1395\u001b[0m \u001b[0;34m\u001b[0m\u001b[0m\n\u001b[1;32m   1396\u001b[0m         \u001b[0;32mif\u001b[0m \u001b[0mresult\u001b[0m \u001b[0;32mis\u001b[0m \u001b[0;32mnot\u001b[0m \u001b[0mNotImplemented\u001b[0m\u001b[0;34m:\u001b[0m\u001b[0;34m\u001b[0m\u001b[0;34m\u001b[0m\u001b[0m\n",
            "\u001b[0;32m/usr/local/lib/python3.7/dist-packages/fastai/torch_core.py\u001b[0m in \u001b[0;36m__torch_function__\u001b[0;34m(cls, func, types, args, kwargs)\u001b[0m\n\u001b[1;32m    377\u001b[0m         \u001b[0;32mif\u001b[0m \u001b[0mcls\u001b[0m\u001b[0;34m.\u001b[0m\u001b[0mdebug\u001b[0m \u001b[0;32mand\u001b[0m \u001b[0mfunc\u001b[0m\u001b[0;34m.\u001b[0m\u001b[0m__name__\u001b[0m \u001b[0;32mnot\u001b[0m \u001b[0;32min\u001b[0m \u001b[0;34m(\u001b[0m\u001b[0;34m'__str__'\u001b[0m\u001b[0;34m,\u001b[0m\u001b[0;34m'__repr__'\u001b[0m\u001b[0;34m)\u001b[0m\u001b[0;34m:\u001b[0m \u001b[0mprint\u001b[0m\u001b[0;34m(\u001b[0m\u001b[0mfunc\u001b[0m\u001b[0;34m,\u001b[0m \u001b[0mtypes\u001b[0m\u001b[0;34m,\u001b[0m \u001b[0margs\u001b[0m\u001b[0;34m,\u001b[0m \u001b[0mkwargs\u001b[0m\u001b[0;34m)\u001b[0m\u001b[0;34m\u001b[0m\u001b[0;34m\u001b[0m\u001b[0m\n\u001b[1;32m    378\u001b[0m         \u001b[0;32mif\u001b[0m \u001b[0m_torch_handled\u001b[0m\u001b[0;34m(\u001b[0m\u001b[0margs\u001b[0m\u001b[0;34m,\u001b[0m \u001b[0mcls\u001b[0m\u001b[0;34m.\u001b[0m\u001b[0m_opt\u001b[0m\u001b[0;34m,\u001b[0m \u001b[0mfunc\u001b[0m\u001b[0;34m)\u001b[0m\u001b[0;34m:\u001b[0m \u001b[0mtypes\u001b[0m \u001b[0;34m=\u001b[0m \u001b[0;34m(\u001b[0m\u001b[0mtorch\u001b[0m\u001b[0;34m.\u001b[0m\u001b[0mTensor\u001b[0m\u001b[0;34m,\u001b[0m\u001b[0;34m)\u001b[0m\u001b[0;34m\u001b[0m\u001b[0;34m\u001b[0m\u001b[0m\n\u001b[0;32m--> 379\u001b[0;31m         \u001b[0mres\u001b[0m \u001b[0;34m=\u001b[0m \u001b[0msuper\u001b[0m\u001b[0;34m(\u001b[0m\u001b[0;34m)\u001b[0m\u001b[0;34m.\u001b[0m\u001b[0m__torch_function__\u001b[0m\u001b[0;34m(\u001b[0m\u001b[0mfunc\u001b[0m\u001b[0;34m,\u001b[0m \u001b[0mtypes\u001b[0m\u001b[0;34m,\u001b[0m \u001b[0margs\u001b[0m\u001b[0;34m,\u001b[0m \u001b[0mifnone\u001b[0m\u001b[0;34m(\u001b[0m\u001b[0mkwargs\u001b[0m\u001b[0;34m,\u001b[0m \u001b[0;34m{\u001b[0m\u001b[0;34m}\u001b[0m\u001b[0;34m)\u001b[0m\u001b[0;34m)\u001b[0m\u001b[0;34m\u001b[0m\u001b[0;34m\u001b[0m\u001b[0m\n\u001b[0m\u001b[1;32m    380\u001b[0m         \u001b[0mdict_objs\u001b[0m \u001b[0;34m=\u001b[0m \u001b[0m_find_args\u001b[0m\u001b[0;34m(\u001b[0m\u001b[0margs\u001b[0m\u001b[0;34m)\u001b[0m \u001b[0;32mif\u001b[0m \u001b[0margs\u001b[0m \u001b[0;32melse\u001b[0m \u001b[0m_find_args\u001b[0m\u001b[0;34m(\u001b[0m\u001b[0mlist\u001b[0m\u001b[0;34m(\u001b[0m\u001b[0mkwargs\u001b[0m\u001b[0;34m.\u001b[0m\u001b[0mvalues\u001b[0m\u001b[0;34m(\u001b[0m\u001b[0;34m)\u001b[0m\u001b[0;34m)\u001b[0m\u001b[0;34m)\u001b[0m\u001b[0;34m\u001b[0m\u001b[0;34m\u001b[0m\u001b[0m\n\u001b[1;32m    381\u001b[0m         \u001b[0;32mif\u001b[0m \u001b[0missubclass\u001b[0m\u001b[0;34m(\u001b[0m\u001b[0mtype\u001b[0m\u001b[0;34m(\u001b[0m\u001b[0mres\u001b[0m\u001b[0;34m)\u001b[0m\u001b[0;34m,\u001b[0m\u001b[0mTensorBase\u001b[0m\u001b[0;34m)\u001b[0m \u001b[0;32mand\u001b[0m \u001b[0mdict_objs\u001b[0m\u001b[0;34m:\u001b[0m \u001b[0mres\u001b[0m\u001b[0;34m.\u001b[0m\u001b[0mset_meta\u001b[0m\u001b[0;34m(\u001b[0m\u001b[0mdict_objs\u001b[0m\u001b[0;34m[\u001b[0m\u001b[0;36m0\u001b[0m\u001b[0;34m]\u001b[0m\u001b[0;34m,\u001b[0m\u001b[0mas_copy\u001b[0m\u001b[0;34m=\u001b[0m\u001b[0;32mTrue\u001b[0m\u001b[0;34m)\u001b[0m\u001b[0;34m\u001b[0m\u001b[0;34m\u001b[0m\u001b[0m\n",
            "\u001b[0;32m/usr/local/lib/python3.7/dist-packages/torch/_tensor.py\u001b[0m in \u001b[0;36m__torch_function__\u001b[0;34m(cls, func, types, args, kwargs)\u001b[0m\n\u001b[1;32m   1140\u001b[0m \u001b[0;34m\u001b[0m\u001b[0m\n\u001b[1;32m   1141\u001b[0m         \u001b[0;32mwith\u001b[0m \u001b[0m_C\u001b[0m\u001b[0;34m.\u001b[0m\u001b[0mDisableTorchFunction\u001b[0m\u001b[0;34m(\u001b[0m\u001b[0;34m)\u001b[0m\u001b[0;34m:\u001b[0m\u001b[0;34m\u001b[0m\u001b[0;34m\u001b[0m\u001b[0m\n\u001b[0;32m-> 1142\u001b[0;31m             \u001b[0mret\u001b[0m \u001b[0;34m=\u001b[0m \u001b[0mfunc\u001b[0m\u001b[0;34m(\u001b[0m\u001b[0;34m*\u001b[0m\u001b[0margs\u001b[0m\u001b[0;34m,\u001b[0m \u001b[0;34m**\u001b[0m\u001b[0mkwargs\u001b[0m\u001b[0;34m)\u001b[0m\u001b[0;34m\u001b[0m\u001b[0;34m\u001b[0m\u001b[0m\n\u001b[0m\u001b[1;32m   1143\u001b[0m             \u001b[0;32mif\u001b[0m \u001b[0mfunc\u001b[0m \u001b[0;32min\u001b[0m \u001b[0mget_default_nowrap_functions\u001b[0m\u001b[0;34m(\u001b[0m\u001b[0;34m)\u001b[0m\u001b[0;34m:\u001b[0m\u001b[0;34m\u001b[0m\u001b[0;34m\u001b[0m\u001b[0m\n\u001b[1;32m   1144\u001b[0m                 \u001b[0;32mreturn\u001b[0m \u001b[0mret\u001b[0m\u001b[0;34m\u001b[0m\u001b[0;34m\u001b[0m\u001b[0m\n",
            "\u001b[0;32m/usr/local/lib/python3.7/dist-packages/torch/_tensor.py\u001b[0m in \u001b[0;36mbackward\u001b[0;34m(self, gradient, retain_graph, create_graph, inputs)\u001b[0m\n\u001b[1;32m    361\u001b[0m                 \u001b[0mcreate_graph\u001b[0m\u001b[0;34m=\u001b[0m\u001b[0mcreate_graph\u001b[0m\u001b[0;34m,\u001b[0m\u001b[0;34m\u001b[0m\u001b[0;34m\u001b[0m\u001b[0m\n\u001b[1;32m    362\u001b[0m                 inputs=inputs)\n\u001b[0;32m--> 363\u001b[0;31m         \u001b[0mtorch\u001b[0m\u001b[0;34m.\u001b[0m\u001b[0mautograd\u001b[0m\u001b[0;34m.\u001b[0m\u001b[0mbackward\u001b[0m\u001b[0;34m(\u001b[0m\u001b[0mself\u001b[0m\u001b[0;34m,\u001b[0m \u001b[0mgradient\u001b[0m\u001b[0;34m,\u001b[0m \u001b[0mretain_graph\u001b[0m\u001b[0;34m,\u001b[0m \u001b[0mcreate_graph\u001b[0m\u001b[0;34m,\u001b[0m \u001b[0minputs\u001b[0m\u001b[0;34m=\u001b[0m\u001b[0minputs\u001b[0m\u001b[0;34m)\u001b[0m\u001b[0;34m\u001b[0m\u001b[0;34m\u001b[0m\u001b[0m\n\u001b[0m\u001b[1;32m    364\u001b[0m \u001b[0;34m\u001b[0m\u001b[0m\n\u001b[1;32m    365\u001b[0m     \u001b[0;32mdef\u001b[0m \u001b[0mregister_hook\u001b[0m\u001b[0;34m(\u001b[0m\u001b[0mself\u001b[0m\u001b[0;34m,\u001b[0m \u001b[0mhook\u001b[0m\u001b[0;34m)\u001b[0m\u001b[0;34m:\u001b[0m\u001b[0;34m\u001b[0m\u001b[0;34m\u001b[0m\u001b[0m\n",
            "\u001b[0;32m/usr/local/lib/python3.7/dist-packages/torch/autograd/__init__.py\u001b[0m in \u001b[0;36mbackward\u001b[0;34m(tensors, grad_tensors, retain_graph, create_graph, grad_variables, inputs)\u001b[0m\n\u001b[1;32m    173\u001b[0m     Variable._execution_engine.run_backward(  # Calls into the C++ engine to run the backward pass\n\u001b[1;32m    174\u001b[0m         \u001b[0mtensors\u001b[0m\u001b[0;34m,\u001b[0m \u001b[0mgrad_tensors_\u001b[0m\u001b[0;34m,\u001b[0m \u001b[0mretain_graph\u001b[0m\u001b[0;34m,\u001b[0m \u001b[0mcreate_graph\u001b[0m\u001b[0;34m,\u001b[0m \u001b[0minputs\u001b[0m\u001b[0;34m,\u001b[0m\u001b[0;34m\u001b[0m\u001b[0;34m\u001b[0m\u001b[0m\n\u001b[0;32m--> 175\u001b[0;31m         allow_unreachable=True, accumulate_grad=True)  # Calls into the C++ engine to run the backward pass\n\u001b[0m\u001b[1;32m    176\u001b[0m \u001b[0;34m\u001b[0m\u001b[0m\n\u001b[1;32m    177\u001b[0m def grad(\n",
            "\u001b[0;31mKeyboardInterrupt\u001b[0m: "
          ]
        }
      ]
    },
    {
      "cell_type": "code",
      "source": [
        "l_docs = []\n",
        "for i in l_sents:\n",
        "    l_docs.append(sum(i))"
      ],
      "metadata": {
        "id": "T9OgPjNJzWuo"
      },
      "id": "T9OgPjNJzWuo",
      "execution_count": null,
      "outputs": []
    },
    {
      "cell_type": "markdown",
      "source": [
        "MiniRocket"
      ],
      "metadata": {
        "id": "9ZPHpe4PMS1P"
      },
      "id": "9ZPHpe4PMS1P"
    },
    {
      "cell_type": "code",
      "source": [
        "from tsai.models.MINIROCKET import *\n",
        "splits = TimeSplitter(235)(authors_b) \n",
        "rclf = MiniRocketClassifier(verbose=True)\n",
        "rclf.fit(batches, authors_b)# splits=splits, path='models')"
      ],
      "metadata": {
        "id": "LYo5d38w0MtM"
      },
      "id": "LYo5d38w0MtM",
      "execution_count": null,
      "outputs": []
    },
    {
      "cell_type": "markdown",
      "source": [
        "TSAI z XceptionTime bez dodawania żadnych informacji"
      ],
      "metadata": {
        "id": "23M3mCRMMhjv"
      },
      "id": "23M3mCRMMhjv"
    },
    {
      "cell_type": "code",
      "source": [
        "dls = TSDataLoaders.from_dsets(dsets.train, dsets.valid, bs=[64, 128], batch_tfms=[TSStandardize()], num_workers=0)"
      ],
      "metadata": {
        "id": "u-meJqrWMcVi",
        "colab": {
          "base_uri": "https://localhost:8080/",
          "height": 185
        },
        "outputId": "26c8de45-3e09-4529-b048-eccaa95f82db"
      },
      "id": "u-meJqrWMcVi",
      "execution_count": null,
      "outputs": [
        {
          "output_type": "error",
          "ename": "NameError",
          "evalue": "ignored",
          "traceback": [
            "\u001b[0;31m---------------------------------------------------------------------------\u001b[0m",
            "\u001b[0;31mNameError\u001b[0m                                 Traceback (most recent call last)",
            "\u001b[0;32m<ipython-input-14-fb5333299c0f>\u001b[0m in \u001b[0;36m<module>\u001b[0;34m\u001b[0m\n\u001b[0;32m----> 1\u001b[0;31m \u001b[0mdls\u001b[0m \u001b[0;34m=\u001b[0m \u001b[0mTSDataLoaders\u001b[0m\u001b[0;34m.\u001b[0m\u001b[0mfrom_dsets\u001b[0m\u001b[0;34m(\u001b[0m\u001b[0mdsets\u001b[0m\u001b[0;34m.\u001b[0m\u001b[0mtrain\u001b[0m\u001b[0;34m,\u001b[0m \u001b[0mdsets\u001b[0m\u001b[0;34m.\u001b[0m\u001b[0mvalid\u001b[0m\u001b[0;34m,\u001b[0m \u001b[0mbs\u001b[0m\u001b[0;34m=\u001b[0m\u001b[0;34m[\u001b[0m\u001b[0;36m64\u001b[0m\u001b[0;34m,\u001b[0m \u001b[0;36m128\u001b[0m\u001b[0;34m]\u001b[0m\u001b[0;34m,\u001b[0m \u001b[0mbatch_tfms\u001b[0m\u001b[0;34m=\u001b[0m\u001b[0;34m[\u001b[0m\u001b[0mTSStandardize\u001b[0m\u001b[0;34m(\u001b[0m\u001b[0;34m)\u001b[0m\u001b[0;34m]\u001b[0m\u001b[0;34m,\u001b[0m \u001b[0mnum_workers\u001b[0m\u001b[0;34m=\u001b[0m\u001b[0;36m0\u001b[0m\u001b[0;34m)\u001b[0m\u001b[0;34m\u001b[0m\u001b[0;34m\u001b[0m\u001b[0m\n\u001b[0m",
            "\u001b[0;31mNameError\u001b[0m: name 'dsets' is not defined"
          ]
        }
      ]
    },
    {
      "cell_type": "code",
      "execution_count": null,
      "metadata": {
        "id": "x1z8mTFrJzGU",
        "outputId": "749a6c3a-cf82-4231-9d50-331f0e670ad7",
        "colab": {
          "base_uri": "https://localhost:8080/",
          "height": 202
        }
      },
      "outputs": [
        {
          "output_type": "error",
          "ename": "NameError",
          "evalue": "ignored",
          "traceback": [
            "\u001b[0;31m---------------------------------------------------------------------------\u001b[0m",
            "\u001b[0;31mNameError\u001b[0m                                 Traceback (most recent call last)",
            "\u001b[0;32m<ipython-input-13-30a9d49243b9>\u001b[0m in \u001b[0;36m<module>\u001b[0;34m\u001b[0m\n\u001b[0;32m----> 1\u001b[0;31m \u001b[0mmodel\u001b[0m \u001b[0;34m=\u001b[0m \u001b[0mInceptionTime\u001b[0m\u001b[0;34m(\u001b[0m\u001b[0mdls\u001b[0m\u001b[0;34m.\u001b[0m\u001b[0mvars\u001b[0m\u001b[0;34m,\u001b[0m \u001b[0mdls\u001b[0m\u001b[0;34m.\u001b[0m\u001b[0mc\u001b[0m\u001b[0;34m)\u001b[0m\u001b[0;34m\u001b[0m\u001b[0;34m\u001b[0m\u001b[0m\n\u001b[0m\u001b[1;32m      2\u001b[0m \u001b[0mlearn\u001b[0m \u001b[0;34m=\u001b[0m \u001b[0mLearner\u001b[0m\u001b[0;34m(\u001b[0m\u001b[0mdls\u001b[0m\u001b[0;34m,\u001b[0m \u001b[0mmodel\u001b[0m\u001b[0;34m,\u001b[0m \u001b[0mmetrics\u001b[0m\u001b[0;34m=\u001b[0m\u001b[0maccuracy\u001b[0m\u001b[0;34m)\u001b[0m\u001b[0;34m\u001b[0m\u001b[0;34m\u001b[0m\u001b[0m\n\u001b[1;32m      3\u001b[0m \u001b[0mlearn\u001b[0m\u001b[0;34m.\u001b[0m\u001b[0msave\u001b[0m\u001b[0;34m(\u001b[0m\u001b[0;34m'stage0'\u001b[0m\u001b[0;34m)\u001b[0m\u001b[0;34m\u001b[0m\u001b[0;34m\u001b[0m\u001b[0m\n",
            "\u001b[0;31mNameError\u001b[0m: name 'dls' is not defined"
          ]
        }
      ],
      "source": [
        "model = InceptionTime(dls.vars, dls.c)\n",
        "learn = Learner(dls, model, metrics=accuracy)\n",
        "learn.save('stage0')"
      ],
      "id": "x1z8mTFrJzGU"
    }
  ],
  "metadata": {
    "colab": {
      "collapsed_sections": [],
      "provenance": [],
      "include_colab_link": true
    },
    "kernelspec": {
      "display_name": "Python 3",
      "language": "python",
      "name": "python3"
    },
    "language_info": {
      "codemirror_mode": {
        "name": "ipython",
        "version": 3
      },
      "file_extension": ".py",
      "mimetype": "text/x-python",
      "name": "python",
      "nbconvert_exporter": "python",
      "pygments_lexer": "ipython3",
      "version": "3.8.5"
    },
    "widgets": {
      "application/vnd.jupyter.widget-state+json": {
        "d4a8f88a0d1b436b9b52a29646a17189": {
          "model_module": "@jupyter-widgets/controls",
          "model_name": "HBoxModel",
          "model_module_version": "1.5.0",
          "state": {
            "_dom_classes": [],
            "_model_module": "@jupyter-widgets/controls",
            "_model_module_version": "1.5.0",
            "_model_name": "HBoxModel",
            "_view_count": null,
            "_view_module": "@jupyter-widgets/controls",
            "_view_module_version": "1.5.0",
            "_view_name": "HBoxView",
            "box_style": "",
            "children": [
              "IPY_MODEL_38c8c0b61278482baad33e70e1fa6c43",
              "IPY_MODEL_53934cd5f86449b09194c1b2d383153f",
              "IPY_MODEL_89b05fd083c14715ac2a7b88325fcecd"
            ],
            "layout": "IPY_MODEL_a63dc387a1844febb90163c5284ae364"
          }
        },
        "38c8c0b61278482baad33e70e1fa6c43": {
          "model_module": "@jupyter-widgets/controls",
          "model_name": "HTMLModel",
          "model_module_version": "1.5.0",
          "state": {
            "_dom_classes": [],
            "_model_module": "@jupyter-widgets/controls",
            "_model_module_version": "1.5.0",
            "_model_name": "HTMLModel",
            "_view_count": null,
            "_view_module": "@jupyter-widgets/controls",
            "_view_module_version": "1.5.0",
            "_view_name": "HTMLView",
            "description": "",
            "description_tooltip": null,
            "layout": "IPY_MODEL_ffc5d71eed4c4766933fd0ff6fa641be",
            "placeholder": "​",
            "style": "IPY_MODEL_990cb06f58ac4c16b1ccc60390d587d3",
            "value": "100%"
          }
        },
        "53934cd5f86449b09194c1b2d383153f": {
          "model_module": "@jupyter-widgets/controls",
          "model_name": "FloatProgressModel",
          "model_module_version": "1.5.0",
          "state": {
            "_dom_classes": [],
            "_model_module": "@jupyter-widgets/controls",
            "_model_module_version": "1.5.0",
            "_model_name": "FloatProgressModel",
            "_view_count": null,
            "_view_module": "@jupyter-widgets/controls",
            "_view_module_version": "1.5.0",
            "_view_name": "ProgressView",
            "bar_style": "success",
            "description": "",
            "description_tooltip": null,
            "layout": "IPY_MODEL_6f82082b0fb146609aac7dd57da1c750",
            "max": 100,
            "min": 0,
            "orientation": "horizontal",
            "style": "IPY_MODEL_4045114c8bf140759fd70fd8e9463c83",
            "value": 100
          }
        },
        "89b05fd083c14715ac2a7b88325fcecd": {
          "model_module": "@jupyter-widgets/controls",
          "model_name": "HTMLModel",
          "model_module_version": "1.5.0",
          "state": {
            "_dom_classes": [],
            "_model_module": "@jupyter-widgets/controls",
            "_model_module_version": "1.5.0",
            "_model_name": "HTMLModel",
            "_view_count": null,
            "_view_module": "@jupyter-widgets/controls",
            "_view_module_version": "1.5.0",
            "_view_name": "HTMLView",
            "description": "",
            "description_tooltip": null,
            "layout": "IPY_MODEL_d176a14d754b4da6ac1047c86f72660b",
            "placeholder": "​",
            "style": "IPY_MODEL_58f478833f174bfbaf83bcbeae137e3a",
            "value": " 100/100 [05:52&lt;00:00,  2.52s/it]"
          }
        },
        "a63dc387a1844febb90163c5284ae364": {
          "model_module": "@jupyter-widgets/base",
          "model_name": "LayoutModel",
          "model_module_version": "1.2.0",
          "state": {
            "_model_module": "@jupyter-widgets/base",
            "_model_module_version": "1.2.0",
            "_model_name": "LayoutModel",
            "_view_count": null,
            "_view_module": "@jupyter-widgets/base",
            "_view_module_version": "1.2.0",
            "_view_name": "LayoutView",
            "align_content": null,
            "align_items": null,
            "align_self": null,
            "border": null,
            "bottom": null,
            "display": null,
            "flex": null,
            "flex_flow": null,
            "grid_area": null,
            "grid_auto_columns": null,
            "grid_auto_flow": null,
            "grid_auto_rows": null,
            "grid_column": null,
            "grid_gap": null,
            "grid_row": null,
            "grid_template_areas": null,
            "grid_template_columns": null,
            "grid_template_rows": null,
            "height": null,
            "justify_content": null,
            "justify_items": null,
            "left": null,
            "margin": null,
            "max_height": null,
            "max_width": null,
            "min_height": null,
            "min_width": null,
            "object_fit": null,
            "object_position": null,
            "order": null,
            "overflow": null,
            "overflow_x": null,
            "overflow_y": null,
            "padding": null,
            "right": null,
            "top": null,
            "visibility": null,
            "width": null
          }
        },
        "ffc5d71eed4c4766933fd0ff6fa641be": {
          "model_module": "@jupyter-widgets/base",
          "model_name": "LayoutModel",
          "model_module_version": "1.2.0",
          "state": {
            "_model_module": "@jupyter-widgets/base",
            "_model_module_version": "1.2.0",
            "_model_name": "LayoutModel",
            "_view_count": null,
            "_view_module": "@jupyter-widgets/base",
            "_view_module_version": "1.2.0",
            "_view_name": "LayoutView",
            "align_content": null,
            "align_items": null,
            "align_self": null,
            "border": null,
            "bottom": null,
            "display": null,
            "flex": null,
            "flex_flow": null,
            "grid_area": null,
            "grid_auto_columns": null,
            "grid_auto_flow": null,
            "grid_auto_rows": null,
            "grid_column": null,
            "grid_gap": null,
            "grid_row": null,
            "grid_template_areas": null,
            "grid_template_columns": null,
            "grid_template_rows": null,
            "height": null,
            "justify_content": null,
            "justify_items": null,
            "left": null,
            "margin": null,
            "max_height": null,
            "max_width": null,
            "min_height": null,
            "min_width": null,
            "object_fit": null,
            "object_position": null,
            "order": null,
            "overflow": null,
            "overflow_x": null,
            "overflow_y": null,
            "padding": null,
            "right": null,
            "top": null,
            "visibility": null,
            "width": null
          }
        },
        "990cb06f58ac4c16b1ccc60390d587d3": {
          "model_module": "@jupyter-widgets/controls",
          "model_name": "DescriptionStyleModel",
          "model_module_version": "1.5.0",
          "state": {
            "_model_module": "@jupyter-widgets/controls",
            "_model_module_version": "1.5.0",
            "_model_name": "DescriptionStyleModel",
            "_view_count": null,
            "_view_module": "@jupyter-widgets/base",
            "_view_module_version": "1.2.0",
            "_view_name": "StyleView",
            "description_width": ""
          }
        },
        "6f82082b0fb146609aac7dd57da1c750": {
          "model_module": "@jupyter-widgets/base",
          "model_name": "LayoutModel",
          "model_module_version": "1.2.0",
          "state": {
            "_model_module": "@jupyter-widgets/base",
            "_model_module_version": "1.2.0",
            "_model_name": "LayoutModel",
            "_view_count": null,
            "_view_module": "@jupyter-widgets/base",
            "_view_module_version": "1.2.0",
            "_view_name": "LayoutView",
            "align_content": null,
            "align_items": null,
            "align_self": null,
            "border": null,
            "bottom": null,
            "display": null,
            "flex": null,
            "flex_flow": null,
            "grid_area": null,
            "grid_auto_columns": null,
            "grid_auto_flow": null,
            "grid_auto_rows": null,
            "grid_column": null,
            "grid_gap": null,
            "grid_row": null,
            "grid_template_areas": null,
            "grid_template_columns": null,
            "grid_template_rows": null,
            "height": null,
            "justify_content": null,
            "justify_items": null,
            "left": null,
            "margin": null,
            "max_height": null,
            "max_width": null,
            "min_height": null,
            "min_width": null,
            "object_fit": null,
            "object_position": null,
            "order": null,
            "overflow": null,
            "overflow_x": null,
            "overflow_y": null,
            "padding": null,
            "right": null,
            "top": null,
            "visibility": null,
            "width": null
          }
        },
        "4045114c8bf140759fd70fd8e9463c83": {
          "model_module": "@jupyter-widgets/controls",
          "model_name": "ProgressStyleModel",
          "model_module_version": "1.5.0",
          "state": {
            "_model_module": "@jupyter-widgets/controls",
            "_model_module_version": "1.5.0",
            "_model_name": "ProgressStyleModel",
            "_view_count": null,
            "_view_module": "@jupyter-widgets/base",
            "_view_module_version": "1.2.0",
            "_view_name": "StyleView",
            "bar_color": null,
            "description_width": ""
          }
        },
        "d176a14d754b4da6ac1047c86f72660b": {
          "model_module": "@jupyter-widgets/base",
          "model_name": "LayoutModel",
          "model_module_version": "1.2.0",
          "state": {
            "_model_module": "@jupyter-widgets/base",
            "_model_module_version": "1.2.0",
            "_model_name": "LayoutModel",
            "_view_count": null,
            "_view_module": "@jupyter-widgets/base",
            "_view_module_version": "1.2.0",
            "_view_name": "LayoutView",
            "align_content": null,
            "align_items": null,
            "align_self": null,
            "border": null,
            "bottom": null,
            "display": null,
            "flex": null,
            "flex_flow": null,
            "grid_area": null,
            "grid_auto_columns": null,
            "grid_auto_flow": null,
            "grid_auto_rows": null,
            "grid_column": null,
            "grid_gap": null,
            "grid_row": null,
            "grid_template_areas": null,
            "grid_template_columns": null,
            "grid_template_rows": null,
            "height": null,
            "justify_content": null,
            "justify_items": null,
            "left": null,
            "margin": null,
            "max_height": null,
            "max_width": null,
            "min_height": null,
            "min_width": null,
            "object_fit": null,
            "object_position": null,
            "order": null,
            "overflow": null,
            "overflow_x": null,
            "overflow_y": null,
            "padding": null,
            "right": null,
            "top": null,
            "visibility": null,
            "width": null
          }
        },
        "58f478833f174bfbaf83bcbeae137e3a": {
          "model_module": "@jupyter-widgets/controls",
          "model_name": "DescriptionStyleModel",
          "model_module_version": "1.5.0",
          "state": {
            "_model_module": "@jupyter-widgets/controls",
            "_model_module_version": "1.5.0",
            "_model_name": "DescriptionStyleModel",
            "_view_count": null,
            "_view_module": "@jupyter-widgets/base",
            "_view_module_version": "1.2.0",
            "_view_name": "StyleView",
            "description_width": ""
          }
        },
        "3f4ded25150242b9b78ae2a2382a8132": {
          "model_module": "@jupyter-widgets/controls",
          "model_name": "HBoxModel",
          "model_module_version": "1.5.0",
          "state": {
            "_dom_classes": [],
            "_model_module": "@jupyter-widgets/controls",
            "_model_module_version": "1.5.0",
            "_model_name": "HBoxModel",
            "_view_count": null,
            "_view_module": "@jupyter-widgets/controls",
            "_view_module_version": "1.5.0",
            "_view_name": "HBoxView",
            "box_style": "",
            "children": [
              "IPY_MODEL_bd81ffb63eb7448e85ab2b510427b6e1",
              "IPY_MODEL_7da122388d9b4d1cb3435e8642569798",
              "IPY_MODEL_d06fcf14b403432fbf50a7b4dd442478"
            ],
            "layout": "IPY_MODEL_e706faaaa54847cea83fb233d87f4419"
          }
        },
        "bd81ffb63eb7448e85ab2b510427b6e1": {
          "model_module": "@jupyter-widgets/controls",
          "model_name": "HTMLModel",
          "model_module_version": "1.5.0",
          "state": {
            "_dom_classes": [],
            "_model_module": "@jupyter-widgets/controls",
            "_model_module_version": "1.5.0",
            "_model_name": "HTMLModel",
            "_view_count": null,
            "_view_module": "@jupyter-widgets/controls",
            "_view_module_version": "1.5.0",
            "_view_name": "HTMLView",
            "description": "",
            "description_tooltip": null,
            "layout": "IPY_MODEL_b17b5a8b0fca45bf8482d99caf6900e2",
            "placeholder": "​",
            "style": "IPY_MODEL_dbe6fca90aa64201a7dacfa030f79511",
            "value": "100%"
          }
        },
        "7da122388d9b4d1cb3435e8642569798": {
          "model_module": "@jupyter-widgets/controls",
          "model_name": "FloatProgressModel",
          "model_module_version": "1.5.0",
          "state": {
            "_dom_classes": [],
            "_model_module": "@jupyter-widgets/controls",
            "_model_module_version": "1.5.0",
            "_model_name": "FloatProgressModel",
            "_view_count": null,
            "_view_module": "@jupyter-widgets/controls",
            "_view_module_version": "1.5.0",
            "_view_name": "ProgressView",
            "bar_style": "success",
            "description": "",
            "description_tooltip": null,
            "layout": "IPY_MODEL_297b2ae4d4964ac0914dc078b5187a24",
            "max": 100,
            "min": 0,
            "orientation": "horizontal",
            "style": "IPY_MODEL_16af6d0c75ab4eeeafc7733d20ea6605",
            "value": 100
          }
        },
        "d06fcf14b403432fbf50a7b4dd442478": {
          "model_module": "@jupyter-widgets/controls",
          "model_name": "HTMLModel",
          "model_module_version": "1.5.0",
          "state": {
            "_dom_classes": [],
            "_model_module": "@jupyter-widgets/controls",
            "_model_module_version": "1.5.0",
            "_model_name": "HTMLModel",
            "_view_count": null,
            "_view_module": "@jupyter-widgets/controls",
            "_view_module_version": "1.5.0",
            "_view_name": "HTMLView",
            "description": "",
            "description_tooltip": null,
            "layout": "IPY_MODEL_34b6d9603b8743c89a2c0208f2b24068",
            "placeholder": "​",
            "style": "IPY_MODEL_2c46d30dc72141d5a868145818088184",
            "value": " 100/100 [00:07&lt;00:00, 29.43it/s]"
          }
        },
        "e706faaaa54847cea83fb233d87f4419": {
          "model_module": "@jupyter-widgets/base",
          "model_name": "LayoutModel",
          "model_module_version": "1.2.0",
          "state": {
            "_model_module": "@jupyter-widgets/base",
            "_model_module_version": "1.2.0",
            "_model_name": "LayoutModel",
            "_view_count": null,
            "_view_module": "@jupyter-widgets/base",
            "_view_module_version": "1.2.0",
            "_view_name": "LayoutView",
            "align_content": null,
            "align_items": null,
            "align_self": null,
            "border": null,
            "bottom": null,
            "display": null,
            "flex": null,
            "flex_flow": null,
            "grid_area": null,
            "grid_auto_columns": null,
            "grid_auto_flow": null,
            "grid_auto_rows": null,
            "grid_column": null,
            "grid_gap": null,
            "grid_row": null,
            "grid_template_areas": null,
            "grid_template_columns": null,
            "grid_template_rows": null,
            "height": null,
            "justify_content": null,
            "justify_items": null,
            "left": null,
            "margin": null,
            "max_height": null,
            "max_width": null,
            "min_height": null,
            "min_width": null,
            "object_fit": null,
            "object_position": null,
            "order": null,
            "overflow": null,
            "overflow_x": null,
            "overflow_y": null,
            "padding": null,
            "right": null,
            "top": null,
            "visibility": null,
            "width": null
          }
        },
        "b17b5a8b0fca45bf8482d99caf6900e2": {
          "model_module": "@jupyter-widgets/base",
          "model_name": "LayoutModel",
          "model_module_version": "1.2.0",
          "state": {
            "_model_module": "@jupyter-widgets/base",
            "_model_module_version": "1.2.0",
            "_model_name": "LayoutModel",
            "_view_count": null,
            "_view_module": "@jupyter-widgets/base",
            "_view_module_version": "1.2.0",
            "_view_name": "LayoutView",
            "align_content": null,
            "align_items": null,
            "align_self": null,
            "border": null,
            "bottom": null,
            "display": null,
            "flex": null,
            "flex_flow": null,
            "grid_area": null,
            "grid_auto_columns": null,
            "grid_auto_flow": null,
            "grid_auto_rows": null,
            "grid_column": null,
            "grid_gap": null,
            "grid_row": null,
            "grid_template_areas": null,
            "grid_template_columns": null,
            "grid_template_rows": null,
            "height": null,
            "justify_content": null,
            "justify_items": null,
            "left": null,
            "margin": null,
            "max_height": null,
            "max_width": null,
            "min_height": null,
            "min_width": null,
            "object_fit": null,
            "object_position": null,
            "order": null,
            "overflow": null,
            "overflow_x": null,
            "overflow_y": null,
            "padding": null,
            "right": null,
            "top": null,
            "visibility": null,
            "width": null
          }
        },
        "dbe6fca90aa64201a7dacfa030f79511": {
          "model_module": "@jupyter-widgets/controls",
          "model_name": "DescriptionStyleModel",
          "model_module_version": "1.5.0",
          "state": {
            "_model_module": "@jupyter-widgets/controls",
            "_model_module_version": "1.5.0",
            "_model_name": "DescriptionStyleModel",
            "_view_count": null,
            "_view_module": "@jupyter-widgets/base",
            "_view_module_version": "1.2.0",
            "_view_name": "StyleView",
            "description_width": ""
          }
        },
        "297b2ae4d4964ac0914dc078b5187a24": {
          "model_module": "@jupyter-widgets/base",
          "model_name": "LayoutModel",
          "model_module_version": "1.2.0",
          "state": {
            "_model_module": "@jupyter-widgets/base",
            "_model_module_version": "1.2.0",
            "_model_name": "LayoutModel",
            "_view_count": null,
            "_view_module": "@jupyter-widgets/base",
            "_view_module_version": "1.2.0",
            "_view_name": "LayoutView",
            "align_content": null,
            "align_items": null,
            "align_self": null,
            "border": null,
            "bottom": null,
            "display": null,
            "flex": null,
            "flex_flow": null,
            "grid_area": null,
            "grid_auto_columns": null,
            "grid_auto_flow": null,
            "grid_auto_rows": null,
            "grid_column": null,
            "grid_gap": null,
            "grid_row": null,
            "grid_template_areas": null,
            "grid_template_columns": null,
            "grid_template_rows": null,
            "height": null,
            "justify_content": null,
            "justify_items": null,
            "left": null,
            "margin": null,
            "max_height": null,
            "max_width": null,
            "min_height": null,
            "min_width": null,
            "object_fit": null,
            "object_position": null,
            "order": null,
            "overflow": null,
            "overflow_x": null,
            "overflow_y": null,
            "padding": null,
            "right": null,
            "top": null,
            "visibility": null,
            "width": null
          }
        },
        "16af6d0c75ab4eeeafc7733d20ea6605": {
          "model_module": "@jupyter-widgets/controls",
          "model_name": "ProgressStyleModel",
          "model_module_version": "1.5.0",
          "state": {
            "_model_module": "@jupyter-widgets/controls",
            "_model_module_version": "1.5.0",
            "_model_name": "ProgressStyleModel",
            "_view_count": null,
            "_view_module": "@jupyter-widgets/base",
            "_view_module_version": "1.2.0",
            "_view_name": "StyleView",
            "bar_color": null,
            "description_width": ""
          }
        },
        "34b6d9603b8743c89a2c0208f2b24068": {
          "model_module": "@jupyter-widgets/base",
          "model_name": "LayoutModel",
          "model_module_version": "1.2.0",
          "state": {
            "_model_module": "@jupyter-widgets/base",
            "_model_module_version": "1.2.0",
            "_model_name": "LayoutModel",
            "_view_count": null,
            "_view_module": "@jupyter-widgets/base",
            "_view_module_version": "1.2.0",
            "_view_name": "LayoutView",
            "align_content": null,
            "align_items": null,
            "align_self": null,
            "border": null,
            "bottom": null,
            "display": null,
            "flex": null,
            "flex_flow": null,
            "grid_area": null,
            "grid_auto_columns": null,
            "grid_auto_flow": null,
            "grid_auto_rows": null,
            "grid_column": null,
            "grid_gap": null,
            "grid_row": null,
            "grid_template_areas": null,
            "grid_template_columns": null,
            "grid_template_rows": null,
            "height": null,
            "justify_content": null,
            "justify_items": null,
            "left": null,
            "margin": null,
            "max_height": null,
            "max_width": null,
            "min_height": null,
            "min_width": null,
            "object_fit": null,
            "object_position": null,
            "order": null,
            "overflow": null,
            "overflow_x": null,
            "overflow_y": null,
            "padding": null,
            "right": null,
            "top": null,
            "visibility": null,
            "width": null
          }
        },
        "2c46d30dc72141d5a868145818088184": {
          "model_module": "@jupyter-widgets/controls",
          "model_name": "DescriptionStyleModel",
          "model_module_version": "1.5.0",
          "state": {
            "_model_module": "@jupyter-widgets/controls",
            "_model_module_version": "1.5.0",
            "_model_name": "DescriptionStyleModel",
            "_view_count": null,
            "_view_module": "@jupyter-widgets/base",
            "_view_module_version": "1.2.0",
            "_view_name": "StyleView",
            "description_width": ""
          }
        }
      }
    }
  },
  "nbformat": 4,
  "nbformat_minor": 5
}